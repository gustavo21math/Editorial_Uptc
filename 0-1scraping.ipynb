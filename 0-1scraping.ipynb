{
 "cells": [
  {
   "cell_type": "markdown",
   "metadata": {},
   "source": [
    "# `Scraper` de `Datos Editorial UPTC`"
   ]
  },
  {
   "cell_type": "code",
   "execution_count": 1,
   "metadata": {},
   "outputs": [],
   "source": [
    "import requests\n",
    "from bs4 import BeautifulSoup\n",
    "import json\n",
    "import time\n",
    "import pandas as pd\n",
    "import re"
   ]
  },
  {
   "cell_type": "markdown",
   "metadata": {},
   "source": [
    "## `Scraper` de `URLs` "
   ]
  },
  {
   "cell_type": "code",
   "execution_count": null,
   "metadata": {},
   "outputs": [],
   "source": [
    "#url de libros Uptc\n",
    "url = 'https://editorial.uptc.edu.co/catalogo.html?product_list_limit=60'\n",
    "bucle = 'https://editorial.uptc.edu.co/catalogo.html?p=2&product_list_limit=60'\n",
    "res = requests.get(url)\n",
    "soup = BeautifulSoup(res.text,'html')\n",
    "\n",
    "\n",
    "scrap = soup.find('div',class_=\"sa-product-container-v3 grid\")\n",
    "productos_url = scrap.find_all('li',class_=\"sa-product-item-v3 sa-product_grid_size\")\n",
    "url_libros = [url.find('a')[\"href\"] for url in productos_url]\n",
    "\n",
    "urls = pd.DataFrame(url_libros,columns=['url'])\n",
    "\n",
    "for i in range(2,6):\n",
    "    url = f'https://editorial.uptc.edu.co/catalogo.html?p={i}&product_list_limit=60'\n",
    "    res = requests.get(url)\n",
    "    soup = BeautifulSoup(res.text,'html')\n",
    "    productos_url = soup.find('div',class_=\"sa-product-container-v3 grid\").find_all('li',class_=\"sa-product-item-v3 sa-product_grid_size\")\n",
    "    url_libros = [url.find('a')[\"href\"] for url in productos_url]\n",
    "    urls = pd.concat([urls,pd.DataFrame(url_libros,columns=['url'])])\n"
   ]
  },
  {
   "cell_type": "code",
   "execution_count": null,
   "metadata": {},
   "outputs": [],
   "source": [
    "#urls.to_json('urls.json',index=False)\n",
    "urls.shape"
   ]
  },
  {
   "cell_type": "code",
   "execution_count": 2,
   "metadata": {},
   "outputs": [],
   "source": [
    "url_libros = pd.read_csv('urls.csv')"
   ]
  },
  {
   "cell_type": "code",
   "execution_count": 64,
   "metadata": {},
   "outputs": [],
   "source": [
    "def extraer_palabras_clave(texto):\n",
    "    # Patrón para encontrar palabras clave y sus valores\n",
    "    patron = r'([^:]+):\\s*([^\\n]+)'\n",
    "    # Encontrar todas las coincidencias\n",
    "    coincidencias = re.findall(patron, texto)\n",
    "    \n",
    "    # Crear diccionario con las palabras clave\n",
    "    palabras_clave = {}\n",
    "    for clave, valor in coincidencias:\n",
    "        # Limpiar espacios en blanco\n",
    "        clave = clave.strip()\n",
    "        valor = valor.strip()\n",
    "        palabras_clave[clave] = valor\n",
    "    \n",
    "    return palabras_clave\n",
    "\n",
    "def extraer_info_colaborador(bloque):\n",
    "    # Nombre invertido\n",
    "    nombre_invertido = bloque.split('\\n')[0].strip()\n",
    "    \n",
    "    # ORCID\n",
    "    orcid_match = re.search(r'(https://orcid\\.org/[^\\s]+)', bloque)\n",
    "    orcid = orcid_match.group(1) if orcid_match else None\n",
    "    \n",
    "    # Afiliación\n",
    "    afiliacion_match = re.search(r'Afiliación\\s*\\n([^\\n]+)', bloque)\n",
    "    afiliacion = afiliacion_match.group(1).strip() if afiliacion_match else None\n",
    "    \n",
    "    # Biografía\n",
    "    bio_match = re.search(r'Biografía:\\s*([\\s\\S]+?)(?:\\n\\S|$)', bloque)\n",
    "    if bio_match:\n",
    "        biografia = bio_match.group(1).strip()\n",
    "    else:\n",
    "        # Si no encuentra el patrón, toma todo después de \"Biografía:\"\n",
    "        bio_idx = bloque.find(\"Biografía:\")\n",
    "        biografia = bloque[bio_idx+10:].strip() if bio_idx != -1 else None\n",
    "    \n",
    "    # Email (opcional)\n",
    "    email_match = re.search(r'[\\w\\.-]+@[\\w\\.-]+', bloque)\n",
    "    email = email_match.group(0) if email_match else None\n",
    "\n",
    "    return {\n",
    "        \"nombre_invertido\": nombre_invertido,\n",
    "        \"orcid\": orcid,\n",
    "        \"afiliacion\": afiliacion,\n",
    "        \"biografia\": biografia,\n",
    "        \"email\": email\n",
    "    }\n",
    "\n",
    " "
   ]
  },
  {
   "cell_type": "code",
   "execution_count": 68,
   "metadata": {},
   "outputs": [],
   "source": [
    "temp_datos = []\n",
    "for i in range(1):\n",
    "    titulos = []\n",
    "    autores = []\n",
    "    palabras_clave = []\n",
    "    precios = []\n",
    "    descripcion = []\n",
    "\n",
    "\n",
    "    res = requests.get(url_libros['url'][i])\n",
    "    soup = BeautifulSoup(res.text,'html')\n",
    "    time.sleep(5)\n",
    "    scrap=soup.find('div',class_=\"product-info-main\")\n",
    "    titulos.append(scrap.find('div',class_=\"col-xs-12\").find('h2').text)\n",
    "    ## busquemos lo autores\n",
    "    temp = [i for i in scrap.find_all('div',class_=\"col-xs-12\")]\n",
    "    temp1 =[ a.text for a in temp[1].find_all('a')  if 'products_author' in a['href'] ]\n",
    "    autores.append(temp1)\n",
    "    # busca las palabras clave\n",
    "    temp1 =[ a.text for a in temp[1].find_all('a')  if 'products_keywords' in a['href'] ]\n",
    "    palabras_clave.append(temp1)\n",
    "    # DOi\n",
    "    try:\n",
    "        temp1 =[ a.text for a in temp[1].find_all('a')  if 'products_keywords' not in a['href'] and  'products_author' not in a['href']]\n",
    "        if temp1 != []:\n",
    "            doi = temp1\n",
    "        else :\n",
    "            doi = None \n",
    "    except Exception as e:\n",
    "        print(f'No se encontro doi: {e}')\n",
    "        doi = None\n",
    "\n",
    "    # precios\n",
    "    try:\n",
    "        temp = [a for a in scrap.find_all('div',class_='price-box price-final_price')]\n",
    "        if temp:  # Si hay elementos de precio\n",
    "            temp1 = [a.text.strip() for a in temp]\n",
    "            precios.append(temp1)\n",
    "        else:  # Si no hay elementos de precio\n",
    "            precios.append(['Descargable gratis'])\n",
    "    except Exception as e:\n",
    "        print(f'No se encontro precio: {e}')\n",
    "        precios.append(['Descargable gratis'])\n",
    "    # descripcion\n",
    "    descripcion.append(scrap.find('div',class_='description-wrapper').text)\n",
    "    # eBook\n",
    "    try:\n",
    "        scrap = soup.find('div',class_=\"product-info-metadata\")\n",
    "        metadata_ebook = extraer_palabras_clave(scrap.text)\n",
    "    except Exception as e:\n",
    "        print(f'No se encontro metadata_ebook: {e}')\n",
    "        metadata_ebook = None\n",
    "    #impreso\n",
    "    try:\n",
    "        scrap = soup.find_all('div',class_=\"product-info-metadata\")[1]\n",
    "        metadata_imp = extraer_palabras_clave(scrap.text)\n",
    "    except Exception as e:\n",
    "        print(f'No se encontro metadata_imp: {e}')\n",
    "        metadata_imp = None\n",
    "    #clasificacion de tematica\n",
    "    dato = soup.find('div','item content').text.replace('\\n','')\n",
    "    clasificacion_tematica = dato\n",
    "    #tabla de contenido\n",
    "    a=soup.find('div',class_='product data items').text.find('Tabla de contenido')\n",
    "    b=soup.find('div',class_='product data items').text.find('Colaboradores')\n",
    "    dato = soup.find('div',class_='product data items').text\n",
    "    if a != -1:\n",
    "        tabla_contenido=dato[a:b]\n",
    "    else:\n",
    "        tabla_contenido= None\n",
    "    ## informacion de autores\n",
    "    a=soup.find('div',class_='product data items').text.find('Colaboradores')\n",
    "    dato = soup.find('div',class_='product data items').text\n",
    "    colaboradores_raw = dato[a:].split('Nombre invertido')[1:]\n",
    "    colaboradores = []\n",
    "    for bloque in colaboradores_raw:\n",
    "        info = extraer_info_colaborador(bloque)\n",
    "        colaboradores.append(info)\n",
    "\n",
    "    datos = {\n",
    "            \"title\": titulos,\n",
    "            \"colaboradores\":autores,\n",
    "            \"precio\":precios,\n",
    "            \"palabras clave\":palabras_clave,\n",
    "            \"doi\":doi,\n",
    "            \"descripcion\":descripcion,\n",
    "            \"metadata_ebook\":metadata_ebook,\n",
    "            \"metadata_imp\":metadata_imp,\n",
    "            \"clasificación_temática\":clasificacion_tematica,\n",
    "            'tabla_contenido':tabla_contenido,  \n",
    "            'inf_autores' :colaboradores \n",
    "            }\n",
    "    temp_datos.append(datos)\n",
    "    "
   ]
  },
  {
   "cell_type": "code",
   "execution_count": 70,
   "metadata": {},
   "outputs": [],
   "source": [
    "with open('datos.json', mode='w', encoding='utf-8') as f:\n",
    "   json.dump(temp_datos, f, ensure_ascii=False, indent=4)\n"
   ]
  },
  {
   "cell_type": "code",
   "execution_count": 65,
   "metadata": {},
   "outputs": [],
   "source": [
    "# Inspeccionar la estructura de los datos\n",
    "\n",
    "a=soup.find('div',class_='product data items').text.find('Colaboradores')\n",
    "dato = soup.find('div',class_='product data items').text\n",
    "colaboradores_raw = dato[a:].split('Nombre invertido')[1:]\n",
    "colaboradores = []\n",
    "for bloque in colaboradores_raw:\n",
    "    info = extraer_info_colaborador(bloque)\n",
    "    colaboradores.append(info)"
   ]
  },
  {
   "cell_type": "code",
   "execution_count": 69,
   "metadata": {},
   "outputs": [
    {
     "data": {
      "text/plain": [
       "[{'title': ['Transporte de fluidos bombas centrífugas'],\n",
       "  'colaboradores': [['Otto Caro Niño', 'Orlando Díaz Parra']],\n",
       "  'precio': [['', 'COP $30.000', 'COP $40.000']],\n",
       "  'palabras clave': [['Fluido',\n",
       "    'Sistema de bombeo',\n",
       "    'Bomba centrífuga',\n",
       "    'Mecánica de fluidos',\n",
       "    'Transporte de fluidos',\n",
       "    'Operación y Mantenimiento']],\n",
       "  'doi': ['10.19053/uptc.9789586609265'],\n",
       "  'descripcion': ['\\nUn sistema compuesto por una conducción y sus accesorios, por el que se transporta un fluido presurizado y en el que un dispositivo denominado “bomba hidráulica” interviene para hacer transitar el fluido, se denomina sistema de bombeo. Por sistemas de bombeo se transporta, entre otros, agua para riego, en plantas de potabilización y tratamiento, en redes de distribución de agua potable e industrial, así como también en sistemas de enfriamiento y calentamiento. Industrialmente se transporta, además de agua, leche y sus derivados, jugos y alimentos, muy diversos tipos de aceites y combustibles, lodos y otras sustancias líquidas o mezclas fluidas como el concreto.Basados en la experiencia académica y profesional de los autores, en este libro se muestra la aplicación de conceptos de mecánica de fluidos que son fundamento para el diseño de sistemas de bombeo y una descripción general de un sistema y sus componentes, incluyendo el detalle de la configuración y partes de la bomba centrífuga. Por otro lado, se muestran los principios de ingeniería que permiten calcular los requerimientos de potencia y las especificaciones de los componentes del sistema, así como los principios de operación y sus principales problemas.En este texto los autores han evitado las divagaciones y han condensado la información, de manera que se presenta mediante argumentos, tablas y gráficos, de una forma sencilla, ágil y directa, los elementos y fundamentos para la selección de los componentes de un sistema de bombeo, de modo que el lector interesado podrá realizar por su cuenta el diseño del mismo según sus necesidades y establecer los requerimientos de recursos para la ejecución de un proyecto de aplicación, tanto en el sector agrícola como en el sector industrial. El texto presenta un procedimiento detallado y de fácil comprensión para el cálculo y selección de los componentes de un sistema de bombeo, incluida la bomba centrífuga, sus especificaciones y parámetros de operación y también suficientes elementos para la evaluación y monitoreo de las condiciones de operación de instalaciones existentes.\\n'],\n",
       "  'metadata_ebook': {'Detalle de formato': 'Digital (suministrado electrónicamente)',\n",
       "   'Formato': 'EPUB',\n",
       "   'Estado': 'Activo',\n",
       "   'ISBN-13': '9789586609272',\n",
       "   'Tipo de contenido del producto': 'Texto (legible a simple vista)',\n",
       "   'Protección técnica de publicación digital': 'DRM',\n",
       "   'Tipo de restricción de uso en publicaciones digitales': 'Share',\n",
       "   'Permiso de uso en publicaciones digitales': 'Permitido, con limitaciones',\n",
       "   'Idioma del texto': 'Español',\n",
       "   'Tamaño del archivo': '1,593 Kbytes',\n",
       "   'Sello editorial': 'Universidad Pedagógica y Tecnológica de Colombia',\n",
       "   'Tipo de edición': 'Nueva edición',\n",
       "   'Número de edición': '1',\n",
       "   'Ciudad de publicación': 'Tunja',\n",
       "   'País de publicación': 'Colombia',\n",
       "   'Fecha de publicación': '2025',\n",
       "   'Tipo de restricción de venta': 'Exclusivo para un punto o canal de venta',\n",
       "   'Precio': 'COP $30.000'},\n",
       "  'metadata_imp': {'DOI': 'doi.org/10.19053/uptc.9789586609265',\n",
       "   'Detalle de formato': 'Tapa blanda o Bolsillo',\n",
       "   'Estado': 'Activo',\n",
       "   'ISBN-13': '9789586609265',\n",
       "   'Tipo de contenido principal': 'Texto (legible a simple vista)',\n",
       "   'Idioma del texto': 'Español',\n",
       "   'Tamaño (cm)': '14 x 21  x 0.6',\n",
       "   'Número de páginas del contenido principal': '106 Páginas',\n",
       "   'Sello editorial': 'universidad Pedagógica y Tecnológica de Colombia',\n",
       "   'Tipo de edición': 'Nueva edición',\n",
       "   'Número de edición': '1',\n",
       "   'Ciudad de publicación': 'Tunja',\n",
       "   'País de publicación': 'Colombia',\n",
       "   'Fecha de publicación': '2025',\n",
       "   'Tipo de restricción de venta': 'Exclusivo para un punto o canal de venta',\n",
       "   'SIIEL SKU': '419307',\n",
       "   'Precio': 'COP $40.000'},\n",
       "  'clasificación_temática': 'BISACSCI085000 CIENCIA > Mecánica > FluidosTHEMATGBN Motores y transmisión de fuerzaDEWEY532 Ciencias naturales y matemáticas > Física > Mecánica de fluidos; Mecánica liquida',\n",
       "  'tabla_contenido': 'Tabla de contenido\\n\\n\\n\\nINTRODUCCIÓN ................................................................. 191.\\u2002FUNDAMENTOS PARA EL DISEÑO DE SISTEMAS DE TRANSPORTE DE FLUIDOS ........................ 23\\xa0\\xa0\\xa0\\xa01.1 Concepto de fluido ............................................... 23\\xa0\\xa0\\xa0\\xa01.2 Tipos de flujo y el número de Reynolds ................. 25\\xa0\\xa0\\xa0\\xa01.3 La ecuación de Euler en las bombas centrífugas .. 28\\xa0\\xa0\\xa0\\xa0\\xa0\\xa0\\xa0\\xa01.3.1 La dirección del flujo en el interior de la bomba ............................................... 29\\xa0\\xa0\\xa0\\xa0\\xa0\\xa0\\xa0\\xa01.3.2 Diagramas de velocidades en la bomba ..... 29\\xa0\\xa0\\xa0\\xa0\\xa0\\xa0\\xa0\\xa01.3.3 Aplicación de la ecuación de Euler ............ 32\\xa0\\xa0\\xa0\\xa0\\xa0\\xa0\\xa0\\xa01.3.4 Ejemplo de cálculo con la ecuación de Euler ..................................................... 34\\xa0\\xa0\\xa0\\xa01.4 Ecuación de continuidad .......................................35\\xa0\\xa0\\xa0\\xa01.5 Velocidad recomendada de conducción ............... 40\\xa0\\xa0\\xa0\\xa01.6 Ecuación de energía ............................................. 40\\xa0\\xa0\\xa0\\xa01.7 Pérdidas por transporte de fluidos incompresibles ......................................................47\\xa0\\xa0\\xa0\\xa01.8 Ejemplo: Cálculo de una instalación de bombeo domiciliaria .............................................. 51\\xa0\\xa0\\xa0\\xa0\\xa0\\xa0\\xa0\\xa01.8.1 Cálculo de la cabeza de pérdidas ............... 52\\xa0\\xa0\\xa0\\xa0\\xa0\\xa0\\xa0\\xa01.8.2 Cálculo de la cabeza requerida de bombeo 54\\xa0\\xa0\\xa0\\xa0\\xa0\\xa0\\xa0\\xa01.8.3 Potencia consumida por la bomba ............. 54\\xa0\\xa0\\xa0\\xa0\\xa0\\xa0\\xa0\\xa01.8.4 Resumen de resultados ..............................552.\\u2002 LOS SISTEMAS DE BOMBEO .........................................57\\xa0\\xa0\\xa0\\xa02.1 Descripción de un sistema de bombeo ..................57\\xa0\\xa0\\xa0\\xa02.2 La succión del sistema ......................................... 59\\xa0\\xa0\\xa0\\xa02.3 Tipos de bombas hidráulicas ................................. 61\\xa0\\xa0\\xa0\\xa02.4 Partes de la bomba centrífuga .............................. 64\\xa0\\xa0\\xa0\\xa02.5 Datos de los fabricantes de bombas centrífugas ...67\\xa0\\xa0\\xa0\\xa02.6 Leyes de afinidad .................................................. 69\\xa0\\xa0\\xa0\\xa02.7 Curva característica ..............................................73\\xa0\\xa0\\xa0\\xa02.8 Altura manométrica ...............................................75\\xa0\\xa0\\xa0\\xa02.9 Caudal de la bomba ................................................76\\xa0\\xa0\\xa0\\xa02.10 Lectura de la curva característica ...............................77\\xa0\\xa0\\xa0\\xa02.11 Tubería de conducción ..........................................79\\xa0\\xa0\\xa0\\xa02.12 Accesorios y proceso de instalación ..........................823.\\u2002FUNDAMENTO DE OPERACIÓN .................................... 85\\xa0\\xa0\\xa0\\xa03.1 La curva de operación del sistema ....................... 86\\xa0\\xa0\\xa0\\xa03.2 La cavitación ........................................................ 89\\xa0\\xa0\\xa0\\xa0\\xa0\\xa0\\xa0\\xa03.2.1 Descripción del fenómeno de cavitación .... 89\\xa0\\xa0\\xa0\\xa0\\xa0\\xa0\\xa0\\xa03.2.2 Causas de la cavitación .............................. 91\\xa0\\xa0\\xa0\\xa0\\xa0\\xa0\\xa0\\xa03.2.3 El NPSH ..................................................... 92\\xa0\\xa0\\xa0\\xa03.3 Consideraciones en la línea de succión ................ 95\\xa0\\xa0\\xa0\\xa03.4 El golpe de ariete ...................................................97\\xa0\\xa0\\xa0\\xa03.5 Motores y tableros de control ............................... 98\\xa0\\xa0\\xa0\\xa03.6 Fallas de funcionamiento y sus posibles causas ... 99\\xa0\\xa0\\xa0\\xa03.7 ¿Qué requiere su instalación? ..............................1024.\\u2002REFERENCIAS ............................................................103\\n\\n\\n',\n",
       "  'inf_autores': [{'nombre_invertido': ': Caro Niño, Otto',\n",
       "    'orcid': 'https://orcid.org/0009-0008-0074-089X',\n",
       "    'afiliacion': 'Universidad Pedagógica y Tecnológica de Colombia',\n",
       "    'biografia': 'Es ingeniero mecánico egresado de la Universidad Nacional de Colombia, con estudios y títulos de posgrado, con una amplia y reconocida experiencia en el análisis y diseño de sistemas mecánicos, asesorías y consultorías de sistemas de riego y sistemas de acueductos municipales. En la Universidad Pedagógica y Tecnológica de Colombia (Uptc) ha sido docente durante más de cuarenta años, decano de la Facultad Seccional Duitama en diferentes periodos, integrante del Consejo Académico, integrante del Consejo Superior, integrante del Comité Curricular de la Escuela de Ingeniería Electromecánica y docente de los posgrados del área de ingeniería de la misma Facultad. Es docente titular de la Uptc adscrito al programa de Ingeniería Electromecánica, en el que participó en su creación y actualmente se desempeña en al área de diseño mecánico y mecánica de fluidos del mismo. Es integrante de Grupo de Investigación en Energías y Nuevas Tecnologías (GENTE) y se ha caracterizado por ser un docente comprometido con la formación de profesionales de alta calidad para servicio y progreso de Colombia.otto.caro@uptc.edu.co',\n",
       "    'email': 'Colombia.otto.caro@uptc.edu.co'},\n",
       "   {'nombre_invertido': ': Díaz Parra, Orlando',\n",
       "    'orcid': 'https://orcid.org/0009-0000-5697-8583',\n",
       "    'afiliacion': 'Universidad Pedagógica y Tecnológica de Colombia',\n",
       "    'biografia': 'Es ingeniero mecánico de la Universidad Industrial de Santander y magíster en metalurgia y ciencia de los materiales, distinguido por sus altos logros académicos y profesionales, perteneciente al Grupo de Investigación en Energías y Nuevas Tecnologías (GENTE). Se resalta su experiencia profesional en la empresa Acerías Paz del Río, S.A. en la que ejerció por más de doce años en el área de laminación de aceros en caliente, en cargos de operación y mantenimiento. Ha superado los quince años de experiencia docente compartiendo sus conocimientos en prácticamente todas las áreas de formación en la Escuela de Ingeniería Electromecánica y como miembro del Comité Curricular. Se ha desempeñado como docente especialmente en las áreas de mecánica de fluidos, máquinas hidráulicas, mantenimiento industrial, ciencias térmicas y diseño mecánico. Recientemente ha obtenido el diploma que lo reconoce como “Gestor de Mantenimiento” de parte de la Asociación Colombiana de Ingenieros Mecánicos, Eléctricos y Afines (ACIEM) y ha liderado la apertura de la especialización en Gestión de\\xa0 Activos y de Mantenimiento como nuevo programa de posgrado en la Escuela de Ingeniería Electromecánica. orlando.diazparra@uptc.edu.co',\n",
       "    'email': 'orlando.diazparra@uptc.edu.co'}]}]"
      ]
     },
     "execution_count": 69,
     "metadata": {},
     "output_type": "execute_result"
    }
   ],
   "source": [
    "temp_datos"
   ]
  },
  {
   "cell_type": "code",
   "execution_count": 26,
   "metadata": {},
   "outputs": [],
   "source": [
    "scrap = soup.find_all('div',class_=\"product data items\")"
   ]
  },
  {
   "cell_type": "code",
   "execution_count": 30,
   "metadata": {},
   "outputs": [
    {
     "ename": "AttributeError",
     "evalue": "ResultSet object has no attribute 'find'. You're probably treating a list of elements like a single element. Did you call find_all() when you meant to call find()?",
     "output_type": "error",
     "traceback": [
      "\u001b[0;31m---------------------------------------------------------------------------\u001b[0m",
      "\u001b[0;31mAttributeError\u001b[0m                            Traceback (most recent call last)",
      "Cell \u001b[0;32mIn[30], line 1\u001b[0m\n\u001b[0;32m----> 1\u001b[0m \u001b[43mscrap\u001b[49m\u001b[38;5;241;43m.\u001b[39;49m\u001b[43mfind\u001b[49m(\u001b[38;5;124m'\u001b[39m\u001b[38;5;124mdiv\u001b[39m\u001b[38;5;124m'\u001b[39m,{\u001b[38;5;124m'\u001b[39m\u001b[38;5;124mrolo\u001b[39m\u001b[38;5;124m'\u001b[39m:\u001b[38;5;124m'\u001b[39m\u001b[38;5;124mtablist\u001b[39m\u001b[38;5;124m'\u001b[39m})\n",
      "File \u001b[0;32m/opt/anaconda3/envs/diplomado/lib/python3.12/site-packages/bs4/element.py:2433\u001b[0m, in \u001b[0;36mResultSet.__getattr__\u001b[0;34m(self, key)\u001b[0m\n\u001b[1;32m   2431\u001b[0m \u001b[38;5;28;01mdef\u001b[39;00m \u001b[38;5;21m__getattr__\u001b[39m(\u001b[38;5;28mself\u001b[39m, key):\n\u001b[1;32m   2432\u001b[0m \u001b[38;5;250m    \u001b[39m\u001b[38;5;124;03m\"\"\"Raise a helpful exception to explain a common code fix.\"\"\"\u001b[39;00m\n\u001b[0;32m-> 2433\u001b[0m     \u001b[38;5;28;01mraise\u001b[39;00m \u001b[38;5;167;01mAttributeError\u001b[39;00m(\n\u001b[1;32m   2434\u001b[0m         \u001b[38;5;124m\"\u001b[39m\u001b[38;5;124mResultSet object has no attribute \u001b[39m\u001b[38;5;124m'\u001b[39m\u001b[38;5;132;01m%s\u001b[39;00m\u001b[38;5;124m'\u001b[39m\u001b[38;5;124m. You\u001b[39m\u001b[38;5;124m'\u001b[39m\u001b[38;5;124mre probably treating a list of elements like a single element. Did you call find_all() when you meant to call find()?\u001b[39m\u001b[38;5;124m\"\u001b[39m \u001b[38;5;241m%\u001b[39m key\n\u001b[1;32m   2435\u001b[0m     )\n",
      "\u001b[0;31mAttributeError\u001b[0m: ResultSet object has no attribute 'find'. You're probably treating a list of elements like a single element. Did you call find_all() when you meant to call find()?"
     ]
    }
   ],
   "source": [
    "scrap.find('div',{'rolo':'tablist'}) \n",
    "# consejo de facultada"
   ]
  },
  {
   "cell_type": "code",
   "execution_count": 45,
   "metadata": {},
   "outputs": [
    {
     "ename": "SyntaxError",
     "evalue": "invalid syntax (2855226362.py, line 1)",
     "output_type": "error",
     "traceback": [
      "\u001b[0;36m  Cell \u001b[0;32mIn[45], line 1\u001b[0;36m\u001b[0m\n\u001b[0;31m    item title active\u001b[0m\n\u001b[0m         ^\u001b[0m\n\u001b[0;31mSyntaxError\u001b[0m\u001b[0;31m:\u001b[0m invalid syntax\n"
     ]
    }
   ],
   "source": [
    "item title active"
   ]
  },
  {
   "cell_type": "code",
   "execution_count": 40,
   "metadata": {},
   "outputs": [],
   "source": []
  },
  {
   "cell_type": "code",
   "execution_count": 22,
   "metadata": {},
   "outputs": [],
   "source": [
    "scrap = soup.find('div',class_=\"product data items\")\n",
    "temp1 = [a.text for a in scrap.find_all('span')]\n"
   ]
  },
  {
   "cell_type": "code",
   "execution_count": 47,
   "metadata": {},
   "outputs": [
    {
     "data": {
      "text/plain": [
       "True"
      ]
     },
     "execution_count": 47,
     "metadata": {},
     "output_type": "execute_result"
    }
   ],
   "source": [
    "[]==[]"
   ]
  },
  {
   "cell_type": "code",
   "execution_count": 52,
   "metadata": {},
   "outputs": [
    {
     "name": "stdout",
     "output_type": "stream",
     "text": [
      "BISACPHI000000 FILOSOFÍA > GeneralTHEMAQDT Temas de la filosofíaDEWEY107 Filosofía y psicología > Generalidades > Educación, investigación en filosofía\n"
     ]
    }
   ],
   "source": [
    "print(soup.find('div',class_='product data items').find('div',{'class':'item content'}).text.replace('\\n',''))"
   ]
  },
  {
   "cell_type": "code",
   "execution_count": 58,
   "metadata": {},
   "outputs": [
    {
     "data": {
      "text/plain": [
       "{'title': ['Gestión Educativa, Perspectivas, Actores y Contextos'],\n",
       " 'colaboradores': [['Liliana Inés Ávila Garzón',\n",
       "   'Rafael Enrique Buitrago Bonilla',\n",
       "   'María Rosa Estupiñán Aponte',\n",
       "   'Adriana María Cárdenas Casas',\n",
       "   'Alex Oswaldo Sánchez Huarcaya',\n",
       "   'Alexandra Inés Puentes Suárez',\n",
       "   'Angie Lorena Ariza Velasco',\n",
       "   'Diana Margot Guerrero Galarza',\n",
       "   'Esmeralda Díaz López',\n",
       "   'Kassandra Verastegui Vives',\n",
       "   'Nidia Marcela García Gómez',\n",
       "   'Ruby Paola Villavicencio Gastelu',\n",
       "   'Ruth Nayibe Cárdenas Soler',\n",
       "   'Sandra Milena Pinzón Jaime']],\n",
       " 'precio': [['', 'COP $70.000']],\n",
       " 'palabras clave': [['Gestión Educativa',\n",
       "   'Emociones',\n",
       "   'Maestros',\n",
       "   'Memorias de Gestores',\n",
       "   'Cultura Escolar',\n",
       "   'Contextos']],\n",
       " 'doi': '10.19053/uptc.9789586608350',\n",
       " 'descripcion': ['\\nGestión Educativa. Perspectivas, Actores y Contextos es un libro imprescindible para aquellos interesados en ahondar en los procesos de gestión en el ámbito educativo. A través de los distintos capítulos, el lector abordará un camino de reflexión y aprendizaje, explorando herramientas fundamentales para potenciar el complejo campo de la Gestión Educativa. Este libro ofrece una contribución significativa en este campo y se convierte en una referencia clave para quienes buscan promover transformaciones en la educación y en la gestión.Esta obra presentada por la Maestría en Gestión Educativa, desde una mirada profunda y rigurosa fundamentada en experiencias investigativas, profundiza en el campo de la gestión educativa, explorando diferentes temáticas, perspectivas y contextos que influyen de maneras diversas en los procesos educativos. El propósito principal de este libro es analizar y reflexionar sobre la gestión educativa desde múltiples perspectivas, brindando a los lectores un panorama diverso y enriquecedor. Cada capítulo se centra en un tema específico, desde el análisis de las emociones en la escuela hasta la percepción de los procesos de autoevaluación en programas de posgrado. Estas investigaciones aportan valiosos hallazgos que destacan la importancia de aspectos como el clima organizacional, la cultura escolar y la satisfacción de los maestros en formación.Al abordar la lectura de este libro, el lector obtendrá conclusiones generales sobre la gestión educativa y su incidencia en diferentes contextos y actores involucrados. Los resultados presentados por los autores permiten dimensionar desafíos y oportunidades que surgen en el ámbito de la educación, tanto en zonas rurales como en los entornos urbanos. Además, se resalta la relevancia de promover una gestión educativa efectiva que fomente el aprendizaje de los estudiantes, el bienestar de los docentes y posibles caminos para los/las directivas docentes.\\n'],\n",
       " 'metadata_ebook': {'DOI:': 'Tapa blanda o Bolsillo',\n",
       "  'Detalle de formato:': 'Inactivo',\n",
       "  'Estado:': '9789586608299',\n",
       "  'ISBN-13:': 'Texto (legible a simple vista)',\n",
       "  'Tipo de contenido principal:': 'Español',\n",
       "  'Idioma del texto:': '14 x 20  x 0.9',\n",
       "  'Tamaño (cm):': 'Universidad Pedagógica y Tecnológica de Colombia',\n",
       "  'Número de páginas del contenido principal:': 'Nueva edición',\n",
       "  'Sello editorial: ': '1',\n",
       "  'Tipo de edición: ': 'Tunja',\n",
       "  'Número de edición: ': 'Colombia',\n",
       "  'Ciudad de publicación:': '2024',\n",
       "  'País de publicación:': 'Exclusivo para un punto o canal de venta',\n",
       "  'Fecha de publicación:': '407350',\n",
       "  'Tipo de restricción de venta:': 'COP $37.000'},\n",
       " 'metadata_imp': None}"
      ]
     },
     "execution_count": 58,
     "metadata": {},
     "output_type": "execute_result"
    }
   ],
   "source": [
    "temp_datos[-1]"
   ]
  },
  {
   "cell_type": "code",
   "execution_count": 53,
   "metadata": {},
   "outputs": [],
   "source": [
    "temp1 = [a.text for a in scrap.find_all('strong')]\n",
    "temp2 = [a.text for a in scrap.find_all('span')]\n",
    "metadata_imp ={c:v for c,v in zip(temp1,temp2)}"
   ]
  },
  {
   "cell_type": "code",
   "execution_count": 54,
   "metadata": {},
   "outputs": [
    {
     "data": {
      "text/plain": [
       "{'DOI:': 'Tapa blanda o Bolsillo',\n",
       " 'Detalle de formato:': 'Activo',\n",
       " 'Estado:': '9789586609265',\n",
       " 'ISBN-13:': 'Texto (legible a simple vista)',\n",
       " 'Tipo de contenido principal:': 'Español',\n",
       " 'Idioma del texto:': '14 x 21  x 0.6',\n",
       " 'Tamaño (cm):': '106 Páginas',\n",
       " 'Número de páginas del contenido principal:': 'universidad Pedagógica y Tecnológica de Colombia',\n",
       " 'Sello editorial: ': 'Nueva edición',\n",
       " 'Tipo de edición: ': '1',\n",
       " 'Número de edición: ': 'Tunja',\n",
       " 'Ciudad de publicación:': 'Colombia',\n",
       " 'País de publicación:': '2025',\n",
       " 'Fecha de publicación:': 'Exclusivo para un punto o canal de venta',\n",
       " 'Tipo de restricción de venta:': '419307',\n",
       " 'SIIEL SKU:': 'COP $40.000'}"
      ]
     },
     "execution_count": 54,
     "metadata": {},
     "output_type": "execute_result"
    }
   ],
   "source": [
    "metadata_imp"
   ]
  },
  {
   "cell_type": "code",
   "execution_count": 44,
   "metadata": {},
   "outputs": [
    {
     "data": {
      "text/plain": [
       "{'Detalle de formato:': 'Digital (suministrado electrónicamente)',\n",
       " 'Formato:': 'EPUB',\n",
       " 'Estado:': 'Activo',\n",
       " 'ISBN-13:': '9789586609272',\n",
       " 'Tipo de contenido del producto:': 'Texto (legible a simple vista)',\n",
       " 'Protección técnica de publicación digital:': 'DRM',\n",
       " 'Tipo de restricción de uso en publicaciones digitales:': 'Share',\n",
       " 'Permiso de uso en publicaciones digitales:': 'Permitido, con limitaciones',\n",
       " 'Idioma del texto:': 'Español',\n",
       " 'Tamaño del archivo:': '1,593 Kbytes',\n",
       " 'Sello editorial: ': 'Universidad Pedagógica y Tecnológica de Colombia',\n",
       " 'Tipo de edición: ': 'Nueva edición',\n",
       " 'Número de edición: ': '1',\n",
       " 'Ciudad de publicación:': 'Tunja',\n",
       " 'País de publicación:': 'Colombia',\n",
       " 'Fecha de publicación:': '2025',\n",
       " 'Tipo de restricción de venta:': 'Exclusivo para un punto o canal de venta',\n",
       " 'Precio: ': 'COP $30.000'}"
      ]
     },
     "execution_count": 44,
     "metadata": {},
     "output_type": "execute_result"
    }
   ],
   "source": [
    "metadata_ebook"
   ]
  },
  {
   "cell_type": "code",
   "execution_count": 41,
   "metadata": {},
   "outputs": [
    {
     "data": {
      "text/plain": [
       "(18, 18)"
      ]
     },
     "execution_count": 41,
     "metadata": {},
     "output_type": "execute_result"
    }
   ],
   "source": [
    "len(temp1) ,len(temp2)"
   ]
  },
  {
   "cell_type": "code",
   "execution_count": 39,
   "metadata": {},
   "outputs": [
    {
     "name": "stdout",
     "output_type": "stream",
     "text": [
      "Digital (suministrado electrónicamente)\n",
      "EPUB\n",
      "Activo\n",
      "9789586609272\n",
      "Texto (legible a simple vista)\n",
      "DRM\n",
      "Share\n",
      "Permitido, con limitaciones\n",
      "Español\n",
      "1,593 Kbytes\n",
      "Universidad Pedagógica y Tecnológica de Colombia\n",
      "Nueva edición\n",
      "1\n",
      "Tunja\n",
      "Colombia\n",
      "2025\n",
      "Exclusivo para un punto o canal de venta\n",
      "COP $30.000\n"
     ]
    }
   ],
   "source": [
    "for a in scrap.find_all('span'):\n",
    "    print(a.text)"
   ]
  },
  {
   "cell_type": "code",
   "execution_count": 38,
   "metadata": {},
   "outputs": [
    {
     "data": {
      "text/plain": [
       "['Detalle de formato:',\n",
       " 'Formato:',\n",
       " 'Estado:',\n",
       " 'ISBN-13:',\n",
       " 'Tipo de contenido del producto:',\n",
       " 'Protección técnica de publicación digital:',\n",
       " 'Tipo de restricción de uso en publicaciones digitales:',\n",
       " 'Permiso de uso en publicaciones digitales:',\n",
       " 'Idioma del texto:',\n",
       " 'Tamaño del archivo:',\n",
       " 'Sello editorial: ',\n",
       " 'Tipo de edición: ',\n",
       " 'Número de edición: ',\n",
       " 'Ciudad de publicación:',\n",
       " 'País de publicación:',\n",
       " 'Fecha de publicación:',\n",
       " 'Tipo de restricción de venta:',\n",
       " 'Precio: ']"
      ]
     },
     "execution_count": 38,
     "metadata": {},
     "output_type": "execute_result"
    }
   ],
   "source": [
    "temp"
   ]
  },
  {
   "cell_type": "code",
   "execution_count": 115,
   "metadata": {},
   "outputs": [
    {
     "data": {
      "text/plain": [
       "['Fluido',\n",
       " 'Sistema de bombeo',\n",
       " 'Bomba centrífuga',\n",
       " 'Mecánica de fluidos',\n",
       " 'Transporte de fluidos',\n",
       " 'Operación y Mantenimiento']"
      ]
     },
     "execution_count": 115,
     "metadata": {},
     "output_type": "execute_result"
    }
   ],
   "source": [
    "temp1"
   ]
  },
  {
   "cell_type": "code",
   "execution_count": 73,
   "metadata": {},
   "outputs": [
    {
     "data": {
      "text/plain": [
       "['Otto Caro Niño',\n",
       " 'Orlando Díaz Parra',\n",
       " 'Fluido',\n",
       " 'Sistema de bombeo',\n",
       " 'Bomba centrífuga',\n",
       " 'Mecánica de fluidos',\n",
       " 'Transporte de fluidos',\n",
       " 'Operación y Mantenimiento',\n",
       " '10.19053/uptc.9789586609265']"
      ]
     },
     "execution_count": 73,
     "metadata": {},
     "output_type": "execute_result"
    }
   ],
   "source": [
    "temp1"
   ]
  },
  {
   "cell_type": "code",
   "execution_count": 9,
   "metadata": {},
   "outputs": [
    {
     "data": {
      "text/plain": [
       "200"
      ]
     },
     "execution_count": 9,
     "metadata": {},
     "output_type": "execute_result"
    }
   ],
   "source": [
    "res.status_code"
   ]
  },
  {
   "cell_type": "markdown",
   "metadata": {},
   "source": [
    " tenemos un estatus 200 lo cual es correcto la solicitud\n",
    " "
   ]
  },
  {
   "cell_type": "code",
   "execution_count": 4,
   "metadata": {},
   "outputs": [],
   "source": [
    "soup = BeautifulSoup(res.text,'html')"
   ]
  },
  {
   "cell_type": "code",
   "execution_count": 19,
   "metadata": {},
   "outputs": [
    {
     "data": {
      "text/plain": [
       "'Catálogo - UPTC'"
      ]
     },
     "execution_count": 19,
     "metadata": {},
     "output_type": "execute_result"
    }
   ],
   "source": [
    "soup.find('title').get_text()"
   ]
  },
  {
   "cell_type": "code",
   "execution_count": 22,
   "metadata": {},
   "outputs": [],
   "source": [
    "datos=soup.find('div',class_=\"sa-product-container-v3 grid\")\n"
   ]
  },
  {
   "cell_type": "code",
   "execution_count": 26,
   "metadata": {},
   "outputs": [],
   "source": [
    "productos = datos.find_all('li',class_=\"sa-product-item-v3 sa-product_grid_size\")"
   ]
  },
  {
   "cell_type": "code",
   "execution_count": null,
   "metadata": {},
   "outputs": [],
   "source": [
    "a = {\n",
    "    titulo: \n",
    "    colaboradores:\n",
    "    ano:\n",
    "    precio:\n",
    "}"
   ]
  },
  {
   "cell_type": "code",
   "execution_count": 48,
   "metadata": {},
   "outputs": [],
   "source": [
    "title =[i.find('span').get_text(strip=True) for i in productos]"
   ]
  },
  {
   "cell_type": "code",
   "execution_count": 62,
   "metadata": {},
   "outputs": [],
   "source": [
    "ano = [i.find('div',class_='product-list-edition').get_text(strip=True) for i in productos]"
   ]
  },
  {
   "cell_type": "code",
   "execution_count": 76,
   "metadata": {},
   "outputs": [
    {
     "data": {
      "text/plain": [
       "'\\nImpreso\\n\\n\\nCOP $40.000\\n\\n\\n'"
      ]
     },
     "execution_count": 76,
     "metadata": {},
     "output_type": "execute_result"
    }
   ],
   "source": [
    "productos[].find('span',class_='minimal-price').get_text()"
   ]
  },
  {
   "cell_type": "code",
   "execution_count": 101,
   "metadata": {},
   "outputs": [],
   "source": [
    "datos = []\n",
    "for i in productos:\n",
    "    a = {\n",
    "        \"title\":i.find('span').get_text(strip=True),\n",
    "        \"colaboradores\":list(i.find('div',class_='sa-product-author-v3').stripped_strings)[1],\n",
    "        \"precio\": i.find('span',class_='minimal-price').get_text().replace(\"\\n\",\"\"),\n",
    "        \"ano\": i.find('div',class_='product-list-edition').get_text(strip=True)\n",
    "    }\n",
    "    datos.append(a)\n"
   ]
  },
  {
   "cell_type": "code",
   "execution_count": 102,
   "metadata": {},
   "outputs": [
    {
     "data": {
      "text/plain": [
       "[{'title': 'Transporte de fluidos bombas centrífugas',\n",
       "  'colaboradores': 'Otto Caro Niño                                                                                     y otros',\n",
       "  'precio': 'eBookCOP $30.000',\n",
       "  'ano': '2025'},\n",
       " {'title': 'Introducción al cálculo de probabilidades para estudiantes de ingeniería',\n",
       "  'colaboradores': 'Alex L. Rojas',\n",
       "  'precio': 'eBookGratuito',\n",
       "  'ano': '2025'},\n",
       " {'title': 'Derechos colectivos en Colombia:',\n",
       "  'colaboradores': 'Luis Bernardo Díaz Gamboa                                                                                     y otros',\n",
       "  'precio': 'eBookGratuito',\n",
       "  'ano': '2025'},\n",
       " {'title': 'Resistencias y voces de las mujeres:',\n",
       "  'colaboradores': 'Celina de Jesús Trimiño Velásquez                                                                                     y otros',\n",
       "  'precio': 'ImpresoCOP $40.000',\n",
       "  'ano': '2025'},\n",
       " {'title': 'Manual de prácticas pedagógicas para la formación de maestros.',\n",
       "  'colaboradores': 'Myriam Cecilia Leguizamón González',\n",
       "  'precio': 'eBookGratuito',\n",
       "  'ano': '2025'},\n",
       " {'title': 'Maestras rurales, indígenas y afrodescendientes en Colombia.',\n",
       "  'colaboradores': 'Diana Elvira Soto Arango                                                                                     y otros',\n",
       "  'precio': 'eBookGratuito',\n",
       "  'ano': '2025'},\n",
       " {'title': 'Meristemos apicales, una técnica de propagación in vitro útil en procesos de conservación de Espeletia paipana.',\n",
       "  'colaboradores': 'María Yecenia Hernández Herrera                                                                                     y otros',\n",
       "  'precio': 'ImpresoCOP $35.000',\n",
       "  'ano': '2025'},\n",
       " {'title': 'Microorganismos endófitos en frailejones propagados in vitro: caracterización microbiológica y molecular.',\n",
       "  'colaboradores': 'María Yecenia Hernández Herrera                                                                                     y otros',\n",
       "  'precio': 'ImpresoCOP $35.000',\n",
       "  'ano': '2025'},\n",
       " {'title': 'Biotecnología para la conservación de frailejones:',\n",
       "  'colaboradores': 'María Yecenia Hernández Herrera                                                                                     y otros',\n",
       "  'precio': 'ImpresoCOP $35.000',\n",
       "  'ano': '2025'},\n",
       " {'title': 'Intelecto, estética y escuela.',\n",
       "  'colaboradores': 'Martha Soledad Montero González                                                                                     y otros',\n",
       "  'precio': 'eBookCOP $26.500',\n",
       "  'ano': '2025'},\n",
       " {'title': 'Revisiting Language Teaching:',\n",
       "  'colaboradores': 'Jahir Aguirre Morales                                                                                     y otros',\n",
       "  'precio': 'eBookGratuito',\n",
       "  'ano': '2025'},\n",
       " {'title': 'Addressing the Basics of EFL Classrooms',\n",
       "  'colaboradores': 'Jahir Aguirre Morales                                                                                     y otros',\n",
       "  'precio': 'eBookCOP $27.900',\n",
       "  'ano': '2024'},\n",
       " {'title': 'Gestión de la calidad en destinos turísticos',\n",
       "  'colaboradores': 'Diana Cristina Rodríguez Moreno                                                                                     y otros',\n",
       "  'precio': 'eBookGratuito',\n",
       "  'ano': '2024'},\n",
       " {'title': 'Infancia, arte y pensamiento',\n",
       "  'colaboradores': 'María Teresa Suárez Vaca                                                                                     y otros',\n",
       "  'precio': 'eBookCOP $29.900',\n",
       "  'ano': '2024'},\n",
       " {'title': 'Pruebas de laboratorio para la educación multidisciplinar con el laboratorio de empresa como modelo didáctico',\n",
       "  'colaboradores': 'Henry César Bernal Campos                                                                                     y otros',\n",
       "  'precio': 'ImpresoCOP $32.000',\n",
       "  'ano': '2024'},\n",
       " {'title': 'Lectura y escritura en la escuela',\n",
       "  'colaboradores': 'Lola María Morales Mora                                                                                     y otros',\n",
       "  'precio': 'ImpresoCOP $35.000',\n",
       "  'ano': '2024'},\n",
       " {'title': 'CREACIÓN',\n",
       "  'colaboradores': 'William Elías Arciniegas Rodríguez                                                                                     y otros',\n",
       "  'precio': 'ImpresoCOP $38.000',\n",
       "  'ano': '2024'},\n",
       " {'title': 'Evaluación de informes de sostenibilidad ambiental en empresas líderes del sector alimentario y propuesta de un modelo simplificado para pymes. Un análisis comparativo de Alpina, Bavaria, Nutresa y Postobón (2020-2022)',\n",
       "  'colaboradores': 'Gloria Cecilia Dávila Giraldo                                                                                     y otros',\n",
       "  'precio': 'ImpresoCOP $30.000',\n",
       "  'ano': '2024'},\n",
       " {'title': 'Poemas raros y curiosos',\n",
       "  'colaboradores': 'Diego Mauricio Barrera Quiroga',\n",
       "  'precio': 'eBookCOP $27.900',\n",
       "  'ano': '2024'},\n",
       " {'title': 'Conflicto armado en Boyacá: 2005-2018',\n",
       "  'colaboradores': 'William Ernesto Condiza Plazas',\n",
       "  'precio': 'eBookCOP $27.700',\n",
       "  'ano': '2024'},\n",
       " {'title': 'Gestión Educativa, Perspectivas, Actores y Contextos',\n",
       "  'colaboradores': 'Liliana Inés Ávila Garzón                                                                                     y otros',\n",
       "  'precio': 'ImpresoCOP $70.000',\n",
       "  'ano': '2024'},\n",
       " {'title': 'Contabilidad financiera bajo NIIF',\n",
       "  'colaboradores': 'Gloria Cecilia Dávila Giraldo                                                                                     y otros',\n",
       "  'precio': 'ImpresoCOP $30.000',\n",
       "  'ano': '2024'},\n",
       " {'title': 'Cálculo y medición de probabilidades',\n",
       "  'colaboradores': 'Margoth Adriana Valdivieso Miranda                                                                                     y otros',\n",
       "  'precio': 'ImpresoCOP $38.000',\n",
       "  'ano': '2024'},\n",
       " {'title': 'Infancia y ruralidad',\n",
       "  'colaboradores': 'Liliana Inés Ávila Garzón',\n",
       "  'precio': 'ImpresoCOP $35.000',\n",
       "  'ano': '2024'},\n",
       " {'title': 'Una nanovisión electrónica de sistemas moleculares',\n",
       "  'colaboradores': 'Judith Helena Ojeda Silva',\n",
       "  'precio': 'ImpresoCOP $55.000',\n",
       "  'ano': '2024'},\n",
       " {'title': 'Teoría de la Medida',\n",
       "  'colaboradores': 'Rafael José Álvarez Bilbao                                                                                     y otros',\n",
       "  'precio': 'ImpresoCOP $65.000',\n",
       "  'ano': '2024'},\n",
       " {'title': 'Esmeraldas en Colombia',\n",
       "  'colaboradores': 'Javier Guerrero Barón                                                                                     y otros',\n",
       "  'precio': 'ImpresoCOP $35.000',\n",
       "  'ano': '2024'},\n",
       " {'title': 'Validación e implementación de tecnologías de propagación de semillas de arracacha',\n",
       "  'colaboradores': 'Javier Giovanni Álvarez-Herrera                                                                                     y otros',\n",
       "  'precio': 'ImpresoCOP $30.000',\n",
       "  'ano': '2024'},\n",
       " {'title': 'Emprendimiento desde un enfoque STEAM',\n",
       "  'colaboradores': 'Maribel Martínez Montaña                                                                                     y otros',\n",
       "  'precio': 'eBookGratuito',\n",
       "  'ano': '2024'},\n",
       " {'title': 'La leche humana: un amor químico',\n",
       "  'colaboradores': 'Óscar Orlando Rodríguez Wílchez                                                                                     y otros',\n",
       "  'precio': 'eBookGratuito',\n",
       "  'ano': '2024'}]"
      ]
     },
     "execution_count": 102,
     "metadata": {},
     "output_type": "execute_result"
    }
   ],
   "source": [
    "datos"
   ]
  },
  {
   "cell_type": "code",
   "execution_count": null,
   "metadata": {},
   "outputs": [],
   "source": []
  }
 ],
 "metadata": {
  "kernelspec": {
   "display_name": "diplomado",
   "language": "python",
   "name": "python3"
  },
  "language_info": {
   "codemirror_mode": {
    "name": "ipython",
    "version": 3
   },
   "file_extension": ".py",
   "mimetype": "text/x-python",
   "name": "python",
   "nbconvert_exporter": "python",
   "pygments_lexer": "ipython3",
   "version": "3.12.2"
  }
 },
 "nbformat": 4,
 "nbformat_minor": 2
}
