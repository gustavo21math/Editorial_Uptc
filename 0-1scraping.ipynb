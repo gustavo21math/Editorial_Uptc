{
 "cells": [
  {
   "cell_type": "markdown",
   "metadata": {},
   "source": [
    "# `Scraper` de `Datos Editorial UPTC`"
   ]
  },
  {
   "cell_type": "code",
   "execution_count": 1,
   "metadata": {},
   "outputs": [],
   "source": [
    "import requests\n",
    "from bs4 import BeautifulSoup\n",
    "import json\n",
    "import time\n",
    "import pandas as pd\n",
    "import re"
   ]
  },
  {
   "cell_type": "markdown",
   "metadata": {},
   "source": [
    "## `Scraper` de `URLs` "
   ]
  },
  {
   "cell_type": "code",
   "execution_count": null,
   "metadata": {},
   "outputs": [],
   "source": [
    "#url de libros Uptc\n",
    "url = 'https://editorial.uptc.edu.co/catalogo.html?product_list_limit=60'\n",
    "bucle = 'https://editorial.uptc.edu.co/catalogo.html?p=2&product_list_limit=60'\n",
    "res = requests.get(url)\n",
    "soup = BeautifulSoup(res.text,'html')\n",
    "\n",
    "\n",
    "scrap = soup.find('div',class_=\"sa-product-container-v3 grid\")\n",
    "productos_url = scrap.find_all('li',class_=\"sa-product-item-v3 sa-product_grid_size\")\n",
    "url_libros = [url.find('a')[\"href\"] for url in productos_url]\n",
    "\n",
    "urls = pd.DataFrame(url_libros,columns=['url'])\n",
    "\n",
    "for i in range(2,6):\n",
    "    url = f'https://editorial.uptc.edu.co/catalogo.html?p={i}&product_list_limit=60'\n",
    "    res = requests.get(url)\n",
    "    soup = BeautifulSoup(res.text,'html')\n",
    "    productos_url = soup.find('div',class_=\"sa-product-container-v3 grid\").find_all('li',class_=\"sa-product-item-v3 sa-product_grid_size\")\n",
    "    url_libros = [url.find('a')[\"href\"] for url in productos_url]\n",
    "    urls = pd.concat([urls,pd.DataFrame(url_libros,columns=['url'])])\n"
   ]
  },
  {
   "cell_type": "code",
   "execution_count": null,
   "metadata": {},
   "outputs": [],
   "source": [
    "#urls.to_json('urls.json',index=False)\n",
    "urls.shape"
   ]
  },
  {
   "cell_type": "code",
   "execution_count": 2,
   "metadata": {},
   "outputs": [],
   "source": [
    "url_libros = pd.read_csv('urls.csv')"
   ]
  },
  {
   "cell_type": "code",
   "execution_count": 74,
   "metadata": {},
   "outputs": [
    {
     "data": {
      "text/plain": [
       "(298, 1)"
      ]
     },
     "execution_count": 74,
     "metadata": {},
     "output_type": "execute_result"
    }
   ],
   "source": [
    "url_libros.shape"
   ]
  },
  {
   "cell_type": "code",
   "execution_count": 64,
   "metadata": {},
   "outputs": [],
   "source": [
    "def extraer_palabras_clave(texto):\n",
    "    # Patrón para encontrar palabras clave y sus valores\n",
    "    patron = r'([^:]+):\\s*([^\\n]+)'\n",
    "    # Encontrar todas las coincidencias\n",
    "    coincidencias = re.findall(patron, texto)\n",
    "    \n",
    "    # Crear diccionario con las palabras clave\n",
    "    palabras_clave = {}\n",
    "    for clave, valor in coincidencias:\n",
    "        # Limpiar espacios en blanco\n",
    "        clave = clave.strip()\n",
    "        valor = valor.strip()\n",
    "        palabras_clave[clave] = valor\n",
    "    \n",
    "    return palabras_clave\n",
    "\n",
    "def extraer_info_colaborador(bloque):\n",
    "    # Nombre invertido\n",
    "    nombre_invertido = bloque.split('\\n')[0].strip()\n",
    "    \n",
    "    # ORCID\n",
    "    orcid_match = re.search(r'(https://orcid\\.org/[^\\s]+)', bloque)\n",
    "    orcid = orcid_match.group(1) if orcid_match else None\n",
    "    \n",
    "    # Afiliación\n",
    "    afiliacion_match = re.search(r'Afiliación\\s*\\n([^\\n]+)', bloque)\n",
    "    afiliacion = afiliacion_match.group(1).strip() if afiliacion_match else None\n",
    "    \n",
    "    # Biografía\n",
    "    bio_match = re.search(r'Biografía:\\s*([\\s\\S]+?)(?:\\n\\S|$)', bloque)\n",
    "    if bio_match:\n",
    "        biografia = bio_match.group(1).strip()\n",
    "    else:\n",
    "        # Si no encuentra el patrón, toma todo después de \"Biografía:\"\n",
    "        bio_idx = bloque.find(\"Biografía:\")\n",
    "        biografia = bloque[bio_idx+10:].strip() if bio_idx != -1 else None\n",
    "    \n",
    "    # Email (opcional)\n",
    "    email_match = re.search(r'[\\w\\.-]+@[\\w\\.-]+', bloque)\n",
    "    email = email_match.group(0) if email_match else None\n",
    "\n",
    "    return {\n",
    "        \"nombre_invertido\": nombre_invertido,\n",
    "        \"orcid\": orcid,\n",
    "        \"afiliacion\": afiliacion,\n",
    "        \"biografia\": biografia,\n",
    "        \"email\": email\n",
    "    }\n",
    "\n",
    " "
   ]
  },
  {
   "cell_type": "code",
   "execution_count": null,
   "metadata": {},
   "outputs": [],
   "source": [
    "temp_datos = []\n",
    "for i in range(298):\n",
    "    titulos = []\n",
    "    autores = []\n",
    "    palabras_clave = []\n",
    "    precios = []\n",
    "    descripcion = []\n",
    "\n",
    "\n",
    "    res = requests.get(url_libros['url'][i])\n",
    "    soup = BeautifulSoup(res.text,'html')\n",
    "    time.sleep(5)\n",
    "    scrap=soup.find('div',class_=\"product-info-main\")\n",
    "    try:\n",
    "        titulos.append(scrap.find('div',class_=\"col-xs-12\").find('h2').text)\n",
    "    except AttributeError:\n",
    "        continue\n",
    "    ## busquemos lo autores\n",
    "    temp = [i for i in scrap.find_all('div',class_=\"col-xs-12\")]\n",
    "    temp1 =[ a.text for a in temp[1].find_all('a')  if 'products_author' in a['href'] ]\n",
    "    autores.append(temp1)\n",
    "    # busca las palabras clave\n",
    "    temp1 =[ a.text for a in temp[1].find_all('a')  if 'products_keywords' in a['href'] ]\n",
    "    palabras_clave.append(temp1)\n",
    "    # DOi\n",
    "    try:\n",
    "        temp1 =[ a.text for a in temp[1].find_all('a')  if 'products_keywords' not in a['href'] and  'products_author' not in a['href']]\n",
    "        if temp1 != []:\n",
    "            doi = temp1\n",
    "        else :\n",
    "            doi = None \n",
    "    except Exception as e:\n",
    "        print(f'No se encontro doi: {e}')\n",
    "        doi = None\n",
    "\n",
    "    # precios\n",
    "    try:\n",
    "        temp = [a for a in scrap.find_all('div',class_='price-box price-final_price')]\n",
    "        if temp != \"\":  # Si hay elementos de precio\n",
    "            temp1 = [a.text.strip() for a in temp]\n",
    "            precios.append(temp1)\n",
    "        else:  # Si no hay elementos de precio\n",
    "            precios.append(['Descargable gratis'])\n",
    "    except Exception as e:\n",
    "        print(f'No se encontro precio: {e}')\n",
    "        precios.append(['Descargable gratis'])\n",
    "    # descripcion\n",
    "    descripcion.append(scrap.find('div',class_='description-wrapper').text)\n",
    "    # eBook\n",
    "    try:\n",
    "        scrap = soup.find('div',class_=\"product-info-metadata\")\n",
    "        metadata_ebook = extraer_palabras_clave(scrap.text)\n",
    "    except Exception as e:\n",
    "        print(f'No se encontro metadata_ebook: {e}')\n",
    "        metadata_ebook = None\n",
    "    #impreso\n",
    "    try:\n",
    "        scrap = soup.find_all('div',class_=\"product-info-metadata\")[1]\n",
    "        metadata_imp = extraer_palabras_clave(scrap.text)\n",
    "    except Exception as e:\n",
    "        print(f'No se encontro metadata_imp: {e}')\n",
    "        metadata_imp = None\n",
    "    #clasificacion de tematica\n",
    "    dato = soup.find('div','item content').text.replace('\\n','')\n",
    "    clasificacion_tematica = dato\n",
    "    #tabla de contenido\n",
    "    a=soup.find('div',class_='product data items').text.find('Tabla de contenido')\n",
    "    b=soup.find('div',class_='product data items').text.find('Colaboradores')\n",
    "    dato = soup.find('div',class_='product data items').text\n",
    "    if a != -1:\n",
    "        tabla_contenido=dato[a:b]\n",
    "    else:\n",
    "        tabla_contenido= None\n",
    "    ## informacion de autores\n",
    "    a=soup.find('div',class_='product data items').text.find('Colaboradores')\n",
    "    dato = soup.find('div',class_='product data items').text\n",
    "    colaboradores_raw = dato[a:].split('Nombre invertido')[1:]\n",
    "    colaboradores = []\n",
    "    for bloque in colaboradores_raw:\n",
    "        info = extraer_info_colaborador(bloque)\n",
    "        colaboradores.append(info)\n",
    "\n",
    "    datos = {\n",
    "            \"title\": titulos,\n",
    "            \"colaboradores\":autores,\n",
    "            \"precio\":precios,\n",
    "            \"palabras clave\":palabras_clave,\n",
    "            \"doi\":doi,\n",
    "            \"descripcion\":descripcion,\n",
    "            \"metadata_ebook\":metadata_ebook,\n",
    "            \"metadata_imp\":metadata_imp,\n",
    "            \"clasificación_temática\":clasificacion_tematica,\n",
    "            'tabla_contenido':tabla_contenido,  \n",
    "            'inf_autores' :colaboradores \n",
    "            }\n",
    "    temp_datos.append(datos)\n",
    "    "
   ]
  },
  {
   "cell_type": "code",
   "execution_count": 101,
   "metadata": {},
   "outputs": [],
   "source": [
    "import os\n",
    "# 1. Leer los datos existentes (si el archivo existe)\n",
    "if os.path.exists('datos.json'):\n",
    "    with open('datos.json', mode='r', encoding='utf-8') as f:\n",
    "        datos_existentes = json.load(f)\n",
    "else:\n",
    "    datos_existentes = []\n",
    "\n",
    "# 2. Agregar los nuevos datos (supongamos que tus nuevos datos están en temp_datos)\n",
    "datos_existentes.extend(temp_tatos1)\n",
    "\n",
    "# 3. Guardar la lista completa\n",
    "with open('datos.json', mode='w', encoding='utf-8') as f:\n",
    "    json.dump(datos_existentes, f, ensure_ascii=False, indent=4)\n"
   ]
  },
  {
   "cell_type": "code",
   "execution_count": 91,
   "metadata": {},
   "outputs": [
    {
     "data": {
      "text/plain": [
       "'https://editorial.uptc.edu.co/gpd-el-ano-viejo-9790900532909.html'"
      ]
     },
     "execution_count": 91,
     "metadata": {},
     "output_type": "execute_result"
    }
   ],
   "source": [
    "url_libros['url'][i]"
   ]
  },
  {
   "cell_type": "code",
   "execution_count": 102,
   "metadata": {},
   "outputs": [
    {
     "data": {
      "text/plain": [
       "287"
      ]
     },
     "execution_count": 102,
     "metadata": {},
     "output_type": "execute_result"
    }
   ],
   "source": [
    "len(datos_existentes)"
   ]
  },
  {
   "cell_type": "code",
   "execution_count": 98,
   "metadata": {},
   "outputs": [],
   "source": [
    "temp_tatos1.extend(temp_datos)"
   ]
  },
  {
   "cell_type": "markdown",
   "metadata": {},
   "source": [
    "## Limpieza de Datos"
   ]
  },
  {
   "cell_type": "code",
   "execution_count": 31,
   "metadata": {},
   "outputs": [],
   "source": [
    "import pandas as pd\n",
    "import re\n",
    "import json"
   ]
  },
  {
   "cell_type": "code",
   "execution_count": 21,
   "metadata": {},
   "outputs": [],
   "source": [
    "datos = pd.read_json('datos.json')"
   ]
  },
  {
   "cell_type": "code",
   "execution_count": 23,
   "metadata": {},
   "outputs": [],
   "source": [
    "def procesar_precio(precio_str):\n",
    "    patron = r'COP \\$(\\d+\\.?\\d*)'\n",
    "    numeros = re.findall(patron, precio_str)\n",
    "    if numeros:\n",
    "        # Convertir el número a entero eliminando los puntos\n",
    "        return numeros\n",
    "    return 'Descargable'"
   ]
  },
  {
   "cell_type": "code",
   "execution_count": 26,
   "metadata": {},
   "outputs": [],
   "source": [
    "# Aplicar la función a la columna de precios\n",
    "datos['precio'] = datos['precio'].apply(lambda x: procesar_precio(str(x)))"
   ]
  },
  {
   "cell_type": "code",
   "execution_count": 32,
   "metadata": {},
   "outputs": [
    {
     "name": "stdout",
     "output_type": "stream",
     "text": [
      "Se guardaron 287 registros en el archivo JSON\n"
     ]
    }
   ],
   "source": [
    "# Convertir el DataFrame a una lista de diccionarios\n",
    "datos_lista = datos.to_dict('records')\n",
    "\n",
    "# Guardar en JSON con indentación\n",
    "with open('datos_pre.json', 'w', encoding='utf-8') as f:\n",
    "    json.dump(datos_lista, f, ensure_ascii=False, indent=4)\n",
    "\n",
    "# Verificar que se guardó correctamente\n",
    "print(f\"Se guardaron {len(datos_lista)} registros en el archivo JSON\")"
   ]
  },
  {
   "cell_type": "markdown",
   "metadata": {},
   "source": [
    "## Save in Mongodb "
   ]
  },
  {
   "cell_type": "code",
   "execution_count": 1,
   "metadata": {},
   "outputs": [
    {
     "name": "stdout",
     "output_type": "stream",
     "text": [
      "Collecting pymongo\n",
      "  Downloading pymongo-4.13.0-cp312-cp312-macosx_11_0_arm64.whl.metadata (22 kB)\n",
      "Collecting dnspython<3.0.0,>=1.16.0 (from pymongo)\n",
      "  Using cached dnspython-2.7.0-py3-none-any.whl.metadata (5.8 kB)\n",
      "Downloading pymongo-4.13.0-cp312-cp312-macosx_11_0_arm64.whl (911 kB)\n",
      "\u001b[2K   \u001b[90m━━━━━━━━━━━━━━━━━━━━━━━━━━━━━━━━━━━━━━━━\u001b[0m \u001b[32m911.5/911.5 kB\u001b[0m \u001b[31m2.9 MB/s\u001b[0m eta \u001b[36m0:00:00\u001b[0ma \u001b[36m0:00:01\u001b[0m\n",
      "\u001b[?25hUsing cached dnspython-2.7.0-py3-none-any.whl (313 kB)\n",
      "Installing collected packages: dnspython, pymongo\n",
      "Successfully installed dnspython-2.7.0 pymongo-4.13.0\n"
     ]
    }
   ],
   "source": [
    "!pip install pymongo"
   ]
  },
  {
   "cell_type": "code",
   "execution_count": 34,
   "metadata": {},
   "outputs": [],
   "source": [
    "import pymongo\n",
    "import json"
   ]
  },
  {
   "cell_type": "code",
   "execution_count": 35,
   "metadata": {},
   "outputs": [],
   "source": [
    "with open('datos_pre.json',mode='r') as f:\n",
    "    datos =json.load(f)"
   ]
  },
  {
   "cell_type": "code",
   "execution_count": 36,
   "metadata": {},
   "outputs": [
    {
     "data": {
      "text/plain": [
       "287"
      ]
     },
     "execution_count": 36,
     "metadata": {},
     "output_type": "execute_result"
    }
   ],
   "source": [
    "len(datos)"
   ]
  },
  {
   "cell_type": "code",
   "execution_count": 37,
   "metadata": {},
   "outputs": [
    {
     "name": "stdout",
     "output_type": "stream",
     "text": [
      "[ObjectId('683860ecec62f7a31bdf4366'), ObjectId('683860ecec62f7a31bdf4367'), ObjectId('683860ecec62f7a31bdf4368'), ObjectId('683860ecec62f7a31bdf4369'), ObjectId('683860ecec62f7a31bdf436a'), ObjectId('683860ecec62f7a31bdf436b'), ObjectId('683860ecec62f7a31bdf436c'), ObjectId('683860ecec62f7a31bdf436d'), ObjectId('683860ecec62f7a31bdf436e'), ObjectId('683860ecec62f7a31bdf436f'), ObjectId('683860ecec62f7a31bdf4370'), ObjectId('683860ecec62f7a31bdf4371'), ObjectId('683860ecec62f7a31bdf4372'), ObjectId('683860ecec62f7a31bdf4373'), ObjectId('683860ecec62f7a31bdf4374'), ObjectId('683860ecec62f7a31bdf4375'), ObjectId('683860ecec62f7a31bdf4376'), ObjectId('683860ecec62f7a31bdf4377'), ObjectId('683860ecec62f7a31bdf4378'), ObjectId('683860ecec62f7a31bdf4379'), ObjectId('683860ecec62f7a31bdf437a'), ObjectId('683860ecec62f7a31bdf437b'), ObjectId('683860ecec62f7a31bdf437c'), ObjectId('683860ecec62f7a31bdf437d'), ObjectId('683860ecec62f7a31bdf437e'), ObjectId('683860ecec62f7a31bdf437f'), ObjectId('683860ecec62f7a31bdf4380'), ObjectId('683860ecec62f7a31bdf4381'), ObjectId('683860ecec62f7a31bdf4382'), ObjectId('683860ecec62f7a31bdf4383'), ObjectId('683860ecec62f7a31bdf4384'), ObjectId('683860ecec62f7a31bdf4385'), ObjectId('683860ecec62f7a31bdf4386'), ObjectId('683860ecec62f7a31bdf4387'), ObjectId('683860ecec62f7a31bdf4388'), ObjectId('683860ecec62f7a31bdf4389'), ObjectId('683860ecec62f7a31bdf438a'), ObjectId('683860ecec62f7a31bdf438b'), ObjectId('683860ecec62f7a31bdf438c'), ObjectId('683860ecec62f7a31bdf438d'), ObjectId('683860ecec62f7a31bdf438e'), ObjectId('683860ecec62f7a31bdf438f'), ObjectId('683860ecec62f7a31bdf4390'), ObjectId('683860ecec62f7a31bdf4391'), ObjectId('683860ecec62f7a31bdf4392'), ObjectId('683860ecec62f7a31bdf4393'), ObjectId('683860ecec62f7a31bdf4394'), ObjectId('683860ecec62f7a31bdf4395'), ObjectId('683860ecec62f7a31bdf4396'), ObjectId('683860ecec62f7a31bdf4397'), ObjectId('683860ecec62f7a31bdf4398'), ObjectId('683860ecec62f7a31bdf4399'), ObjectId('683860ecec62f7a31bdf439a'), ObjectId('683860ecec62f7a31bdf439b'), ObjectId('683860ecec62f7a31bdf439c'), ObjectId('683860ecec62f7a31bdf439d'), ObjectId('683860ecec62f7a31bdf439e'), ObjectId('683860ecec62f7a31bdf439f'), ObjectId('683860ecec62f7a31bdf43a0'), ObjectId('683860ecec62f7a31bdf43a1'), ObjectId('683860ecec62f7a31bdf43a2'), ObjectId('683860ecec62f7a31bdf43a3'), ObjectId('683860ecec62f7a31bdf43a4'), ObjectId('683860ecec62f7a31bdf43a5'), ObjectId('683860ecec62f7a31bdf43a6'), ObjectId('683860ecec62f7a31bdf43a7'), ObjectId('683860ecec62f7a31bdf43a8'), ObjectId('683860ecec62f7a31bdf43a9'), ObjectId('683860ecec62f7a31bdf43aa'), ObjectId('683860ecec62f7a31bdf43ab'), ObjectId('683860ecec62f7a31bdf43ac'), ObjectId('683860ecec62f7a31bdf43ad'), ObjectId('683860ecec62f7a31bdf43ae'), ObjectId('683860ecec62f7a31bdf43af'), ObjectId('683860ecec62f7a31bdf43b0'), ObjectId('683860ecec62f7a31bdf43b1'), ObjectId('683860ecec62f7a31bdf43b2'), ObjectId('683860ecec62f7a31bdf43b3'), ObjectId('683860ecec62f7a31bdf43b4'), ObjectId('683860ecec62f7a31bdf43b5'), ObjectId('683860ecec62f7a31bdf43b6'), ObjectId('683860ecec62f7a31bdf43b7'), ObjectId('683860ecec62f7a31bdf43b8'), ObjectId('683860ecec62f7a31bdf43b9'), ObjectId('683860ecec62f7a31bdf43ba'), ObjectId('683860ecec62f7a31bdf43bb'), ObjectId('683860ecec62f7a31bdf43bc'), ObjectId('683860ecec62f7a31bdf43bd'), ObjectId('683860ecec62f7a31bdf43be'), ObjectId('683860ecec62f7a31bdf43bf'), ObjectId('683860ecec62f7a31bdf43c0'), ObjectId('683860ecec62f7a31bdf43c1'), ObjectId('683860ecec62f7a31bdf43c2'), ObjectId('683860ecec62f7a31bdf43c3'), ObjectId('683860ecec62f7a31bdf43c4'), ObjectId('683860ecec62f7a31bdf43c5'), ObjectId('683860ecec62f7a31bdf43c6'), ObjectId('683860ecec62f7a31bdf43c7'), ObjectId('683860ecec62f7a31bdf43c8'), ObjectId('683860ecec62f7a31bdf43c9'), ObjectId('683860ecec62f7a31bdf43ca'), ObjectId('683860ecec62f7a31bdf43cb'), ObjectId('683860ecec62f7a31bdf43cc'), ObjectId('683860ecec62f7a31bdf43cd'), ObjectId('683860ecec62f7a31bdf43ce'), ObjectId('683860ecec62f7a31bdf43cf'), ObjectId('683860ecec62f7a31bdf43d0'), ObjectId('683860ecec62f7a31bdf43d1'), ObjectId('683860ecec62f7a31bdf43d2'), ObjectId('683860ecec62f7a31bdf43d3'), ObjectId('683860ecec62f7a31bdf43d4'), ObjectId('683860ecec62f7a31bdf43d5'), ObjectId('683860ecec62f7a31bdf43d6'), ObjectId('683860ecec62f7a31bdf43d7'), ObjectId('683860ecec62f7a31bdf43d8'), ObjectId('683860ecec62f7a31bdf43d9'), ObjectId('683860ecec62f7a31bdf43da'), ObjectId('683860ecec62f7a31bdf43db'), ObjectId('683860ecec62f7a31bdf43dc'), ObjectId('683860ecec62f7a31bdf43dd'), ObjectId('683860ecec62f7a31bdf43de'), ObjectId('683860ecec62f7a31bdf43df'), ObjectId('683860ecec62f7a31bdf43e0'), ObjectId('683860ecec62f7a31bdf43e1'), ObjectId('683860ecec62f7a31bdf43e2'), ObjectId('683860ecec62f7a31bdf43e3'), ObjectId('683860ecec62f7a31bdf43e4'), ObjectId('683860ecec62f7a31bdf43e5'), ObjectId('683860ecec62f7a31bdf43e6'), ObjectId('683860ecec62f7a31bdf43e7'), ObjectId('683860ecec62f7a31bdf43e8'), ObjectId('683860ecec62f7a31bdf43e9'), ObjectId('683860ecec62f7a31bdf43ea'), ObjectId('683860ecec62f7a31bdf43eb'), ObjectId('683860ecec62f7a31bdf43ec'), ObjectId('683860ecec62f7a31bdf43ed'), ObjectId('683860ecec62f7a31bdf43ee'), ObjectId('683860ecec62f7a31bdf43ef'), ObjectId('683860ecec62f7a31bdf43f0'), ObjectId('683860ecec62f7a31bdf43f1'), ObjectId('683860ecec62f7a31bdf43f2'), ObjectId('683860ecec62f7a31bdf43f3'), ObjectId('683860ecec62f7a31bdf43f4'), ObjectId('683860ecec62f7a31bdf43f5'), ObjectId('683860ecec62f7a31bdf43f6'), ObjectId('683860ecec62f7a31bdf43f7'), ObjectId('683860ecec62f7a31bdf43f8'), ObjectId('683860ecec62f7a31bdf43f9'), ObjectId('683860ecec62f7a31bdf43fa'), ObjectId('683860ecec62f7a31bdf43fb'), ObjectId('683860ecec62f7a31bdf43fc'), ObjectId('683860ecec62f7a31bdf43fd'), ObjectId('683860ecec62f7a31bdf43fe'), ObjectId('683860ecec62f7a31bdf43ff'), ObjectId('683860ecec62f7a31bdf4400'), ObjectId('683860ecec62f7a31bdf4401'), ObjectId('683860ecec62f7a31bdf4402'), ObjectId('683860ecec62f7a31bdf4403'), ObjectId('683860ecec62f7a31bdf4404'), ObjectId('683860ecec62f7a31bdf4405'), ObjectId('683860ecec62f7a31bdf4406'), ObjectId('683860ecec62f7a31bdf4407'), ObjectId('683860ecec62f7a31bdf4408'), ObjectId('683860ecec62f7a31bdf4409'), ObjectId('683860ecec62f7a31bdf440a'), ObjectId('683860ecec62f7a31bdf440b'), ObjectId('683860ecec62f7a31bdf440c'), ObjectId('683860ecec62f7a31bdf440d'), ObjectId('683860ecec62f7a31bdf440e'), ObjectId('683860ecec62f7a31bdf440f'), ObjectId('683860ecec62f7a31bdf4410'), ObjectId('683860ecec62f7a31bdf4411'), ObjectId('683860ecec62f7a31bdf4412'), ObjectId('683860ecec62f7a31bdf4413'), ObjectId('683860ecec62f7a31bdf4414'), ObjectId('683860ecec62f7a31bdf4415'), ObjectId('683860ecec62f7a31bdf4416'), ObjectId('683860ecec62f7a31bdf4417'), ObjectId('683860ecec62f7a31bdf4418'), ObjectId('683860ecec62f7a31bdf4419'), ObjectId('683860ecec62f7a31bdf441a'), ObjectId('683860ecec62f7a31bdf441b'), ObjectId('683860ecec62f7a31bdf441c'), ObjectId('683860ecec62f7a31bdf441d'), ObjectId('683860ecec62f7a31bdf441e'), ObjectId('683860ecec62f7a31bdf441f'), ObjectId('683860ecec62f7a31bdf4420'), ObjectId('683860ecec62f7a31bdf4421'), ObjectId('683860ecec62f7a31bdf4422'), ObjectId('683860ecec62f7a31bdf4423'), ObjectId('683860ecec62f7a31bdf4424'), ObjectId('683860ecec62f7a31bdf4425'), ObjectId('683860ecec62f7a31bdf4426'), ObjectId('683860ecec62f7a31bdf4427'), ObjectId('683860ecec62f7a31bdf4428'), ObjectId('683860ecec62f7a31bdf4429'), ObjectId('683860ecec62f7a31bdf442a'), ObjectId('683860ecec62f7a31bdf442b'), ObjectId('683860ecec62f7a31bdf442c'), ObjectId('683860ecec62f7a31bdf442d'), ObjectId('683860ecec62f7a31bdf442e'), ObjectId('683860ecec62f7a31bdf442f'), ObjectId('683860ecec62f7a31bdf4430'), ObjectId('683860ecec62f7a31bdf4431'), ObjectId('683860ecec62f7a31bdf4432'), ObjectId('683860ecec62f7a31bdf4433'), ObjectId('683860ecec62f7a31bdf4434'), ObjectId('683860ecec62f7a31bdf4435'), ObjectId('683860ecec62f7a31bdf4436'), ObjectId('683860ecec62f7a31bdf4437'), ObjectId('683860ecec62f7a31bdf4438'), ObjectId('683860ecec62f7a31bdf4439'), ObjectId('683860ecec62f7a31bdf443a'), ObjectId('683860ecec62f7a31bdf443b'), ObjectId('683860ecec62f7a31bdf443c'), ObjectId('683860ecec62f7a31bdf443d'), ObjectId('683860ecec62f7a31bdf443e'), ObjectId('683860ecec62f7a31bdf443f'), ObjectId('683860ecec62f7a31bdf4440'), ObjectId('683860ecec62f7a31bdf4441'), ObjectId('683860ecec62f7a31bdf4442'), ObjectId('683860ecec62f7a31bdf4443'), ObjectId('683860ecec62f7a31bdf4444'), ObjectId('683860ecec62f7a31bdf4445'), ObjectId('683860ecec62f7a31bdf4446'), ObjectId('683860ecec62f7a31bdf4447'), ObjectId('683860ecec62f7a31bdf4448'), ObjectId('683860ecec62f7a31bdf4449'), ObjectId('683860ecec62f7a31bdf444a'), ObjectId('683860ecec62f7a31bdf444b'), ObjectId('683860ecec62f7a31bdf444c'), ObjectId('683860ecec62f7a31bdf444d'), ObjectId('683860ecec62f7a31bdf444e'), ObjectId('683860ecec62f7a31bdf444f'), ObjectId('683860ecec62f7a31bdf4450'), ObjectId('683860ecec62f7a31bdf4451'), ObjectId('683860ecec62f7a31bdf4452'), ObjectId('683860ecec62f7a31bdf4453'), ObjectId('683860ecec62f7a31bdf4454'), ObjectId('683860ecec62f7a31bdf4455'), ObjectId('683860ecec62f7a31bdf4456'), ObjectId('683860ecec62f7a31bdf4457'), ObjectId('683860ecec62f7a31bdf4458'), ObjectId('683860ecec62f7a31bdf4459'), ObjectId('683860ecec62f7a31bdf445a'), ObjectId('683860ecec62f7a31bdf445b'), ObjectId('683860ecec62f7a31bdf445c'), ObjectId('683860ecec62f7a31bdf445d'), ObjectId('683860ecec62f7a31bdf445e'), ObjectId('683860ecec62f7a31bdf445f'), ObjectId('683860ecec62f7a31bdf4460'), ObjectId('683860ecec62f7a31bdf4461'), ObjectId('683860ecec62f7a31bdf4462'), ObjectId('683860ecec62f7a31bdf4463'), ObjectId('683860ecec62f7a31bdf4464'), ObjectId('683860ecec62f7a31bdf4465'), ObjectId('683860ecec62f7a31bdf4466'), ObjectId('683860ecec62f7a31bdf4467'), ObjectId('683860ecec62f7a31bdf4468'), ObjectId('683860ecec62f7a31bdf4469'), ObjectId('683860ecec62f7a31bdf446a'), ObjectId('683860ecec62f7a31bdf446b'), ObjectId('683860ecec62f7a31bdf446c'), ObjectId('683860ecec62f7a31bdf446d'), ObjectId('683860ecec62f7a31bdf446e'), ObjectId('683860ecec62f7a31bdf446f'), ObjectId('683860ecec62f7a31bdf4470'), ObjectId('683860ecec62f7a31bdf4471'), ObjectId('683860ecec62f7a31bdf4472'), ObjectId('683860ecec62f7a31bdf4473'), ObjectId('683860ecec62f7a31bdf4474'), ObjectId('683860ecec62f7a31bdf4475'), ObjectId('683860ecec62f7a31bdf4476'), ObjectId('683860ecec62f7a31bdf4477'), ObjectId('683860ecec62f7a31bdf4478'), ObjectId('683860ecec62f7a31bdf4479'), ObjectId('683860ecec62f7a31bdf447a'), ObjectId('683860ecec62f7a31bdf447b'), ObjectId('683860ecec62f7a31bdf447c'), ObjectId('683860ecec62f7a31bdf447d'), ObjectId('683860ecec62f7a31bdf447e'), ObjectId('683860ecec62f7a31bdf447f'), ObjectId('683860ecec62f7a31bdf4480'), ObjectId('683860ecec62f7a31bdf4481'), ObjectId('683860ecec62f7a31bdf4482'), ObjectId('683860ecec62f7a31bdf4483'), ObjectId('683860ecec62f7a31bdf4484')]\n"
     ]
    }
   ],
   "source": [
    "myclient = pymongo.MongoClient(\"mongodb://localhost:27017/\")\n",
    "mydb = myclient['editorial']\n",
    "mycol = mydb['libros']\n",
    "\n",
    "x = mycol.insert_many(datos)\n",
    "print(x.inserted_ids)"
   ]
  },
  {
   "cell_type": "code",
   "execution_count": null,
   "metadata": {},
   "outputs": [],
   "source": []
  }
 ],
 "metadata": {
  "kernelspec": {
   "display_name": "diplomado",
   "language": "python",
   "name": "python3"
  },
  "language_info": {
   "codemirror_mode": {
    "name": "ipython",
    "version": 3
   },
   "file_extension": ".py",
   "mimetype": "text/x-python",
   "name": "python",
   "nbconvert_exporter": "python",
   "pygments_lexer": "ipython3",
   "version": "3.12.2"
  }
 },
 "nbformat": 4,
 "nbformat_minor": 2
}
