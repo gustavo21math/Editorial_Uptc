{
 "cells": [
  {
   "cell_type": "code",
   "execution_count": 1,
   "metadata": {},
   "outputs": [],
   "source": [
    "import requests\n",
    "from bs4 import BeautifulSoup\n",
    "import csv"
   ]
  },
  {
   "cell_type": "code",
   "execution_count": 29,
   "metadata": {},
   "outputs": [],
   "source": [
    "#url de libros Uptc\n",
    "url = 'https://editorial.uptc.edu.co/catalogo.html'\n",
    "res = requests.get(url)\n",
    "soup = BeautifulSoup(res.text,'html')\n",
    "\n",
    "\n",
    "scrap=soup.find('div',class_=\"sa-product-container-v3 grid\")\n",
    "productos_url = scrap.find_all('li',class_=\"sa-product-item-v3 sa-product_grid_size\")\n",
    "\n",
    "url_libros = [url.find('a')[\"href\"] for url in productos_url]\n",
    "\n",
    "datos = {\n",
    "        \"title\": None ,\n",
    "        \"colaboradores\":None,\n",
    "        \"precio\":None,\n",
    "        \"ano\": None,\n",
    "        \"palabras clave\":None,\n",
    "        \"doi\":None,\n",
    "        \"descripcion\":None,\n",
    "    }\n",
    "\n",
    "\n"
   ]
  },
  {
   "cell_type": "code",
   "execution_count": 32,
   "metadata": {},
   "outputs": [
    {
     "data": {
      "text/plain": [
       "'https://editorial.uptc.edu.co/gpd-la-leche-humana-un-amor-quimico-9789586608602-6688706a1f37c.html'"
      ]
     },
     "execution_count": 32,
     "metadata": {},
     "output_type": "execute_result"
    }
   ],
   "source": [
    "url_libros[-1]"
   ]
  },
  {
   "cell_type": "code",
   "execution_count": 113,
   "metadata": {},
   "outputs": [
    {
     "ename": "SyntaxError",
     "evalue": "invalid syntax (256830141.py, line 17)",
     "output_type": "error",
     "traceback": [
      "\u001b[0;36m  Cell \u001b[0;32mIn[113], line 17\u001b[0;36m\u001b[0m\n\u001b[0;31m    palabras_clave.append()e\u001b[0m\n\u001b[0m                           ^\u001b[0m\n\u001b[0;31mSyntaxError\u001b[0m\u001b[0;31m:\u001b[0m invalid syntax\n"
     ]
    }
   ],
   "source": [
    "titulos = []\n",
    "autores = []\n",
    "palabras_clave = []\n",
    "precios = []\n",
    "doi = []\n",
    "descripcion = []\n",
    "url = url_libros[0]\n",
    "res = requests.get(url)\n",
    "soup = BeautifulSoup(res.text,'html')\n",
    "\n",
    "\n",
    "scrap=soup.find('div',class_=\"product-info-main\")\n",
    "titulos.append(scrap.find('div',class_=\"col-xs-12\").find('h2').text)\n",
    "## busquemos lo autores\n",
    "temp = [i for i in scrap.find_all('div',class_=\"col-xs-12\")]\n",
    "temp1 =[ a.text for a in temp[1].find_all('a')  if 'products_author' in a['href'] ]\n",
    "autores.append(temp1)\n",
    "# busca las palabras clave\n",
    "temp1 =[ a.text for a in temp[1].find_all('a')  if 'products_keywords' in a['href'] ]\n",
    "palabras_clave.append()\n",
    "# DOi\n",
    "doi.append([c[-1].text  for c in temp])\n",
    "# precios\n",
    "temp = [a for a in scrap.find_all('div',class_='price-box price-final_price')]\n",
    "temp1 = [a.text.strip() for a in temp]\n",
    "precios.append(temp1)\n",
    "#descripcion\n",
    "descripcion.append(scrap.find('div',class_='description-wrapper').text)\n",
    "\n",
    "\n",
    "\n",
    "\n",
    "\n"
   ]
  },
  {
   "cell_type": "code",
   "execution_count": 169,
   "metadata": {},
   "outputs": [],
   "source": [
    "scrap=soup.find('div',class_=\"filter-options panel-group\")"
   ]
  },
  {
   "cell_type": "code",
   "execution_count": 181,
   "metadata": {},
   "outputs": [
    {
     "ename": "KeyError",
     "evalue": "0",
     "output_type": "error",
     "traceback": [
      "\u001b[0;31m---------------------------------------------------------------------------\u001b[0m",
      "\u001b[0;31mKeyError\u001b[0m                                  Traceback (most recent call last)",
      "Cell \u001b[0;32mIn[181], line 1\u001b[0m\n\u001b[0;32m----> 1\u001b[0m \u001b[43mscrap\u001b[49m\u001b[43m[\u001b[49m\u001b[38;5;241;43m0\u001b[39;49m\u001b[43m]\u001b[49m\n",
      "File \u001b[0;32m/opt/anaconda3/envs/diplomado/lib/python3.12/site-packages/bs4/element.py:1573\u001b[0m, in \u001b[0;36mTag.__getitem__\u001b[0;34m(self, key)\u001b[0m\n\u001b[1;32m   1570\u001b[0m \u001b[38;5;28;01mdef\u001b[39;00m \u001b[38;5;21m__getitem__\u001b[39m(\u001b[38;5;28mself\u001b[39m, key):\n\u001b[1;32m   1571\u001b[0m \u001b[38;5;250m    \u001b[39m\u001b[38;5;124;03m\"\"\"tag[key] returns the value of the 'key' attribute for the Tag,\u001b[39;00m\n\u001b[1;32m   1572\u001b[0m \u001b[38;5;124;03m    and throws an exception if it's not there.\"\"\"\u001b[39;00m\n\u001b[0;32m-> 1573\u001b[0m     \u001b[38;5;28;01mreturn\u001b[39;00m \u001b[38;5;28;43mself\u001b[39;49m\u001b[38;5;241;43m.\u001b[39;49m\u001b[43mattrs\u001b[49m\u001b[43m[\u001b[49m\u001b[43mkey\u001b[49m\u001b[43m]\u001b[49m\n",
      "\u001b[0;31mKeyError\u001b[0m: 0"
     ]
    }
   ],
   "source": [
    "scrap[]"
   ]
  },
  {
   "cell_type": "code",
   "execution_count": 184,
   "metadata": {},
   "outputs": [
    {
     "data": {
      "text/plain": [
       "'Detalle de formato:'"
      ]
     },
     "execution_count": 184,
     "metadata": {},
     "output_type": "execute_result"
    }
   ],
   "source": [
    "scrap.find_all('strong')[0].text"
   ]
  },
  {
   "cell_type": "code",
   "execution_count": 179,
   "metadata": {},
   "outputs": [
    {
     "name": "stdout",
     "output_type": "stream",
     "text": [
      "eBook - EPUB\n",
      "Digital (suministrado electrónicamente)\n",
      "EPUB\n",
      "Activo\n",
      "9789586609272\n",
      "Texto (legible a simple vista)\n",
      "DRM\n",
      "Share\n",
      "Permitido, con limitaciones\n",
      "Español\n",
      "1,593 Kbytes\n",
      "Universidad Pedagógica y Tecnológica de Colombia\n",
      "Nueva edición\n",
      "1\n",
      "Tunja\n",
      "Colombia\n",
      "2025\n",
      "Exclusivo para un punto o canal de venta\n",
      "COP $30.000\n",
      "Libro impreso - Tapa blanda o Bolsillo\n",
      "Tapa blanda o Bolsillo\n",
      "Activo\n",
      "9789586609265\n",
      "Texto (legible a simple vista)\n",
      "Español\n",
      "14 x 21  x 0.6\n",
      "106 Páginas\n",
      "universidad Pedagógica y Tecnológica de Colombia\n",
      "Nueva edición\n",
      "1\n",
      "Tunja\n",
      "Colombia\n",
      "2025\n",
      "Exclusivo para un punto o canal de venta\n",
      "419307\n",
      "COP $40.000\n"
     ]
    }
   ],
   "source": [
    "for a in scrap.find_all('span'):\n",
    "    print(a.text)"
   ]
  },
  {
   "cell_type": "code",
   "execution_count": 153,
   "metadata": {},
   "outputs": [
    {
     "data": {
      "text/plain": [
       "['', 'COP $40.000', 'COP $30.000']"
      ]
     },
     "execution_count": 153,
     "metadata": {},
     "output_type": "execute_result"
    }
   ],
   "source": [
    "temp1"
   ]
  },
  {
   "cell_type": "code",
   "execution_count": 115,
   "metadata": {},
   "outputs": [
    {
     "data": {
      "text/plain": [
       "['Fluido',\n",
       " 'Sistema de bombeo',\n",
       " 'Bomba centrífuga',\n",
       " 'Mecánica de fluidos',\n",
       " 'Transporte de fluidos',\n",
       " 'Operación y Mantenimiento']"
      ]
     },
     "execution_count": 115,
     "metadata": {},
     "output_type": "execute_result"
    }
   ],
   "source": [
    "temp1"
   ]
  },
  {
   "cell_type": "code",
   "execution_count": 73,
   "metadata": {},
   "outputs": [
    {
     "data": {
      "text/plain": [
       "['Otto Caro Niño',\n",
       " 'Orlando Díaz Parra',\n",
       " 'Fluido',\n",
       " 'Sistema de bombeo',\n",
       " 'Bomba centrífuga',\n",
       " 'Mecánica de fluidos',\n",
       " 'Transporte de fluidos',\n",
       " 'Operación y Mantenimiento',\n",
       " '10.19053/uptc.9789586609265']"
      ]
     },
     "execution_count": 73,
     "metadata": {},
     "output_type": "execute_result"
    }
   ],
   "source": [
    "temp1"
   ]
  },
  {
   "cell_type": "code",
   "execution_count": 9,
   "metadata": {},
   "outputs": [
    {
     "data": {
      "text/plain": [
       "200"
      ]
     },
     "execution_count": 9,
     "metadata": {},
     "output_type": "execute_result"
    }
   ],
   "source": [
    "res.status_code"
   ]
  },
  {
   "cell_type": "markdown",
   "metadata": {},
   "source": [
    " tenemos un estatus 200 lo cual es correcto la solicitud\n",
    " "
   ]
  },
  {
   "cell_type": "code",
   "execution_count": 4,
   "metadata": {},
   "outputs": [],
   "source": [
    "soup = BeautifulSoup(res.text,'html')"
   ]
  },
  {
   "cell_type": "code",
   "execution_count": 19,
   "metadata": {},
   "outputs": [
    {
     "data": {
      "text/plain": [
       "'Catálogo - UPTC'"
      ]
     },
     "execution_count": 19,
     "metadata": {},
     "output_type": "execute_result"
    }
   ],
   "source": [
    "soup.find('title').get_text()"
   ]
  },
  {
   "cell_type": "code",
   "execution_count": 22,
   "metadata": {},
   "outputs": [],
   "source": [
    "datos=soup.find('div',class_=\"sa-product-container-v3 grid\")\n"
   ]
  },
  {
   "cell_type": "code",
   "execution_count": 26,
   "metadata": {},
   "outputs": [],
   "source": [
    "productos = datos.find_all('li',class_=\"sa-product-item-v3 sa-product_grid_size\")"
   ]
  },
  {
   "cell_type": "code",
   "execution_count": null,
   "metadata": {},
   "outputs": [],
   "source": [
    "a = {\n",
    "    titulo: \n",
    "    colaboradores:\n",
    "    ano:\n",
    "    precio:\n",
    "}"
   ]
  },
  {
   "cell_type": "code",
   "execution_count": 48,
   "metadata": {},
   "outputs": [],
   "source": [
    "title =[i.find('span').get_text(strip=True) for i in productos]"
   ]
  },
  {
   "cell_type": "code",
   "execution_count": 62,
   "metadata": {},
   "outputs": [],
   "source": [
    "ano = [i.find('div',class_='product-list-edition').get_text(strip=True) for i in productos]"
   ]
  },
  {
   "cell_type": "code",
   "execution_count": 76,
   "metadata": {},
   "outputs": [
    {
     "data": {
      "text/plain": [
       "'\\nImpreso\\n\\n\\nCOP $40.000\\n\\n\\n'"
      ]
     },
     "execution_count": 76,
     "metadata": {},
     "output_type": "execute_result"
    }
   ],
   "source": [
    "productos[].find('span',class_='minimal-price').get_text()"
   ]
  },
  {
   "cell_type": "code",
   "execution_count": 101,
   "metadata": {},
   "outputs": [],
   "source": [
    "datos = []\n",
    "for i in productos:\n",
    "    a = {\n",
    "        \"title\":i.find('span').get_text(strip=True),\n",
    "        \"colaboradores\":list(i.find('div',class_='sa-product-author-v3').stripped_strings)[1],\n",
    "        \"precio\": i.find('span',class_='minimal-price').get_text().replace(\"\\n\",\"\"),\n",
    "        \"ano\": i.find('div',class_='product-list-edition').get_text(strip=True)\n",
    "    }\n",
    "    datos.append(a)\n"
   ]
  },
  {
   "cell_type": "code",
   "execution_count": 102,
   "metadata": {},
   "outputs": [
    {
     "data": {
      "text/plain": [
       "[{'title': 'Transporte de fluidos bombas centrífugas',\n",
       "  'colaboradores': 'Otto Caro Niño                                                                                     y otros',\n",
       "  'precio': 'eBookCOP $30.000',\n",
       "  'ano': '2025'},\n",
       " {'title': 'Introducción al cálculo de probabilidades para estudiantes de ingeniería',\n",
       "  'colaboradores': 'Alex L. Rojas',\n",
       "  'precio': 'eBookGratuito',\n",
       "  'ano': '2025'},\n",
       " {'title': 'Derechos colectivos en Colombia:',\n",
       "  'colaboradores': 'Luis Bernardo Díaz Gamboa                                                                                     y otros',\n",
       "  'precio': 'eBookGratuito',\n",
       "  'ano': '2025'},\n",
       " {'title': 'Resistencias y voces de las mujeres:',\n",
       "  'colaboradores': 'Celina de Jesús Trimiño Velásquez                                                                                     y otros',\n",
       "  'precio': 'ImpresoCOP $40.000',\n",
       "  'ano': '2025'},\n",
       " {'title': 'Manual de prácticas pedagógicas para la formación de maestros.',\n",
       "  'colaboradores': 'Myriam Cecilia Leguizamón González',\n",
       "  'precio': 'eBookGratuito',\n",
       "  'ano': '2025'},\n",
       " {'title': 'Maestras rurales, indígenas y afrodescendientes en Colombia.',\n",
       "  'colaboradores': 'Diana Elvira Soto Arango                                                                                     y otros',\n",
       "  'precio': 'eBookGratuito',\n",
       "  'ano': '2025'},\n",
       " {'title': 'Meristemos apicales, una técnica de propagación in vitro útil en procesos de conservación de Espeletia paipana.',\n",
       "  'colaboradores': 'María Yecenia Hernández Herrera                                                                                     y otros',\n",
       "  'precio': 'ImpresoCOP $35.000',\n",
       "  'ano': '2025'},\n",
       " {'title': 'Microorganismos endófitos en frailejones propagados in vitro: caracterización microbiológica y molecular.',\n",
       "  'colaboradores': 'María Yecenia Hernández Herrera                                                                                     y otros',\n",
       "  'precio': 'ImpresoCOP $35.000',\n",
       "  'ano': '2025'},\n",
       " {'title': 'Biotecnología para la conservación de frailejones:',\n",
       "  'colaboradores': 'María Yecenia Hernández Herrera                                                                                     y otros',\n",
       "  'precio': 'ImpresoCOP $35.000',\n",
       "  'ano': '2025'},\n",
       " {'title': 'Intelecto, estética y escuela.',\n",
       "  'colaboradores': 'Martha Soledad Montero González                                                                                     y otros',\n",
       "  'precio': 'eBookCOP $26.500',\n",
       "  'ano': '2025'},\n",
       " {'title': 'Revisiting Language Teaching:',\n",
       "  'colaboradores': 'Jahir Aguirre Morales                                                                                     y otros',\n",
       "  'precio': 'eBookGratuito',\n",
       "  'ano': '2025'},\n",
       " {'title': 'Addressing the Basics of EFL Classrooms',\n",
       "  'colaboradores': 'Jahir Aguirre Morales                                                                                     y otros',\n",
       "  'precio': 'eBookCOP $27.900',\n",
       "  'ano': '2024'},\n",
       " {'title': 'Gestión de la calidad en destinos turísticos',\n",
       "  'colaboradores': 'Diana Cristina Rodríguez Moreno                                                                                     y otros',\n",
       "  'precio': 'eBookGratuito',\n",
       "  'ano': '2024'},\n",
       " {'title': 'Infancia, arte y pensamiento',\n",
       "  'colaboradores': 'María Teresa Suárez Vaca                                                                                     y otros',\n",
       "  'precio': 'eBookCOP $29.900',\n",
       "  'ano': '2024'},\n",
       " {'title': 'Pruebas de laboratorio para la educación multidisciplinar con el laboratorio de empresa como modelo didáctico',\n",
       "  'colaboradores': 'Henry César Bernal Campos                                                                                     y otros',\n",
       "  'precio': 'ImpresoCOP $32.000',\n",
       "  'ano': '2024'},\n",
       " {'title': 'Lectura y escritura en la escuela',\n",
       "  'colaboradores': 'Lola María Morales Mora                                                                                     y otros',\n",
       "  'precio': 'ImpresoCOP $35.000',\n",
       "  'ano': '2024'},\n",
       " {'title': 'CREACIÓN',\n",
       "  'colaboradores': 'William Elías Arciniegas Rodríguez                                                                                     y otros',\n",
       "  'precio': 'ImpresoCOP $38.000',\n",
       "  'ano': '2024'},\n",
       " {'title': 'Evaluación de informes de sostenibilidad ambiental en empresas líderes del sector alimentario y propuesta de un modelo simplificado para pymes. Un análisis comparativo de Alpina, Bavaria, Nutresa y Postobón (2020-2022)',\n",
       "  'colaboradores': 'Gloria Cecilia Dávila Giraldo                                                                                     y otros',\n",
       "  'precio': 'ImpresoCOP $30.000',\n",
       "  'ano': '2024'},\n",
       " {'title': 'Poemas raros y curiosos',\n",
       "  'colaboradores': 'Diego Mauricio Barrera Quiroga',\n",
       "  'precio': 'eBookCOP $27.900',\n",
       "  'ano': '2024'},\n",
       " {'title': 'Conflicto armado en Boyacá: 2005-2018',\n",
       "  'colaboradores': 'William Ernesto Condiza Plazas',\n",
       "  'precio': 'eBookCOP $27.700',\n",
       "  'ano': '2024'},\n",
       " {'title': 'Gestión Educativa, Perspectivas, Actores y Contextos',\n",
       "  'colaboradores': 'Liliana Inés Ávila Garzón                                                                                     y otros',\n",
       "  'precio': 'ImpresoCOP $70.000',\n",
       "  'ano': '2024'},\n",
       " {'title': 'Contabilidad financiera bajo NIIF',\n",
       "  'colaboradores': 'Gloria Cecilia Dávila Giraldo                                                                                     y otros',\n",
       "  'precio': 'ImpresoCOP $30.000',\n",
       "  'ano': '2024'},\n",
       " {'title': 'Cálculo y medición de probabilidades',\n",
       "  'colaboradores': 'Margoth Adriana Valdivieso Miranda                                                                                     y otros',\n",
       "  'precio': 'ImpresoCOP $38.000',\n",
       "  'ano': '2024'},\n",
       " {'title': 'Infancia y ruralidad',\n",
       "  'colaboradores': 'Liliana Inés Ávila Garzón',\n",
       "  'precio': 'ImpresoCOP $35.000',\n",
       "  'ano': '2024'},\n",
       " {'title': 'Una nanovisión electrónica de sistemas moleculares',\n",
       "  'colaboradores': 'Judith Helena Ojeda Silva',\n",
       "  'precio': 'ImpresoCOP $55.000',\n",
       "  'ano': '2024'},\n",
       " {'title': 'Teoría de la Medida',\n",
       "  'colaboradores': 'Rafael José Álvarez Bilbao                                                                                     y otros',\n",
       "  'precio': 'ImpresoCOP $65.000',\n",
       "  'ano': '2024'},\n",
       " {'title': 'Esmeraldas en Colombia',\n",
       "  'colaboradores': 'Javier Guerrero Barón                                                                                     y otros',\n",
       "  'precio': 'ImpresoCOP $35.000',\n",
       "  'ano': '2024'},\n",
       " {'title': 'Validación e implementación de tecnologías de propagación de semillas de arracacha',\n",
       "  'colaboradores': 'Javier Giovanni Álvarez-Herrera                                                                                     y otros',\n",
       "  'precio': 'ImpresoCOP $30.000',\n",
       "  'ano': '2024'},\n",
       " {'title': 'Emprendimiento desde un enfoque STEAM',\n",
       "  'colaboradores': 'Maribel Martínez Montaña                                                                                     y otros',\n",
       "  'precio': 'eBookGratuito',\n",
       "  'ano': '2024'},\n",
       " {'title': 'La leche humana: un amor químico',\n",
       "  'colaboradores': 'Óscar Orlando Rodríguez Wílchez                                                                                     y otros',\n",
       "  'precio': 'eBookGratuito',\n",
       "  'ano': '2024'}]"
      ]
     },
     "execution_count": 102,
     "metadata": {},
     "output_type": "execute_result"
    }
   ],
   "source": [
    "datos"
   ]
  },
  {
   "cell_type": "markdown",
   "metadata": {},
   "source": [
    "## 1.2 Encontrando las url de cada producto.\n",
    "\n",
    "+ esto nos permitira acceder a toda la informacion del producto "
   ]
  },
  {
   "cell_type": "code",
   "execution_count": null,
   "metadata": {},
   "outputs": [],
   "source": [
    "productos = soup.find('div',class_='sa-product-container-v3 grid').find_all('li')\n",
    "urls=[url.find('a') ['href'] for url in productos]"
   ]
  },
  {
   "cell_type": "code",
   "execution_count": 18,
   "metadata": {},
   "outputs": [
    {
     "data": {
      "text/plain": [
       "68"
      ]
     },
     "execution_count": 18,
     "metadata": {},
     "output_type": "execute_result"
    }
   ],
   "source": [
    "len(productos)"
   ]
  },
  {
   "cell_type": "code",
   "execution_count": 31,
   "metadata": {},
   "outputs": [
    {
     "data": {
      "text/plain": [
       "<a href=\"https://editorial.uptc.edu.co/gpd-transporte-de-fluidos-bombas-centrifugas-9789586609265-67ebeccc7db73.html\">\n",
       "<img alt=\"Portada de la publicación Transporte de fluidos bombas centrífugas\" src=\"https://simehbucket.s3.amazonaws.com/images/415ebe2115322046c17eea71821248a5-medium.jpg\"/>\n",
       "</a>"
      ]
     },
     "execution_count": 31,
     "metadata": {},
     "output_type": "execute_result"
    }
   ],
   "source": [
    "productos[0].find('a')"
   ]
  },
  {
   "cell_type": "code",
   "execution_count": null,
   "metadata": {},
   "outputs": [],
   "source": []
  }
 ],
 "metadata": {
  "kernelspec": {
   "display_name": "diplomado",
   "language": "python",
   "name": "python3"
  },
  "language_info": {
   "codemirror_mode": {
    "name": "ipython",
    "version": 3
   },
   "file_extension": ".py",
   "mimetype": "text/x-python",
   "name": "python",
   "nbconvert_exporter": "python",
   "pygments_lexer": "ipython3",
   "version": "3.12.2"
  }
 },
 "nbformat": 4,
 "nbformat_minor": 2
}
