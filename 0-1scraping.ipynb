{
 "cells": [
  {
   "cell_type": "code",
   "execution_count": 18,
   "metadata": {},
   "outputs": [],
   "source": [
    "import requests\n",
    "from bs4 import BeautifulSoup\n",
    "import json\n",
    "import time\n",
    "import pandas as pd\n"
   ]
  },
  {
   "cell_type": "code",
   "execution_count": 29,
   "metadata": {},
   "outputs": [],
   "source": [
    "#url de libros Uptc\n",
    "url = 'https://editorial.uptc.edu.co/catalogo.html?product_list_limit=60'\n",
    "bucle = 'https://editorial.uptc.edu.co/catalogo.html?p=2&product_list_limit=60'\n",
    "res = requests.get(url)\n",
    "soup = BeautifulSoup(res.text,'html')\n",
    "\n",
    "\n",
    "scrap=soup.find('div',class_=\"sa-product-container-v3 grid\")\n",
    "productos_url = scrap.find_all('li',class_=\"sa-product-item-v3 sa-product_grid_size\")\n",
    "\n",
    "url_libros = [url.find('a')[\"href\"] for url in productos_url]\n",
    "urls = pd.DataFrame(url_libros,columns=['url'])\n",
    "for i in range(2,6):\n",
    "    url = f'https://editorial.uptc.edu.co/catalogo.html?p={i}&product_list_limit=60'\n",
    "    res = requests.get(url)\n",
    "    soup = BeautifulSoup(res.text,'html')\n",
    "    productos_url = soup.find('div',class_=\"sa-product-container-v3 grid\").find_all('li',class_=\"sa-product-item-v3 sa-product_grid_size\")\n",
    "    url_libros = [url.find('a')[\"href\"] for url in productos_url]\n",
    "    urls = pd.concat([urls,pd.DataFrame(url_libros,columns=['url'])])\n",
    "\n"
   ]
  },
  {
   "cell_type": "code",
   "execution_count": 32,
   "metadata": {},
   "outputs": [
    {
     "data": {
      "text/plain": [
       "(298, 1)"
      ]
     },
     "execution_count": 32,
     "metadata": {},
     "output_type": "execute_result"
    }
   ],
   "source": [
    "# urls.to_csv('urls.csv',index=False)\n",
    "urls.shape"
   ]
  },
  {
   "cell_type": "code",
   "execution_count": 5,
   "metadata": {},
   "outputs": [
    {
     "data": {
      "text/plain": [
       "'https://editorial.uptc.edu.co/gpd-introduccion-al-calculo-de-probabilidades-para-estudiantes-de-ingenieria-9789586609449-680d0a2fc352d.html'"
      ]
     },
     "execution_count": 5,
     "metadata": {},
     "output_type": "execute_result"
    }
   ],
   "source": [
    "url_libros[1]"
   ]
  },
  {
   "cell_type": "code",
   "execution_count": 10,
   "metadata": {},
   "outputs": [
    {
     "name": "stdout",
     "output_type": "stream",
     "text": [
      "No se encontro metadata_imp: list index out of range\n"
     ]
    }
   ],
   "source": [
    "titulos = []\n",
    "autores = []\n",
    "palabras_clave = []\n",
    "precios = []\n",
    "descripcion = []\n",
    "\n",
    "\n",
    "res = requests.get(url_libros[1])\n",
    "soup = BeautifulSoup(res.text,'html')\n",
    "\n",
    "scrap=soup.find('div',class_=\"product-info-main\")\n",
    "titulos.append(scrap.find('div',class_=\"col-xs-12\").find('h2').text)\n",
    "## busquemos lo autores\n",
    "temp = [i for i in scrap.find_all('div',class_=\"col-xs-12\")]\n",
    "temp1 =[ a.text for a in temp[1].find_all('a')  if 'products_author' in a['href'] ]\n",
    "autores.append(temp1)\n",
    "# busca las palabras clave\n",
    "temp1 =[ a.text for a in temp[1].find_all('a')  if 'products_keywords' in a['href'] ]\n",
    "palabras_clave.append(temp1)\n",
    "# DOi\n",
    "try:\n",
    "    doi = temp[1].find_all('a')[-1].text\n",
    "except Exception as e:\n",
    "    print(f'No se encontro doi: {e}')\n",
    "    doi = None\n",
    "\n",
    "# precios\n",
    "try:\n",
    "    temp = [a for a in scrap.find_all('div',class_='price-box price-final_price')]\n",
    "    temp1 = [a.text.strip() for a in temp]\n",
    "    precios.append(temp1)\n",
    "except Exception as e:\n",
    "    print(f'No se encontro precio: {e}')\n",
    "    precios.append('Gratuito')\n",
    "# descripcion\n",
    "descripcion.append(scrap.find('div',class_='description-wrapper').text)\n",
    "# eBook\n",
    "try:\n",
    "    scrap = soup.find('div',class_=\"product-info-metadata\")\n",
    "    temp1 = [a.text for a in scrap.find_all('strong')]\n",
    "    temp2 = [a.text for a in scrap.find_all('span')]\n",
    "    metadata_ebook ={c:v for c,v in zip(temp1,temp2)}\n",
    "except Exception as e:\n",
    "    print(f'No se encontro metadata_ebook: {e}')\n",
    "    metadata_ebook = None\n",
    "#impreso\n",
    "try:\n",
    "    scrap = soup.find_all('div',class_=\"product-info-metadata\")[1]\n",
    "    temp1 = [a.text for a in scrap.find_all('strong')]\n",
    "    temp2 = [a.text for a in scrap.find_all('span')]\n",
    "    metadata_imp ={c:v for c,v in zip(temp1,temp2)}\n",
    "except Exception as e:\n",
    "    print(f'No se encontro metadata_imp: {e}')\n",
    "    metadata_imp = None\n",
    "datos= {\n",
    "        \"title\": titulos,\n",
    "        \"colaboradores\":autores,\n",
    "        \"precio\":precios,\n",
    "        \"palabras clave\":palabras_clave,\n",
    "        \"doi\":doi,\n",
    "        \"descripcion\":descripcion,\n",
    "        \"metadata_ebook\":metadata_ebook,\n",
    "        \"metadata_imp\":metadata_imp\n",
    "    }"
   ]
  },
  {
   "cell_type": "code",
   "execution_count": 12,
   "metadata": {},
   "outputs": [
    {
     "data": {
      "text/plain": [
       "{'title': ['Introducción al cálculo de probabilidades para estudiantes de ingeniería'],\n",
       " 'colaboradores': [['Alex L. Rojas']],\n",
       " 'precio': [['']],\n",
       " 'palabras clave': [['Espacio muestral',\n",
       "   'Probabilidad',\n",
       "   'Probabilidad condicional',\n",
       "   'Variables aleatorias',\n",
       "   'Funciones de distribución',\n",
       "   'Función de fiabilidad',\n",
       "   'Función cuantil']],\n",
       " 'doi': 'Función cuantil',\n",
       " 'descripcion': ['\\nEl propósito de este libro es servir de texto guía en cursos de probabilidad para estudiantes de ingeniería. Por esta razón, los conceptos presentados son principalmente aplicados a la solución de problemas en diversos campos de la ingeniería. En el primer capítulo se presentan los conceptos básicos de matemáticas que facilitarán la comprensión del resto del material presentado. En el segundo capítulo se presentan las definiciones básicas de probabilidad y probabilidad condicional, junto a las principales reglas para hacer cálculos de probabilidades. En el tercer capítulo se introduce el concepto de variable aleatoria y cómo este nos permite modelar problemas básicos de ingeniería. También, se definen las funciones de distribución, probabilidad, fiabilidad y cuantil asociadas a una variable aleatoria. En el cuarto capítulo se presenta el concepto de esperanza matemática y cómo puede utilizarse para identificar funciones de distribución. Finalmente, el quinto capítulo presenta las distribuciones más comúnmente utilizadas en ingeniería para modelar problemas en los que hay elementos de incertidumbre. A lo largo del texto se utiliza software libre para realizar los cálculos y simulaciones.\\n'],\n",
       " 'metadata_ebook': {'Detalle de formato:': 'Digital: descarga y online',\n",
       "  'Formato:': 'PDF',\n",
       "  'Estado:': 'Activo',\n",
       "  'ISBN-13:': '9789586609449',\n",
       "  'Tipo de contenido principal:': 'Texto (legible a simple vista)',\n",
       "  'Protección técnica de publicación digital:': 'DRM',\n",
       "  'Idioma del texto:': 'Español',\n",
       "  'Sello editorial: ': 'Universidad Pedagógica y Tecnológica de Colombia',\n",
       "  'Tipo de edición: ': 'Nueva edición',\n",
       "  'Número de edición: ': '1',\n",
       "  'Ciudad de publicación:': 'Tunja',\n",
       "  'País de publicación:': 'Colombia',\n",
       "  'Fecha de publicación:': '2025',\n",
       "  'Tipo de restricción de venta:': 'Exclusivo para un punto o canal de venta'},\n",
       " 'metadata_imp': None}"
      ]
     },
     "execution_count": 12,
     "metadata": {},
     "output_type": "execute_result"
    }
   ],
   "source": [
    "datos"
   ]
  },
  {
   "cell_type": "code",
   "execution_count": 78,
   "metadata": {},
   "outputs": [
    {
     "data": {
      "text/plain": [
       "'10.19053/uptc.9789586609265'"
      ]
     },
     "execution_count": 78,
     "metadata": {},
     "output_type": "execute_result"
    }
   ],
   "source": [
    "scrap=soup.find('div',class_=\"product-info-main\")\n",
    "temp = [i for i in scrap.find_all('div',class_=\"col-xs-12\")]\n",
    "temp[1].find_all('a')[-1].text"
   ]
  },
  {
   "cell_type": "code",
   "execution_count": 45,
   "metadata": {},
   "outputs": [],
   "source": [
    "scrap = soup.find_all('div',class_=\"product-info-metadata\")[1]"
   ]
  },
  {
   "cell_type": "code",
   "execution_count": 51,
   "metadata": {},
   "outputs": [
    {
     "data": {
      "text/plain": [
       "[<strong>DOI:</strong>,\n",
       " <strong>Detalle de formato:</strong>,\n",
       " <strong>Estado:</strong>,\n",
       " <strong>ISBN-13:</strong>,\n",
       " <strong>Tipo de contenido principal:</strong>,\n",
       " <strong>Idioma del texto:</strong>,\n",
       " <strong>Tamaño (cm):</strong>,\n",
       " <strong>Número de páginas del contenido principal:</strong>,\n",
       " <strong>Sello editorial: </strong>,\n",
       " <strong>Tipo de edición: </strong>,\n",
       " <strong>Número de edición: </strong>,\n",
       " <strong>Ciudad de publicación:</strong>,\n",
       " <strong>País de publicación:</strong>,\n",
       " <strong>Fecha de publicación:</strong>,\n",
       " <strong>Tipo de restricción de venta:</strong>,\n",
       " <strong>SIIEL SKU:</strong>,\n",
       " <strong>Precio: </strong>]"
      ]
     },
     "execution_count": 51,
     "metadata": {},
     "output_type": "execute_result"
    }
   ],
   "source": [
    "scrap.find_all('strong')"
   ]
  },
  {
   "cell_type": "code",
   "execution_count": 53,
   "metadata": {},
   "outputs": [],
   "source": [
    "temp1 = [a.text for a in scrap.find_all('strong')]\n",
    "temp2 = [a.text for a in scrap.find_all('span')]\n",
    "metadata_imp ={c:v for c,v in zip(temp1,temp2)}"
   ]
  },
  {
   "cell_type": "code",
   "execution_count": 54,
   "metadata": {},
   "outputs": [
    {
     "data": {
      "text/plain": [
       "{'DOI:': 'Tapa blanda o Bolsillo',\n",
       " 'Detalle de formato:': 'Activo',\n",
       " 'Estado:': '9789586609265',\n",
       " 'ISBN-13:': 'Texto (legible a simple vista)',\n",
       " 'Tipo de contenido principal:': 'Español',\n",
       " 'Idioma del texto:': '14 x 21  x 0.6',\n",
       " 'Tamaño (cm):': '106 Páginas',\n",
       " 'Número de páginas del contenido principal:': 'universidad Pedagógica y Tecnológica de Colombia',\n",
       " 'Sello editorial: ': 'Nueva edición',\n",
       " 'Tipo de edición: ': '1',\n",
       " 'Número de edición: ': 'Tunja',\n",
       " 'Ciudad de publicación:': 'Colombia',\n",
       " 'País de publicación:': '2025',\n",
       " 'Fecha de publicación:': 'Exclusivo para un punto o canal de venta',\n",
       " 'Tipo de restricción de venta:': '419307',\n",
       " 'SIIEL SKU:': 'COP $40.000'}"
      ]
     },
     "execution_count": 54,
     "metadata": {},
     "output_type": "execute_result"
    }
   ],
   "source": [
    "metadata_imp"
   ]
  },
  {
   "cell_type": "code",
   "execution_count": 44,
   "metadata": {},
   "outputs": [
    {
     "data": {
      "text/plain": [
       "{'Detalle de formato:': 'Digital (suministrado electrónicamente)',\n",
       " 'Formato:': 'EPUB',\n",
       " 'Estado:': 'Activo',\n",
       " 'ISBN-13:': '9789586609272',\n",
       " 'Tipo de contenido del producto:': 'Texto (legible a simple vista)',\n",
       " 'Protección técnica de publicación digital:': 'DRM',\n",
       " 'Tipo de restricción de uso en publicaciones digitales:': 'Share',\n",
       " 'Permiso de uso en publicaciones digitales:': 'Permitido, con limitaciones',\n",
       " 'Idioma del texto:': 'Español',\n",
       " 'Tamaño del archivo:': '1,593 Kbytes',\n",
       " 'Sello editorial: ': 'Universidad Pedagógica y Tecnológica de Colombia',\n",
       " 'Tipo de edición: ': 'Nueva edición',\n",
       " 'Número de edición: ': '1',\n",
       " 'Ciudad de publicación:': 'Tunja',\n",
       " 'País de publicación:': 'Colombia',\n",
       " 'Fecha de publicación:': '2025',\n",
       " 'Tipo de restricción de venta:': 'Exclusivo para un punto o canal de venta',\n",
       " 'Precio: ': 'COP $30.000'}"
      ]
     },
     "execution_count": 44,
     "metadata": {},
     "output_type": "execute_result"
    }
   ],
   "source": [
    "metadata_ebook"
   ]
  },
  {
   "cell_type": "code",
   "execution_count": 41,
   "metadata": {},
   "outputs": [
    {
     "data": {
      "text/plain": [
       "(18, 18)"
      ]
     },
     "execution_count": 41,
     "metadata": {},
     "output_type": "execute_result"
    }
   ],
   "source": [
    "len(temp1) ,len(temp2)"
   ]
  },
  {
   "cell_type": "code",
   "execution_count": 39,
   "metadata": {},
   "outputs": [
    {
     "name": "stdout",
     "output_type": "stream",
     "text": [
      "Digital (suministrado electrónicamente)\n",
      "EPUB\n",
      "Activo\n",
      "9789586609272\n",
      "Texto (legible a simple vista)\n",
      "DRM\n",
      "Share\n",
      "Permitido, con limitaciones\n",
      "Español\n",
      "1,593 Kbytes\n",
      "Universidad Pedagógica y Tecnológica de Colombia\n",
      "Nueva edición\n",
      "1\n",
      "Tunja\n",
      "Colombia\n",
      "2025\n",
      "Exclusivo para un punto o canal de venta\n",
      "COP $30.000\n"
     ]
    }
   ],
   "source": [
    "for a in scrap.find_all('span'):\n",
    "    print(a.text)"
   ]
  },
  {
   "cell_type": "code",
   "execution_count": 38,
   "metadata": {},
   "outputs": [
    {
     "data": {
      "text/plain": [
       "['Detalle de formato:',\n",
       " 'Formato:',\n",
       " 'Estado:',\n",
       " 'ISBN-13:',\n",
       " 'Tipo de contenido del producto:',\n",
       " 'Protección técnica de publicación digital:',\n",
       " 'Tipo de restricción de uso en publicaciones digitales:',\n",
       " 'Permiso de uso en publicaciones digitales:',\n",
       " 'Idioma del texto:',\n",
       " 'Tamaño del archivo:',\n",
       " 'Sello editorial: ',\n",
       " 'Tipo de edición: ',\n",
       " 'Número de edición: ',\n",
       " 'Ciudad de publicación:',\n",
       " 'País de publicación:',\n",
       " 'Fecha de publicación:',\n",
       " 'Tipo de restricción de venta:',\n",
       " 'Precio: ']"
      ]
     },
     "execution_count": 38,
     "metadata": {},
     "output_type": "execute_result"
    }
   ],
   "source": [
    "temp"
   ]
  },
  {
   "cell_type": "code",
   "execution_count": 115,
   "metadata": {},
   "outputs": [
    {
     "data": {
      "text/plain": [
       "['Fluido',\n",
       " 'Sistema de bombeo',\n",
       " 'Bomba centrífuga',\n",
       " 'Mecánica de fluidos',\n",
       " 'Transporte de fluidos',\n",
       " 'Operación y Mantenimiento']"
      ]
     },
     "execution_count": 115,
     "metadata": {},
     "output_type": "execute_result"
    }
   ],
   "source": [
    "temp1"
   ]
  },
  {
   "cell_type": "code",
   "execution_count": 73,
   "metadata": {},
   "outputs": [
    {
     "data": {
      "text/plain": [
       "['Otto Caro Niño',\n",
       " 'Orlando Díaz Parra',\n",
       " 'Fluido',\n",
       " 'Sistema de bombeo',\n",
       " 'Bomba centrífuga',\n",
       " 'Mecánica de fluidos',\n",
       " 'Transporte de fluidos',\n",
       " 'Operación y Mantenimiento',\n",
       " '10.19053/uptc.9789586609265']"
      ]
     },
     "execution_count": 73,
     "metadata": {},
     "output_type": "execute_result"
    }
   ],
   "source": [
    "temp1"
   ]
  },
  {
   "cell_type": "code",
   "execution_count": 9,
   "metadata": {},
   "outputs": [
    {
     "data": {
      "text/plain": [
       "200"
      ]
     },
     "execution_count": 9,
     "metadata": {},
     "output_type": "execute_result"
    }
   ],
   "source": [
    "res.status_code"
   ]
  },
  {
   "cell_type": "markdown",
   "metadata": {},
   "source": [
    " tenemos un estatus 200 lo cual es correcto la solicitud\n",
    " "
   ]
  },
  {
   "cell_type": "code",
   "execution_count": 4,
   "metadata": {},
   "outputs": [],
   "source": [
    "soup = BeautifulSoup(res.text,'html')"
   ]
  },
  {
   "cell_type": "code",
   "execution_count": 19,
   "metadata": {},
   "outputs": [
    {
     "data": {
      "text/plain": [
       "'Catálogo - UPTC'"
      ]
     },
     "execution_count": 19,
     "metadata": {},
     "output_type": "execute_result"
    }
   ],
   "source": [
    "soup.find('title').get_text()"
   ]
  },
  {
   "cell_type": "code",
   "execution_count": 22,
   "metadata": {},
   "outputs": [],
   "source": [
    "datos=soup.find('div',class_=\"sa-product-container-v3 grid\")\n"
   ]
  },
  {
   "cell_type": "code",
   "execution_count": 26,
   "metadata": {},
   "outputs": [],
   "source": [
    "productos = datos.find_all('li',class_=\"sa-product-item-v3 sa-product_grid_size\")"
   ]
  },
  {
   "cell_type": "code",
   "execution_count": null,
   "metadata": {},
   "outputs": [],
   "source": [
    "a = {\n",
    "    titulo: \n",
    "    colaboradores:\n",
    "    ano:\n",
    "    precio:\n",
    "}"
   ]
  },
  {
   "cell_type": "code",
   "execution_count": 48,
   "metadata": {},
   "outputs": [],
   "source": [
    "title =[i.find('span').get_text(strip=True) for i in productos]"
   ]
  },
  {
   "cell_type": "code",
   "execution_count": 62,
   "metadata": {},
   "outputs": [],
   "source": [
    "ano = [i.find('div',class_='product-list-edition').get_text(strip=True) for i in productos]"
   ]
  },
  {
   "cell_type": "code",
   "execution_count": 76,
   "metadata": {},
   "outputs": [
    {
     "data": {
      "text/plain": [
       "'\\nImpreso\\n\\n\\nCOP $40.000\\n\\n\\n'"
      ]
     },
     "execution_count": 76,
     "metadata": {},
     "output_type": "execute_result"
    }
   ],
   "source": [
    "productos[].find('span',class_='minimal-price').get_text()"
   ]
  },
  {
   "cell_type": "code",
   "execution_count": 101,
   "metadata": {},
   "outputs": [],
   "source": [
    "datos = []\n",
    "for i in productos:\n",
    "    a = {\n",
    "        \"title\":i.find('span').get_text(strip=True),\n",
    "        \"colaboradores\":list(i.find('div',class_='sa-product-author-v3').stripped_strings)[1],\n",
    "        \"precio\": i.find('span',class_='minimal-price').get_text().replace(\"\\n\",\"\"),\n",
    "        \"ano\": i.find('div',class_='product-list-edition').get_text(strip=True)\n",
    "    }\n",
    "    datos.append(a)\n"
   ]
  },
  {
   "cell_type": "code",
   "execution_count": 102,
   "metadata": {},
   "outputs": [
    {
     "data": {
      "text/plain": [
       "[{'title': 'Transporte de fluidos bombas centrífugas',\n",
       "  'colaboradores': 'Otto Caro Niño                                                                                     y otros',\n",
       "  'precio': 'eBookCOP $30.000',\n",
       "  'ano': '2025'},\n",
       " {'title': 'Introducción al cálculo de probabilidades para estudiantes de ingeniería',\n",
       "  'colaboradores': 'Alex L. Rojas',\n",
       "  'precio': 'eBookGratuito',\n",
       "  'ano': '2025'},\n",
       " {'title': 'Derechos colectivos en Colombia:',\n",
       "  'colaboradores': 'Luis Bernardo Díaz Gamboa                                                                                     y otros',\n",
       "  'precio': 'eBookGratuito',\n",
       "  'ano': '2025'},\n",
       " {'title': 'Resistencias y voces de las mujeres:',\n",
       "  'colaboradores': 'Celina de Jesús Trimiño Velásquez                                                                                     y otros',\n",
       "  'precio': 'ImpresoCOP $40.000',\n",
       "  'ano': '2025'},\n",
       " {'title': 'Manual de prácticas pedagógicas para la formación de maestros.',\n",
       "  'colaboradores': 'Myriam Cecilia Leguizamón González',\n",
       "  'precio': 'eBookGratuito',\n",
       "  'ano': '2025'},\n",
       " {'title': 'Maestras rurales, indígenas y afrodescendientes en Colombia.',\n",
       "  'colaboradores': 'Diana Elvira Soto Arango                                                                                     y otros',\n",
       "  'precio': 'eBookGratuito',\n",
       "  'ano': '2025'},\n",
       " {'title': 'Meristemos apicales, una técnica de propagación in vitro útil en procesos de conservación de Espeletia paipana.',\n",
       "  'colaboradores': 'María Yecenia Hernández Herrera                                                                                     y otros',\n",
       "  'precio': 'ImpresoCOP $35.000',\n",
       "  'ano': '2025'},\n",
       " {'title': 'Microorganismos endófitos en frailejones propagados in vitro: caracterización microbiológica y molecular.',\n",
       "  'colaboradores': 'María Yecenia Hernández Herrera                                                                                     y otros',\n",
       "  'precio': 'ImpresoCOP $35.000',\n",
       "  'ano': '2025'},\n",
       " {'title': 'Biotecnología para la conservación de frailejones:',\n",
       "  'colaboradores': 'María Yecenia Hernández Herrera                                                                                     y otros',\n",
       "  'precio': 'ImpresoCOP $35.000',\n",
       "  'ano': '2025'},\n",
       " {'title': 'Intelecto, estética y escuela.',\n",
       "  'colaboradores': 'Martha Soledad Montero González                                                                                     y otros',\n",
       "  'precio': 'eBookCOP $26.500',\n",
       "  'ano': '2025'},\n",
       " {'title': 'Revisiting Language Teaching:',\n",
       "  'colaboradores': 'Jahir Aguirre Morales                                                                                     y otros',\n",
       "  'precio': 'eBookGratuito',\n",
       "  'ano': '2025'},\n",
       " {'title': 'Addressing the Basics of EFL Classrooms',\n",
       "  'colaboradores': 'Jahir Aguirre Morales                                                                                     y otros',\n",
       "  'precio': 'eBookCOP $27.900',\n",
       "  'ano': '2024'},\n",
       " {'title': 'Gestión de la calidad en destinos turísticos',\n",
       "  'colaboradores': 'Diana Cristina Rodríguez Moreno                                                                                     y otros',\n",
       "  'precio': 'eBookGratuito',\n",
       "  'ano': '2024'},\n",
       " {'title': 'Infancia, arte y pensamiento',\n",
       "  'colaboradores': 'María Teresa Suárez Vaca                                                                                     y otros',\n",
       "  'precio': 'eBookCOP $29.900',\n",
       "  'ano': '2024'},\n",
       " {'title': 'Pruebas de laboratorio para la educación multidisciplinar con el laboratorio de empresa como modelo didáctico',\n",
       "  'colaboradores': 'Henry César Bernal Campos                                                                                     y otros',\n",
       "  'precio': 'ImpresoCOP $32.000',\n",
       "  'ano': '2024'},\n",
       " {'title': 'Lectura y escritura en la escuela',\n",
       "  'colaboradores': 'Lola María Morales Mora                                                                                     y otros',\n",
       "  'precio': 'ImpresoCOP $35.000',\n",
       "  'ano': '2024'},\n",
       " {'title': 'CREACIÓN',\n",
       "  'colaboradores': 'William Elías Arciniegas Rodríguez                                                                                     y otros',\n",
       "  'precio': 'ImpresoCOP $38.000',\n",
       "  'ano': '2024'},\n",
       " {'title': 'Evaluación de informes de sostenibilidad ambiental en empresas líderes del sector alimentario y propuesta de un modelo simplificado para pymes. Un análisis comparativo de Alpina, Bavaria, Nutresa y Postobón (2020-2022)',\n",
       "  'colaboradores': 'Gloria Cecilia Dávila Giraldo                                                                                     y otros',\n",
       "  'precio': 'ImpresoCOP $30.000',\n",
       "  'ano': '2024'},\n",
       " {'title': 'Poemas raros y curiosos',\n",
       "  'colaboradores': 'Diego Mauricio Barrera Quiroga',\n",
       "  'precio': 'eBookCOP $27.900',\n",
       "  'ano': '2024'},\n",
       " {'title': 'Conflicto armado en Boyacá: 2005-2018',\n",
       "  'colaboradores': 'William Ernesto Condiza Plazas',\n",
       "  'precio': 'eBookCOP $27.700',\n",
       "  'ano': '2024'},\n",
       " {'title': 'Gestión Educativa, Perspectivas, Actores y Contextos',\n",
       "  'colaboradores': 'Liliana Inés Ávila Garzón                                                                                     y otros',\n",
       "  'precio': 'ImpresoCOP $70.000',\n",
       "  'ano': '2024'},\n",
       " {'title': 'Contabilidad financiera bajo NIIF',\n",
       "  'colaboradores': 'Gloria Cecilia Dávila Giraldo                                                                                     y otros',\n",
       "  'precio': 'ImpresoCOP $30.000',\n",
       "  'ano': '2024'},\n",
       " {'title': 'Cálculo y medición de probabilidades',\n",
       "  'colaboradores': 'Margoth Adriana Valdivieso Miranda                                                                                     y otros',\n",
       "  'precio': 'ImpresoCOP $38.000',\n",
       "  'ano': '2024'},\n",
       " {'title': 'Infancia y ruralidad',\n",
       "  'colaboradores': 'Liliana Inés Ávila Garzón',\n",
       "  'precio': 'ImpresoCOP $35.000',\n",
       "  'ano': '2024'},\n",
       " {'title': 'Una nanovisión electrónica de sistemas moleculares',\n",
       "  'colaboradores': 'Judith Helena Ojeda Silva',\n",
       "  'precio': 'ImpresoCOP $55.000',\n",
       "  'ano': '2024'},\n",
       " {'title': 'Teoría de la Medida',\n",
       "  'colaboradores': 'Rafael José Álvarez Bilbao                                                                                     y otros',\n",
       "  'precio': 'ImpresoCOP $65.000',\n",
       "  'ano': '2024'},\n",
       " {'title': 'Esmeraldas en Colombia',\n",
       "  'colaboradores': 'Javier Guerrero Barón                                                                                     y otros',\n",
       "  'precio': 'ImpresoCOP $35.000',\n",
       "  'ano': '2024'},\n",
       " {'title': 'Validación e implementación de tecnologías de propagación de semillas de arracacha',\n",
       "  'colaboradores': 'Javier Giovanni Álvarez-Herrera                                                                                     y otros',\n",
       "  'precio': 'ImpresoCOP $30.000',\n",
       "  'ano': '2024'},\n",
       " {'title': 'Emprendimiento desde un enfoque STEAM',\n",
       "  'colaboradores': 'Maribel Martínez Montaña                                                                                     y otros',\n",
       "  'precio': 'eBookGratuito',\n",
       "  'ano': '2024'},\n",
       " {'title': 'La leche humana: un amor químico',\n",
       "  'colaboradores': 'Óscar Orlando Rodríguez Wílchez                                                                                     y otros',\n",
       "  'precio': 'eBookGratuito',\n",
       "  'ano': '2024'}]"
      ]
     },
     "execution_count": 102,
     "metadata": {},
     "output_type": "execute_result"
    }
   ],
   "source": [
    "datos"
   ]
  },
  {
   "cell_type": "markdown",
   "metadata": {},
   "source": [
    "## 1.2 Encontrando las url de cada producto.\n",
    "\n",
    "+ esto nos permitira acceder a toda la informacion del producto "
   ]
  },
  {
   "cell_type": "code",
   "execution_count": null,
   "metadata": {},
   "outputs": [],
   "source": [
    "productos = soup.find('div',class_='sa-product-container-v3 grid').find_all('li')\n",
    "urls=[url.find('a') ['href'] for url in productos]"
   ]
  },
  {
   "cell_type": "code",
   "execution_count": 18,
   "metadata": {},
   "outputs": [
    {
     "data": {
      "text/plain": [
       "68"
      ]
     },
     "execution_count": 18,
     "metadata": {},
     "output_type": "execute_result"
    }
   ],
   "source": [
    "len(productos)"
   ]
  },
  {
   "cell_type": "code",
   "execution_count": 31,
   "metadata": {},
   "outputs": [
    {
     "data": {
      "text/plain": [
       "<a href=\"https://editorial.uptc.edu.co/gpd-transporte-de-fluidos-bombas-centrifugas-9789586609265-67ebeccc7db73.html\">\n",
       "<img alt=\"Portada de la publicación Transporte de fluidos bombas centrífugas\" src=\"https://simehbucket.s3.amazonaws.com/images/415ebe2115322046c17eea71821248a5-medium.jpg\"/>\n",
       "</a>"
      ]
     },
     "execution_count": 31,
     "metadata": {},
     "output_type": "execute_result"
    }
   ],
   "source": [
    "productos[0].find('a')"
   ]
  },
  {
   "cell_type": "code",
   "execution_count": null,
   "metadata": {},
   "outputs": [],
   "source": []
  }
 ],
 "metadata": {
  "kernelspec": {
   "display_name": "diplomado",
   "language": "python",
   "name": "python3"
  },
  "language_info": {
   "codemirror_mode": {
    "name": "ipython",
    "version": 3
   },
   "file_extension": ".py",
   "mimetype": "text/x-python",
   "name": "python",
   "nbconvert_exporter": "python",
   "pygments_lexer": "ipython3",
   "version": "3.12.2"
  }
 },
 "nbformat": 4,
 "nbformat_minor": 2
}
