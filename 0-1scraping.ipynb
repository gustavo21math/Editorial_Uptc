{
 "cells": [
  {
   "cell_type": "code",
   "execution_count": 12,
   "metadata": {},
   "outputs": [],
   "source": [
    "import requests\n",
    "from bs4 import BeautifulSoup\n",
    "import json\n",
    "import time\n",
    "import pandas as pd\n",
    "import re\n"
   ]
  },
  {
   "cell_type": "code",
   "execution_count": 29,
   "metadata": {},
   "outputs": [],
   "source": [
    "#url de libros Uptc\n",
    "url = 'https://editorial.uptc.edu.co/catalogo.html?product_list_limit=60'\n",
    "bucle = 'https://editorial.uptc.edu.co/catalogo.html?p=2&product_list_limit=60'\n",
    "res = requests.get(url)\n",
    "soup = BeautifulSoup(res.text,'html')\n",
    "\n",
    "\n",
    "scrap = soup.find('div',class_=\"sa-product-container-v3 grid\")\n",
    "productos_url = scrap.find_all('li',class_=\"sa-product-item-v3 sa-product_grid_size\")\n",
    "\n",
    "url_libros = [url.find('a')[\"href\"] for url in productos_url]\n",
    "urls = pd.DataFrame(url_libros,columns=['url'])\n",
    "for i in range(2,6):\n",
    "    url = f'https://editorial.uptc.edu.co/catalogo.html?p={i}&product_list_limit=60'\n",
    "    res = requests.get(url)\n",
    "    soup = BeautifulSoup(res.text,'html')\n",
    "    productos_url = soup.find('div',class_=\"sa-product-container-v3 grid\").find_all('li',class_=\"sa-product-item-v3 sa-product_grid_size\")\n",
    "    url_libros = [url.find('a')[\"href\"] for url in productos_url]\n",
    "    urls = pd.concat([urls,pd.DataFrame(url_libros,columns=['url'])])\n",
    "\n"
   ]
  },
  {
   "cell_type": "code",
   "execution_count": 6,
   "metadata": {},
   "outputs": [],
   "source": [
    "url_libros = pd.read_csv('urls.csv')"
   ]
  },
  {
   "cell_type": "code",
   "execution_count": 3,
   "metadata": {},
   "outputs": [
    {
     "data": {
      "text/plain": [
       "(298, 1)"
      ]
     },
     "execution_count": 3,
     "metadata": {},
     "output_type": "execute_result"
    }
   ],
   "source": [
    "url_libros.shape"
   ]
  },
  {
   "cell_type": "code",
   "execution_count": 8,
   "metadata": {},
   "outputs": [
    {
     "data": {
      "text/html": [
       "<div>\n",
       "<style scoped>\n",
       "    .dataframe tbody tr th:only-of-type {\n",
       "        vertical-align: middle;\n",
       "    }\n",
       "\n",
       "    .dataframe tbody tr th {\n",
       "        vertical-align: top;\n",
       "    }\n",
       "\n",
       "    .dataframe thead th {\n",
       "        text-align: right;\n",
       "    }\n",
       "</style>\n",
       "<table border=\"1\" class=\"dataframe\">\n",
       "  <thead>\n",
       "    <tr style=\"text-align: right;\">\n",
       "      <th></th>\n",
       "      <th>title</th>\n",
       "      <th>colaboradores</th>\n",
       "      <th>precio</th>\n",
       "      <th>palabras clave</th>\n",
       "      <th>doi</th>\n",
       "      <th>descripcion</th>\n",
       "      <th>metadata_ebook</th>\n",
       "      <th>metadata_imp</th>\n",
       "    </tr>\n",
       "  </thead>\n",
       "  <tbody>\n",
       "    <tr>\n",
       "      <th>0</th>\n",
       "      <td>[Transporte de fluidos bombas centrífugas]</td>\n",
       "      <td>[[Otto Caro Niño, Orlando Díaz Parra]]</td>\n",
       "      <td>[[, COP $40.000, COP $30.000]]</td>\n",
       "      <td>[[Fluido, Sistema de bombeo, Bomba centrífuga,...</td>\n",
       "      <td>10.19053/uptc.9789586609265</td>\n",
       "      <td>[\\nUn sistema compuesto por una conducción y s...</td>\n",
       "      <td>{'Detalle de formato:': 'Digital: descarga', '...</td>\n",
       "      <td>{'DOI:': 'Tapa blanda o Bolsillo', 'Detalle de...</td>\n",
       "    </tr>\n",
       "    <tr>\n",
       "      <th>1</th>\n",
       "      <td>[Introducción al cálculo de probabilidades par...</td>\n",
       "      <td>[[Alex L. Rojas]]</td>\n",
       "      <td>[[]]</td>\n",
       "      <td>[[Espacio muestral, Probabilidad, Probabilidad...</td>\n",
       "      <td>Función cuantil</td>\n",
       "      <td>[\\nEl propósito de este libro es servir de tex...</td>\n",
       "      <td>{'Detalle de formato:': 'Tapa blanda o Bolsill...</td>\n",
       "      <td>None</td>\n",
       "    </tr>\n",
       "    <tr>\n",
       "      <th>2</th>\n",
       "      <td>[Derechos colectivos en Colombia:]</td>\n",
       "      <td>[[Luis Bernardo Díaz Gamboa, Pedro Alfonso Sán...</td>\n",
       "      <td>[[]]</td>\n",
       "      <td>[[Derecho colectivo, Política pública, Estado ...</td>\n",
       "      <td>Planes de desarrollo</td>\n",
       "      <td>[\\nLos derechos colectivos permiten una adecua...</td>\n",
       "      <td>{'Detalle de formato:': 'Tapa blanda o Bolsill...</td>\n",
       "      <td>None</td>\n",
       "    </tr>\n",
       "    <tr>\n",
       "      <th>3</th>\n",
       "      <td>[Resistencias y voces de las mujeres:]</td>\n",
       "      <td>[[Celina de Jesús Trimiño Velásquez, Claire Ta...</td>\n",
       "      <td>[[, COP $40.000]]</td>\n",
       "      <td>[[Conflicto armado colombiano, Luchas y voces ...</td>\n",
       "      <td>10.19053/uptc.9789586609388</td>\n",
       "      <td>[\\nEl libro ofrece una visión integral de algu...</td>\n",
       "      <td>{'DOI:': 'Tapa blanda o Bolsillo', 'Detalle de...</td>\n",
       "      <td>None</td>\n",
       "    </tr>\n",
       "    <tr>\n",
       "      <th>4</th>\n",
       "      <td>[Manual de prácticas pedagógicas para la forma...</td>\n",
       "      <td>[[Myriam Cecilia Leguizamón González]]</td>\n",
       "      <td>[[]]</td>\n",
       "      <td>[[Práctica pedagógica, Maestro, Pedagogía, For...</td>\n",
       "      <td>Educación</td>\n",
       "      <td>[\\nEste manual está diseñado para docentes de ...</td>\n",
       "      <td>{'Detalle de formato:': 'Tapa blanda o Bolsill...</td>\n",
       "      <td>None</td>\n",
       "    </tr>\n",
       "  </tbody>\n",
       "</table>\n",
       "</div>"
      ],
      "text/plain": [
       "                                               title  \\\n",
       "0         [Transporte de fluidos bombas centrífugas]   \n",
       "1  [Introducción al cálculo de probabilidades par...   \n",
       "2                 [Derechos colectivos en Colombia:]   \n",
       "3             [Resistencias y voces de las mujeres:]   \n",
       "4  [Manual de prácticas pedagógicas para la forma...   \n",
       "\n",
       "                                       colaboradores  \\\n",
       "0             [[Otto Caro Niño, Orlando Díaz Parra]]   \n",
       "1                                  [[Alex L. Rojas]]   \n",
       "2  [[Luis Bernardo Díaz Gamboa, Pedro Alfonso Sán...   \n",
       "3  [[Celina de Jesús Trimiño Velásquez, Claire Ta...   \n",
       "4             [[Myriam Cecilia Leguizamón González]]   \n",
       "\n",
       "                           precio  \\\n",
       "0  [[, COP $40.000, COP $30.000]]   \n",
       "1                            [[]]   \n",
       "2                            [[]]   \n",
       "3               [[, COP $40.000]]   \n",
       "4                            [[]]   \n",
       "\n",
       "                                      palabras clave  \\\n",
       "0  [[Fluido, Sistema de bombeo, Bomba centrífuga,...   \n",
       "1  [[Espacio muestral, Probabilidad, Probabilidad...   \n",
       "2  [[Derecho colectivo, Política pública, Estado ...   \n",
       "3  [[Conflicto armado colombiano, Luchas y voces ...   \n",
       "4  [[Práctica pedagógica, Maestro, Pedagogía, For...   \n",
       "\n",
       "                           doi  \\\n",
       "0  10.19053/uptc.9789586609265   \n",
       "1              Función cuantil   \n",
       "2         Planes de desarrollo   \n",
       "3  10.19053/uptc.9789586609388   \n",
       "4                    Educación   \n",
       "\n",
       "                                         descripcion  \\\n",
       "0  [\\nUn sistema compuesto por una conducción y s...   \n",
       "1  [\\nEl propósito de este libro es servir de tex...   \n",
       "2  [\\nLos derechos colectivos permiten una adecua...   \n",
       "3  [\\nEl libro ofrece una visión integral de algu...   \n",
       "4  [\\nEste manual está diseñado para docentes de ...   \n",
       "\n",
       "                                      metadata_ebook  \\\n",
       "0  {'Detalle de formato:': 'Digital: descarga', '...   \n",
       "1  {'Detalle de formato:': 'Tapa blanda o Bolsill...   \n",
       "2  {'Detalle de formato:': 'Tapa blanda o Bolsill...   \n",
       "3  {'DOI:': 'Tapa blanda o Bolsillo', 'Detalle de...   \n",
       "4  {'Detalle de formato:': 'Tapa blanda o Bolsill...   \n",
       "\n",
       "                                        metadata_imp  \n",
       "0  {'DOI:': 'Tapa blanda o Bolsillo', 'Detalle de...  \n",
       "1                                               None  \n",
       "2                                               None  \n",
       "3                                               None  \n",
       "4                                               None  "
      ]
     },
     "execution_count": 8,
     "metadata": {},
     "output_type": "execute_result"
    }
   ],
   "source": [
    "datos = pd.read_json('datos.json')\n",
    "datos.head()"
   ]
  },
  {
   "cell_type": "code",
   "execution_count": 53,
   "metadata": {},
   "outputs": [
    {
     "data": {
      "text/plain": [
       "(298, 1)"
      ]
     },
     "execution_count": 53,
     "metadata": {},
     "output_type": "execute_result"
    }
   ],
   "source": [
    "#urls.to_json('urls.json',index=False)\n",
    "urls.shape"
   ]
  },
  {
   "cell_type": "code",
   "execution_count": 13,
   "metadata": {},
   "outputs": [],
   "source": [
    "\n",
    "def extraer_palabras_clave(texto):\n",
    "    # Patrón para encontrar palabras clave y sus valores\n",
    "    patron = r'([^:]+):\\s*([^\\n]+)'\n",
    "    \n",
    "    # Encontrar todas las coincidencias\n",
    "    coincidencias = re.findall(patron, texto)\n",
    "    \n",
    "    # Crear diccionario con las palabras clave\n",
    "    palabras_clave = {}\n",
    "    for clave, valor in coincidencias:\n",
    "        # Limpiar espacios en blanco\n",
    "        clave = clave.strip()\n",
    "        valor = valor.strip()\n",
    "        palabras_clave[clave] = valor\n",
    "    \n",
    "    return palabras_clave"
   ]
  },
  {
   "cell_type": "code",
   "execution_count": 16,
   "metadata": {},
   "outputs": [
    {
     "name": "stdout",
     "output_type": "stream",
     "text": [
      "No se encontro metadata_imp: list index out of range\n",
      "No se encontro metadata_imp: list index out of range\n",
      "No se encontro metadata_imp: list index out of range\n",
      "No se encontro metadata_imp: list index out of range\n",
      "No se encontro metadata_imp: list index out of range\n",
      "No se encontro metadata_imp: list index out of range\n",
      "No se encontro metadata_imp: list index out of range\n",
      "No se encontro metadata_imp: list index out of range\n",
      "No se encontro metadata_imp: list index out of range\n",
      "No se encontro metadata_imp: list index out of range\n",
      "No se encontro metadata_imp: list index out of range\n",
      "No se encontro metadata_imp: list index out of range\n"
     ]
    }
   ],
   "source": [
    "temp_datos = []\n",
    "for i in range(1,20):\n",
    "    titulos = []\n",
    "    autores = []\n",
    "    palabras_clave = []\n",
    "    precios = []\n",
    "    descripcion = []\n",
    "\n",
    "\n",
    "    res = requests.get(url_libros['url'][i])\n",
    "    soup = BeautifulSoup(res.text,'html')\n",
    "    time.sleep(5)\n",
    "    scrap=soup.find('div',class_=\"product-info-main\")\n",
    "    titulos.append(scrap.find('div',class_=\"col-xs-12\").find('h2').text)\n",
    "    ## busquemos lo autores\n",
    "    temp = [i for i in scrap.find_all('div',class_=\"col-xs-12\")]\n",
    "    temp1 =[ a.text for a in temp[1].find_all('a')  if 'products_author' in a['href'] ]\n",
    "    autores.append(temp1)\n",
    "    # busca las palabras clave\n",
    "    temp1 =[ a.text for a in temp[1].find_all('a')  if 'products_keywords' in a['href'] ]\n",
    "    palabras_clave.append(temp1)\n",
    "    # DOi\n",
    "    try:\n",
    "        temp1 =[ a.text for a in temp[1].find_all('a')  if 'products_keywords' not in a['href'] and  'products_author' not in a['href']]\n",
    "        if temp1 != []:\n",
    "            doi = temp1\n",
    "        else :\n",
    "            doi = None \n",
    "    except Exception as e:\n",
    "        print(f'No se encontro doi: {e}')\n",
    "        doi = None\n",
    "\n",
    "    # precios\n",
    "    try:\n",
    "        temp = [a for a in scrap.find_all('div',class_='price-box price-final_price')]\n",
    "        temp1 = [a.text.strip() for a in temp]\n",
    "        precios.append(temp1)\n",
    "    except Exception as e:\n",
    "        print(f'No se encontro precio: {e}')\n",
    "        precios.append('Gratuito')\n",
    "    # descripcion\n",
    "    descripcion.append(scrap.find('div',class_='description-wrapper').text)\n",
    "    # eBook\n",
    "    try:\n",
    "        scrap = soup.find('div',class_=\"product-info-metadata\")\n",
    "        metadata_ebook = extraer_palabras_clave(scrap.text)\n",
    "    except Exception as e:\n",
    "        print(f'No se encontro metadata_ebook: {e}')\n",
    "        metadata_ebook = None\n",
    "    #impreso\n",
    "    try:\n",
    "        scrap = soup.find_all('div',class_=\"product-info-metadata\")[1]\n",
    "        metadata_imp = extraer_palabras_clave(scrap.text)\n",
    "    except Exception as e:\n",
    "        print(f'No se encontro metadata_imp: {e}')\n",
    "        metadata_imp = None\n",
    "    datos = {\n",
    "            \"title\": titulos,\n",
    "            \"colaboradores\":autores,\n",
    "            \"precio\":precios,\n",
    "            \"palabras clave\":palabras_clave,\n",
    "            \"doi\":doi,\n",
    "            \"descripcion\":descripcion,\n",
    "            \"metadata_ebook\":metadata_ebook,\n",
    "            \"metadata_imp\":metadata_imp\n",
    "        }\n",
    "    temp_datos.append(datos)\n",
    "    "
   ]
  },
  {
   "cell_type": "code",
   "execution_count": 19,
   "metadata": {},
   "outputs": [],
   "source": [
    "with open('datos.json', 'w', encoding='utf-8') as f:\n",
    "    json.dump(temp_datos, f, indent=4, ensure_ascii=False)\n"
   ]
  },
  {
   "cell_type": "code",
   "execution_count": null,
   "metadata": {},
   "outputs": [
    {
     "name": "stdout",
     "output_type": "stream",
     "text": [
      "\n",
      "\n",
      "\n",
      "DOI:\n",
      "doi.org/10.19053/uptc.9789586609265 \n",
      "\n",
      "Detalle de formato:\n",
      "Tapa blanda o Bolsillo\n",
      "\n",
      "\n",
      "Estado:\n",
      "Activo\n",
      "\n",
      "\n",
      "ISBN-13: 9789586609265\n",
      "\n",
      "\n",
      "Tipo de contenido principal:\n",
      "Texto (legible a simple vista)\n",
      "\n",
      "\n",
      "Idioma del texto:\n",
      "Español\n",
      "\n",
      "\n",
      "Tamaño (cm):\n",
      "14 x 21  x 0.6\n",
      "\n",
      "\n",
      "Número de páginas del contenido principal:106 Páginas\n",
      "\n",
      "\n",
      "Sello editorial: universidad Pedagógica y Tecnológica de Colombia\n",
      "Tipo de edición: Nueva edición\n",
      "Número de edición: 1\n",
      "\n",
      "Ciudad de publicación:\n",
      "Tunja\n",
      "\n",
      "\n",
      "País de publicación:\n",
      "Colombia\n",
      "\n",
      "\n",
      "Fecha de publicación: 2025\n",
      "\n",
      "Tipo de restricción de venta: Exclusivo para un punto o canal de venta\n",
      "\n",
      "SIIEL SKU: 419307\n",
      "\n",
      "Precio: COP $40.000\n",
      "\n",
      "\n",
      "\n",
      "\n"
     ]
    }
   ],
   "source": [
    "scrap = soup.find_all('div',class_=\"product-info-metadata\")[1]\n",
    "print(scrap.text)\n",
    "\n"
   ]
  },
  {
   "cell_type": "code",
   "execution_count": 11,
   "metadata": {},
   "outputs": [
    {
     "data": {
      "text/plain": [
       "{'DOI': 'doi.org/10.19053/uptc.9789586609265',\n",
       " 'Detalle de formato': 'Tapa blanda o Bolsillo',\n",
       " 'Estado': 'Activo',\n",
       " 'ISBN-13': '9789586609265',\n",
       " 'Tipo de contenido principal': 'Texto (legible a simple vista)',\n",
       " 'Idioma del texto': 'Español',\n",
       " 'Tamaño (cm)': '14 x 21  x 0.6',\n",
       " 'Número de páginas del contenido principal': '106 Páginas',\n",
       " 'Sello editorial': 'universidad Pedagógica y Tecnológica de Colombia',\n",
       " 'Tipo de edición': 'Nueva edición',\n",
       " 'Número de edición': '1',\n",
       " 'Ciudad de publicación': 'Tunja',\n",
       " 'País de publicación': 'Colombia',\n",
       " 'Fecha de publicación': '2025',\n",
       " 'Tipo de restricción de venta': 'Exclusivo para un punto o canal de venta',\n",
       " 'SIIEL SKU': '419307',\n",
       " 'Precio': 'COP $40.000'}"
      ]
     },
     "execution_count": 11,
     "metadata": {},
     "output_type": "execute_result"
    }
   ],
   "source": [
    "import re\n",
    "\n",
    "def extraer_palabras_clave(texto):\n",
    "    # Patrón para encontrar palabras clave y sus valores\n",
    "    patron = r'([^:]+):\\s*([^\\n]+)'\n",
    "    \n",
    "    # Encontrar todas las coincidencias\n",
    "    coincidencias = re.findall(patron, texto)\n",
    "    \n",
    "    # Crear diccionario con las palabras clave\n",
    "    palabras_clave = {}\n",
    "    for clave, valor in coincidencias:\n",
    "        # Limpiar espacios en blanco\n",
    "        clave = clave.strip()\n",
    "        valor = valor.strip()\n",
    "        palabras_clave[clave] = valor\n",
    "    \n",
    "    return palabras_clave\n",
    "\n",
    "extraer_palabras_clave(scrap.text)"
   ]
  },
  {
   "cell_type": "code",
   "execution_count": null,
   "metadata": {},
   "outputs": [
    {
     "name": "stdout",
     "output_type": "stream",
     "text": [
      "\n",
      "\n",
      "\n",
      "DOI:\n",
      "doi.org/10.19053/uptc.9789586609265 \n",
      "\n",
      "Detalle de formato:\n",
      "Tapa blanda o Bolsillo\n",
      "\n",
      "\n",
      "Estado:\n",
      "Activo\n",
      "\n",
      "\n",
      "ISBN-13: 9789586609265\n",
      "\n",
      "\n",
      "Tipo de contenido principal:\n",
      "Texto (legible a simple vista)\n",
      "\n",
      "\n",
      "Idioma del texto:\n",
      "Español\n",
      "\n",
      "\n",
      "Tamaño (cm):\n",
      "14 x 21  x 0.6\n",
      "\n",
      "\n",
      "Número de páginas del contenido principal:106 Páginas\n",
      "\n",
      "\n",
      "Sello editorial: universidad Pedagógica y Tecnológica de Colombia\n",
      "Tipo de edición: Nueva edición\n",
      "Número de edición: 1\n",
      "\n",
      "Ciudad de publicación:\n",
      "Tunja\n",
      "\n",
      "\n",
      "País de publicación:\n",
      "Colombia\n",
      "\n",
      "\n",
      "Fecha de publicación: 2025\n",
      "\n",
      "Tipo de restricción de venta: Exclusivo para un punto o canal de venta\n",
      "\n",
      "SIIEL SKU: 419307\n",
      "\n",
      "Precio: COP $40.000\n",
      "\n",
      "\n",
      "\n",
      "\n"
     ]
    }
   ],
   "source": [
    "scrap = soup.find_all('div',class_=\"product-info-metadata\")[1]\n",
    "print(scrap.text)\n",
    "\n"
   ]
  },
  {
   "cell_type": "code",
   "execution_count": 19,
   "metadata": {},
   "outputs": [
    {
     "data": {
      "text/plain": [
       "{'DOI:': 'Tapa blanda o Bolsillo',\n",
       " 'Detalle de formato:': 'Activo',\n",
       " 'Estado:': '9789586609265',\n",
       " 'ISBN-13:': 'Texto (legible a simple vista)',\n",
       " 'Tipo de contenido principal:': 'Español',\n",
       " 'Idioma del texto:': '14 x 21  x 0.6',\n",
       " 'Tamaño (cm):': '106 Páginas',\n",
       " 'Número de páginas del contenido principal:': 'universidad Pedagógica y Tecnológica de Colombia',\n",
       " 'Sello editorial: ': 'Nueva edición',\n",
       " 'Tipo de edición: ': '1',\n",
       " 'Número de edición: ': 'Tunja',\n",
       " 'Ciudad de publicación:': 'Colombia',\n",
       " 'País de publicación:': '2025',\n",
       " 'Fecha de publicación:': 'Exclusivo para un punto o canal de venta',\n",
       " 'Tipo de restricción de venta:': '419307',\n",
       " 'SIIEL SKU:': 'COP $40.000'}"
      ]
     },
     "execution_count": 19,
     "metadata": {},
     "output_type": "execute_result"
    }
   ],
   "source": [
    "temp_datos[0]['metadata_imp']"
   ]
  },
  {
   "cell_type": "code",
   "execution_count": 40,
   "metadata": {},
   "outputs": [],
   "source": []
  },
  {
   "cell_type": "code",
   "execution_count": 53,
   "metadata": {},
   "outputs": [
    {
     "name": "stdout",
     "output_type": "stream",
     "text": [
      "['Digital: descarga y online', 'PDF', 'Activo', '9789586609449', 'Texto (legible a simple vista)', 'DRM', 'Español', 'Universidad Pedagógica y Tecnológica de Colombia', 'Nueva edición', '1', 'Tunja', 'Colombia', '2025', 'Exclusivo para un punto o canal de venta']\n"
     ]
    }
   ],
   "source": [
    "scrap = soup.find('div',class_=\"product-info-metadata\")\n",
    "temp1 = [a.text for a in scrap.find_all('span')]\n"
   ]
  },
  {
   "cell_type": "code",
   "execution_count": 47,
   "metadata": {},
   "outputs": [
    {
     "data": {
      "text/plain": [
       "True"
      ]
     },
     "execution_count": 47,
     "metadata": {},
     "output_type": "execute_result"
    }
   ],
   "source": [
    "[]==[]"
   ]
  },
  {
   "cell_type": "code",
   "execution_count": 52,
   "metadata": {},
   "outputs": [
    {
     "name": "stdout",
     "output_type": "stream",
     "text": [
      "BISACPHI000000 FILOSOFÍA > GeneralTHEMAQDT Temas de la filosofíaDEWEY107 Filosofía y psicología > Generalidades > Educación, investigación en filosofía\n"
     ]
    }
   ],
   "source": [
    "print(soup.find('div',class_='product data items').find('div',{'class':'item content'}).text.replace('\\n',''))"
   ]
  },
  {
   "cell_type": "code",
   "execution_count": 58,
   "metadata": {},
   "outputs": [
    {
     "data": {
      "text/plain": [
       "{'title': ['Gestión Educativa, Perspectivas, Actores y Contextos'],\n",
       " 'colaboradores': [['Liliana Inés Ávila Garzón',\n",
       "   'Rafael Enrique Buitrago Bonilla',\n",
       "   'María Rosa Estupiñán Aponte',\n",
       "   'Adriana María Cárdenas Casas',\n",
       "   'Alex Oswaldo Sánchez Huarcaya',\n",
       "   'Alexandra Inés Puentes Suárez',\n",
       "   'Angie Lorena Ariza Velasco',\n",
       "   'Diana Margot Guerrero Galarza',\n",
       "   'Esmeralda Díaz López',\n",
       "   'Kassandra Verastegui Vives',\n",
       "   'Nidia Marcela García Gómez',\n",
       "   'Ruby Paola Villavicencio Gastelu',\n",
       "   'Ruth Nayibe Cárdenas Soler',\n",
       "   'Sandra Milena Pinzón Jaime']],\n",
       " 'precio': [['', 'COP $70.000']],\n",
       " 'palabras clave': [['Gestión Educativa',\n",
       "   'Emociones',\n",
       "   'Maestros',\n",
       "   'Memorias de Gestores',\n",
       "   'Cultura Escolar',\n",
       "   'Contextos']],\n",
       " 'doi': '10.19053/uptc.9789586608350',\n",
       " 'descripcion': ['\\nGestión Educativa. Perspectivas, Actores y Contextos es un libro imprescindible para aquellos interesados en ahondar en los procesos de gestión en el ámbito educativo. A través de los distintos capítulos, el lector abordará un camino de reflexión y aprendizaje, explorando herramientas fundamentales para potenciar el complejo campo de la Gestión Educativa. Este libro ofrece una contribución significativa en este campo y se convierte en una referencia clave para quienes buscan promover transformaciones en la educación y en la gestión.Esta obra presentada por la Maestría en Gestión Educativa, desde una mirada profunda y rigurosa fundamentada en experiencias investigativas, profundiza en el campo de la gestión educativa, explorando diferentes temáticas, perspectivas y contextos que influyen de maneras diversas en los procesos educativos. El propósito principal de este libro es analizar y reflexionar sobre la gestión educativa desde múltiples perspectivas, brindando a los lectores un panorama diverso y enriquecedor. Cada capítulo se centra en un tema específico, desde el análisis de las emociones en la escuela hasta la percepción de los procesos de autoevaluación en programas de posgrado. Estas investigaciones aportan valiosos hallazgos que destacan la importancia de aspectos como el clima organizacional, la cultura escolar y la satisfacción de los maestros en formación.Al abordar la lectura de este libro, el lector obtendrá conclusiones generales sobre la gestión educativa y su incidencia en diferentes contextos y actores involucrados. Los resultados presentados por los autores permiten dimensionar desafíos y oportunidades que surgen en el ámbito de la educación, tanto en zonas rurales como en los entornos urbanos. Además, se resalta la relevancia de promover una gestión educativa efectiva que fomente el aprendizaje de los estudiantes, el bienestar de los docentes y posibles caminos para los/las directivas docentes.\\n'],\n",
       " 'metadata_ebook': {'DOI:': 'Tapa blanda o Bolsillo',\n",
       "  'Detalle de formato:': 'Inactivo',\n",
       "  'Estado:': '9789586608299',\n",
       "  'ISBN-13:': 'Texto (legible a simple vista)',\n",
       "  'Tipo de contenido principal:': 'Español',\n",
       "  'Idioma del texto:': '14 x 20  x 0.9',\n",
       "  'Tamaño (cm):': 'Universidad Pedagógica y Tecnológica de Colombia',\n",
       "  'Número de páginas del contenido principal:': 'Nueva edición',\n",
       "  'Sello editorial: ': '1',\n",
       "  'Tipo de edición: ': 'Tunja',\n",
       "  'Número de edición: ': 'Colombia',\n",
       "  'Ciudad de publicación:': '2024',\n",
       "  'País de publicación:': 'Exclusivo para un punto o canal de venta',\n",
       "  'Fecha de publicación:': '407350',\n",
       "  'Tipo de restricción de venta:': 'COP $37.000'},\n",
       " 'metadata_imp': None}"
      ]
     },
     "execution_count": 58,
     "metadata": {},
     "output_type": "execute_result"
    }
   ],
   "source": [
    "temp_datos[-1]"
   ]
  },
  {
   "cell_type": "code",
   "execution_count": 53,
   "metadata": {},
   "outputs": [],
   "source": [
    "temp1 = [a.text for a in scrap.find_all('strong')]\n",
    "temp2 = [a.text for a in scrap.find_all('span')]\n",
    "metadata_imp ={c:v for c,v in zip(temp1,temp2)}"
   ]
  },
  {
   "cell_type": "code",
   "execution_count": 54,
   "metadata": {},
   "outputs": [
    {
     "data": {
      "text/plain": [
       "{'DOI:': 'Tapa blanda o Bolsillo',\n",
       " 'Detalle de formato:': 'Activo',\n",
       " 'Estado:': '9789586609265',\n",
       " 'ISBN-13:': 'Texto (legible a simple vista)',\n",
       " 'Tipo de contenido principal:': 'Español',\n",
       " 'Idioma del texto:': '14 x 21  x 0.6',\n",
       " 'Tamaño (cm):': '106 Páginas',\n",
       " 'Número de páginas del contenido principal:': 'universidad Pedagógica y Tecnológica de Colombia',\n",
       " 'Sello editorial: ': 'Nueva edición',\n",
       " 'Tipo de edición: ': '1',\n",
       " 'Número de edición: ': 'Tunja',\n",
       " 'Ciudad de publicación:': 'Colombia',\n",
       " 'País de publicación:': '2025',\n",
       " 'Fecha de publicación:': 'Exclusivo para un punto o canal de venta',\n",
       " 'Tipo de restricción de venta:': '419307',\n",
       " 'SIIEL SKU:': 'COP $40.000'}"
      ]
     },
     "execution_count": 54,
     "metadata": {},
     "output_type": "execute_result"
    }
   ],
   "source": [
    "metadata_imp"
   ]
  },
  {
   "cell_type": "code",
   "execution_count": 44,
   "metadata": {},
   "outputs": [
    {
     "data": {
      "text/plain": [
       "{'Detalle de formato:': 'Digital (suministrado electrónicamente)',\n",
       " 'Formato:': 'EPUB',\n",
       " 'Estado:': 'Activo',\n",
       " 'ISBN-13:': '9789586609272',\n",
       " 'Tipo de contenido del producto:': 'Texto (legible a simple vista)',\n",
       " 'Protección técnica de publicación digital:': 'DRM',\n",
       " 'Tipo de restricción de uso en publicaciones digitales:': 'Share',\n",
       " 'Permiso de uso en publicaciones digitales:': 'Permitido, con limitaciones',\n",
       " 'Idioma del texto:': 'Español',\n",
       " 'Tamaño del archivo:': '1,593 Kbytes',\n",
       " 'Sello editorial: ': 'Universidad Pedagógica y Tecnológica de Colombia',\n",
       " 'Tipo de edición: ': 'Nueva edición',\n",
       " 'Número de edición: ': '1',\n",
       " 'Ciudad de publicación:': 'Tunja',\n",
       " 'País de publicación:': 'Colombia',\n",
       " 'Fecha de publicación:': '2025',\n",
       " 'Tipo de restricción de venta:': 'Exclusivo para un punto o canal de venta',\n",
       " 'Precio: ': 'COP $30.000'}"
      ]
     },
     "execution_count": 44,
     "metadata": {},
     "output_type": "execute_result"
    }
   ],
   "source": [
    "metadata_ebook"
   ]
  },
  {
   "cell_type": "code",
   "execution_count": 41,
   "metadata": {},
   "outputs": [
    {
     "data": {
      "text/plain": [
       "(18, 18)"
      ]
     },
     "execution_count": 41,
     "metadata": {},
     "output_type": "execute_result"
    }
   ],
   "source": [
    "len(temp1) ,len(temp2)"
   ]
  },
  {
   "cell_type": "code",
   "execution_count": 39,
   "metadata": {},
   "outputs": [
    {
     "name": "stdout",
     "output_type": "stream",
     "text": [
      "Digital (suministrado electrónicamente)\n",
      "EPUB\n",
      "Activo\n",
      "9789586609272\n",
      "Texto (legible a simple vista)\n",
      "DRM\n",
      "Share\n",
      "Permitido, con limitaciones\n",
      "Español\n",
      "1,593 Kbytes\n",
      "Universidad Pedagógica y Tecnológica de Colombia\n",
      "Nueva edición\n",
      "1\n",
      "Tunja\n",
      "Colombia\n",
      "2025\n",
      "Exclusivo para un punto o canal de venta\n",
      "COP $30.000\n"
     ]
    }
   ],
   "source": [
    "for a in scrap.find_all('span'):\n",
    "    print(a.text)"
   ]
  },
  {
   "cell_type": "code",
   "execution_count": 38,
   "metadata": {},
   "outputs": [
    {
     "data": {
      "text/plain": [
       "['Detalle de formato:',\n",
       " 'Formato:',\n",
       " 'Estado:',\n",
       " 'ISBN-13:',\n",
       " 'Tipo de contenido del producto:',\n",
       " 'Protección técnica de publicación digital:',\n",
       " 'Tipo de restricción de uso en publicaciones digitales:',\n",
       " 'Permiso de uso en publicaciones digitales:',\n",
       " 'Idioma del texto:',\n",
       " 'Tamaño del archivo:',\n",
       " 'Sello editorial: ',\n",
       " 'Tipo de edición: ',\n",
       " 'Número de edición: ',\n",
       " 'Ciudad de publicación:',\n",
       " 'País de publicación:',\n",
       " 'Fecha de publicación:',\n",
       " 'Tipo de restricción de venta:',\n",
       " 'Precio: ']"
      ]
     },
     "execution_count": 38,
     "metadata": {},
     "output_type": "execute_result"
    }
   ],
   "source": [
    "temp"
   ]
  },
  {
   "cell_type": "code",
   "execution_count": 115,
   "metadata": {},
   "outputs": [
    {
     "data": {
      "text/plain": [
       "['Fluido',\n",
       " 'Sistema de bombeo',\n",
       " 'Bomba centrífuga',\n",
       " 'Mecánica de fluidos',\n",
       " 'Transporte de fluidos',\n",
       " 'Operación y Mantenimiento']"
      ]
     },
     "execution_count": 115,
     "metadata": {},
     "output_type": "execute_result"
    }
   ],
   "source": [
    "temp1"
   ]
  },
  {
   "cell_type": "code",
   "execution_count": 73,
   "metadata": {},
   "outputs": [
    {
     "data": {
      "text/plain": [
       "['Otto Caro Niño',\n",
       " 'Orlando Díaz Parra',\n",
       " 'Fluido',\n",
       " 'Sistema de bombeo',\n",
       " 'Bomba centrífuga',\n",
       " 'Mecánica de fluidos',\n",
       " 'Transporte de fluidos',\n",
       " 'Operación y Mantenimiento',\n",
       " '10.19053/uptc.9789586609265']"
      ]
     },
     "execution_count": 73,
     "metadata": {},
     "output_type": "execute_result"
    }
   ],
   "source": [
    "temp1"
   ]
  },
  {
   "cell_type": "code",
   "execution_count": 9,
   "metadata": {},
   "outputs": [
    {
     "data": {
      "text/plain": [
       "200"
      ]
     },
     "execution_count": 9,
     "metadata": {},
     "output_type": "execute_result"
    }
   ],
   "source": [
    "res.status_code"
   ]
  },
  {
   "cell_type": "markdown",
   "metadata": {},
   "source": [
    " tenemos un estatus 200 lo cual es correcto la solicitud\n",
    " "
   ]
  },
  {
   "cell_type": "code",
   "execution_count": 4,
   "metadata": {},
   "outputs": [],
   "source": [
    "soup = BeautifulSoup(res.text,'html')"
   ]
  },
  {
   "cell_type": "code",
   "execution_count": 19,
   "metadata": {},
   "outputs": [
    {
     "data": {
      "text/plain": [
       "'Catálogo - UPTC'"
      ]
     },
     "execution_count": 19,
     "metadata": {},
     "output_type": "execute_result"
    }
   ],
   "source": [
    "soup.find('title').get_text()"
   ]
  },
  {
   "cell_type": "code",
   "execution_count": 22,
   "metadata": {},
   "outputs": [],
   "source": [
    "datos=soup.find('div',class_=\"sa-product-container-v3 grid\")\n"
   ]
  },
  {
   "cell_type": "code",
   "execution_count": 26,
   "metadata": {},
   "outputs": [],
   "source": [
    "productos = datos.find_all('li',class_=\"sa-product-item-v3 sa-product_grid_size\")"
   ]
  },
  {
   "cell_type": "code",
   "execution_count": null,
   "metadata": {},
   "outputs": [],
   "source": [
    "a = {\n",
    "    titulo: \n",
    "    colaboradores:\n",
    "    ano:\n",
    "    precio:\n",
    "}"
   ]
  },
  {
   "cell_type": "code",
   "execution_count": 48,
   "metadata": {},
   "outputs": [],
   "source": [
    "title =[i.find('span').get_text(strip=True) for i in productos]"
   ]
  },
  {
   "cell_type": "code",
   "execution_count": 62,
   "metadata": {},
   "outputs": [],
   "source": [
    "ano = [i.find('div',class_='product-list-edition').get_text(strip=True) for i in productos]"
   ]
  },
  {
   "cell_type": "code",
   "execution_count": 76,
   "metadata": {},
   "outputs": [
    {
     "data": {
      "text/plain": [
       "'\\nImpreso\\n\\n\\nCOP $40.000\\n\\n\\n'"
      ]
     },
     "execution_count": 76,
     "metadata": {},
     "output_type": "execute_result"
    }
   ],
   "source": [
    "productos[].find('span',class_='minimal-price').get_text()"
   ]
  },
  {
   "cell_type": "code",
   "execution_count": 101,
   "metadata": {},
   "outputs": [],
   "source": [
    "datos = []\n",
    "for i in productos:\n",
    "    a = {\n",
    "        \"title\":i.find('span').get_text(strip=True),\n",
    "        \"colaboradores\":list(i.find('div',class_='sa-product-author-v3').stripped_strings)[1],\n",
    "        \"precio\": i.find('span',class_='minimal-price').get_text().replace(\"\\n\",\"\"),\n",
    "        \"ano\": i.find('div',class_='product-list-edition').get_text(strip=True)\n",
    "    }\n",
    "    datos.append(a)\n"
   ]
  },
  {
   "cell_type": "code",
   "execution_count": 102,
   "metadata": {},
   "outputs": [
    {
     "data": {
      "text/plain": [
       "[{'title': 'Transporte de fluidos bombas centrífugas',\n",
       "  'colaboradores': 'Otto Caro Niño                                                                                     y otros',\n",
       "  'precio': 'eBookCOP $30.000',\n",
       "  'ano': '2025'},\n",
       " {'title': 'Introducción al cálculo de probabilidades para estudiantes de ingeniería',\n",
       "  'colaboradores': 'Alex L. Rojas',\n",
       "  'precio': 'eBookGratuito',\n",
       "  'ano': '2025'},\n",
       " {'title': 'Derechos colectivos en Colombia:',\n",
       "  'colaboradores': 'Luis Bernardo Díaz Gamboa                                                                                     y otros',\n",
       "  'precio': 'eBookGratuito',\n",
       "  'ano': '2025'},\n",
       " {'title': 'Resistencias y voces de las mujeres:',\n",
       "  'colaboradores': 'Celina de Jesús Trimiño Velásquez                                                                                     y otros',\n",
       "  'precio': 'ImpresoCOP $40.000',\n",
       "  'ano': '2025'},\n",
       " {'title': 'Manual de prácticas pedagógicas para la formación de maestros.',\n",
       "  'colaboradores': 'Myriam Cecilia Leguizamón González',\n",
       "  'precio': 'eBookGratuito',\n",
       "  'ano': '2025'},\n",
       " {'title': 'Maestras rurales, indígenas y afrodescendientes en Colombia.',\n",
       "  'colaboradores': 'Diana Elvira Soto Arango                                                                                     y otros',\n",
       "  'precio': 'eBookGratuito',\n",
       "  'ano': '2025'},\n",
       " {'title': 'Meristemos apicales, una técnica de propagación in vitro útil en procesos de conservación de Espeletia paipana.',\n",
       "  'colaboradores': 'María Yecenia Hernández Herrera                                                                                     y otros',\n",
       "  'precio': 'ImpresoCOP $35.000',\n",
       "  'ano': '2025'},\n",
       " {'title': 'Microorganismos endófitos en frailejones propagados in vitro: caracterización microbiológica y molecular.',\n",
       "  'colaboradores': 'María Yecenia Hernández Herrera                                                                                     y otros',\n",
       "  'precio': 'ImpresoCOP $35.000',\n",
       "  'ano': '2025'},\n",
       " {'title': 'Biotecnología para la conservación de frailejones:',\n",
       "  'colaboradores': 'María Yecenia Hernández Herrera                                                                                     y otros',\n",
       "  'precio': 'ImpresoCOP $35.000',\n",
       "  'ano': '2025'},\n",
       " {'title': 'Intelecto, estética y escuela.',\n",
       "  'colaboradores': 'Martha Soledad Montero González                                                                                     y otros',\n",
       "  'precio': 'eBookCOP $26.500',\n",
       "  'ano': '2025'},\n",
       " {'title': 'Revisiting Language Teaching:',\n",
       "  'colaboradores': 'Jahir Aguirre Morales                                                                                     y otros',\n",
       "  'precio': 'eBookGratuito',\n",
       "  'ano': '2025'},\n",
       " {'title': 'Addressing the Basics of EFL Classrooms',\n",
       "  'colaboradores': 'Jahir Aguirre Morales                                                                                     y otros',\n",
       "  'precio': 'eBookCOP $27.900',\n",
       "  'ano': '2024'},\n",
       " {'title': 'Gestión de la calidad en destinos turísticos',\n",
       "  'colaboradores': 'Diana Cristina Rodríguez Moreno                                                                                     y otros',\n",
       "  'precio': 'eBookGratuito',\n",
       "  'ano': '2024'},\n",
       " {'title': 'Infancia, arte y pensamiento',\n",
       "  'colaboradores': 'María Teresa Suárez Vaca                                                                                     y otros',\n",
       "  'precio': 'eBookCOP $29.900',\n",
       "  'ano': '2024'},\n",
       " {'title': 'Pruebas de laboratorio para la educación multidisciplinar con el laboratorio de empresa como modelo didáctico',\n",
       "  'colaboradores': 'Henry César Bernal Campos                                                                                     y otros',\n",
       "  'precio': 'ImpresoCOP $32.000',\n",
       "  'ano': '2024'},\n",
       " {'title': 'Lectura y escritura en la escuela',\n",
       "  'colaboradores': 'Lola María Morales Mora                                                                                     y otros',\n",
       "  'precio': 'ImpresoCOP $35.000',\n",
       "  'ano': '2024'},\n",
       " {'title': 'CREACIÓN',\n",
       "  'colaboradores': 'William Elías Arciniegas Rodríguez                                                                                     y otros',\n",
       "  'precio': 'ImpresoCOP $38.000',\n",
       "  'ano': '2024'},\n",
       " {'title': 'Evaluación de informes de sostenibilidad ambiental en empresas líderes del sector alimentario y propuesta de un modelo simplificado para pymes. Un análisis comparativo de Alpina, Bavaria, Nutresa y Postobón (2020-2022)',\n",
       "  'colaboradores': 'Gloria Cecilia Dávila Giraldo                                                                                     y otros',\n",
       "  'precio': 'ImpresoCOP $30.000',\n",
       "  'ano': '2024'},\n",
       " {'title': 'Poemas raros y curiosos',\n",
       "  'colaboradores': 'Diego Mauricio Barrera Quiroga',\n",
       "  'precio': 'eBookCOP $27.900',\n",
       "  'ano': '2024'},\n",
       " {'title': 'Conflicto armado en Boyacá: 2005-2018',\n",
       "  'colaboradores': 'William Ernesto Condiza Plazas',\n",
       "  'precio': 'eBookCOP $27.700',\n",
       "  'ano': '2024'},\n",
       " {'title': 'Gestión Educativa, Perspectivas, Actores y Contextos',\n",
       "  'colaboradores': 'Liliana Inés Ávila Garzón                                                                                     y otros',\n",
       "  'precio': 'ImpresoCOP $70.000',\n",
       "  'ano': '2024'},\n",
       " {'title': 'Contabilidad financiera bajo NIIF',\n",
       "  'colaboradores': 'Gloria Cecilia Dávila Giraldo                                                                                     y otros',\n",
       "  'precio': 'ImpresoCOP $30.000',\n",
       "  'ano': '2024'},\n",
       " {'title': 'Cálculo y medición de probabilidades',\n",
       "  'colaboradores': 'Margoth Adriana Valdivieso Miranda                                                                                     y otros',\n",
       "  'precio': 'ImpresoCOP $38.000',\n",
       "  'ano': '2024'},\n",
       " {'title': 'Infancia y ruralidad',\n",
       "  'colaboradores': 'Liliana Inés Ávila Garzón',\n",
       "  'precio': 'ImpresoCOP $35.000',\n",
       "  'ano': '2024'},\n",
       " {'title': 'Una nanovisión electrónica de sistemas moleculares',\n",
       "  'colaboradores': 'Judith Helena Ojeda Silva',\n",
       "  'precio': 'ImpresoCOP $55.000',\n",
       "  'ano': '2024'},\n",
       " {'title': 'Teoría de la Medida',\n",
       "  'colaboradores': 'Rafael José Álvarez Bilbao                                                                                     y otros',\n",
       "  'precio': 'ImpresoCOP $65.000',\n",
       "  'ano': '2024'},\n",
       " {'title': 'Esmeraldas en Colombia',\n",
       "  'colaboradores': 'Javier Guerrero Barón                                                                                     y otros',\n",
       "  'precio': 'ImpresoCOP $35.000',\n",
       "  'ano': '2024'},\n",
       " {'title': 'Validación e implementación de tecnologías de propagación de semillas de arracacha',\n",
       "  'colaboradores': 'Javier Giovanni Álvarez-Herrera                                                                                     y otros',\n",
       "  'precio': 'ImpresoCOP $30.000',\n",
       "  'ano': '2024'},\n",
       " {'title': 'Emprendimiento desde un enfoque STEAM',\n",
       "  'colaboradores': 'Maribel Martínez Montaña                                                                                     y otros',\n",
       "  'precio': 'eBookGratuito',\n",
       "  'ano': '2024'},\n",
       " {'title': 'La leche humana: un amor químico',\n",
       "  'colaboradores': 'Óscar Orlando Rodríguez Wílchez                                                                                     y otros',\n",
       "  'precio': 'eBookGratuito',\n",
       "  'ano': '2024'}]"
      ]
     },
     "execution_count": 102,
     "metadata": {},
     "output_type": "execute_result"
    }
   ],
   "source": [
    "datos"
   ]
  },
  {
   "cell_type": "markdown",
   "metadata": {},
   "source": [
    "## 1.2 Encontrando las url de cada producto.\n",
    "\n",
    "+ esto nos permitira acceder a toda la informacion del producto "
   ]
  },
  {
   "cell_type": "code",
   "execution_count": null,
   "metadata": {},
   "outputs": [],
   "source": [
    "productos = soup.find('div',class_='sa-product-container-v3 grid').find_all('li')\n",
    "urls=[url.find('a') ['href'] for url in productos]"
   ]
  },
  {
   "cell_type": "code",
   "execution_count": 18,
   "metadata": {},
   "outputs": [
    {
     "data": {
      "text/plain": [
       "68"
      ]
     },
     "execution_count": 18,
     "metadata": {},
     "output_type": "execute_result"
    }
   ],
   "source": [
    "len(productos)"
   ]
  },
  {
   "cell_type": "code",
   "execution_count": 31,
   "metadata": {},
   "outputs": [
    {
     "data": {
      "text/plain": [
       "<a href=\"https://editorial.uptc.edu.co/gpd-transporte-de-fluidos-bombas-centrifugas-9789586609265-67ebeccc7db73.html\">\n",
       "<img alt=\"Portada de la publicación Transporte de fluidos bombas centrífugas\" src=\"https://simehbucket.s3.amazonaws.com/images/415ebe2115322046c17eea71821248a5-medium.jpg\"/>\n",
       "</a>"
      ]
     },
     "execution_count": 31,
     "metadata": {},
     "output_type": "execute_result"
    }
   ],
   "source": [
    "productos[0].find('a')"
   ]
  },
  {
   "cell_type": "code",
   "execution_count": null,
   "metadata": {},
   "outputs": [],
   "source": []
  }
 ],
 "metadata": {
  "kernelspec": {
   "display_name": "diplomado",
   "language": "python",
   "name": "python3"
  },
  "language_info": {
   "codemirror_mode": {
    "name": "ipython",
    "version": 3
   },
   "file_extension": ".py",
   "mimetype": "text/x-python",
   "name": "python",
   "nbconvert_exporter": "python",
   "pygments_lexer": "ipython3",
   "version": "3.12.2"
  }
 },
 "nbformat": 4,
 "nbformat_minor": 2
}
