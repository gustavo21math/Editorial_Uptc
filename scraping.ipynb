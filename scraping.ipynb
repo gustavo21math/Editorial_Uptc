{
 "cells": [
  {
   "cell_type": "markdown",
   "metadata": {},
   "source": [
    "# `Scraper` de `Datos Editorial UPTC`"
   ]
  },
  {
   "cell_type": "code",
   "execution_count": 45,
   "metadata": {},
   "outputs": [],
   "source": [
    "import requests\n",
    "from bs4 import BeautifulSoup\n",
    "import json\n",
    "import time\n",
    "import pandas as pd\n",
    "import re"
   ]
  },
  {
   "cell_type": "markdown",
   "metadata": {},
   "source": [
    "## `Scraper` de `URLs` "
   ]
  },
  {
   "cell_type": "code",
   "execution_count": null,
   "metadata": {},
   "outputs": [],
   "source": [
    "#url de libros Uptc\n",
    "url = 'https://editorial.uptc.edu.co/catalogo.html?product_list_limit=60'\n",
    "bucle = 'https://editorial.uptc.edu.co/catalogo.html?p=2&product_list_limit=60'\n",
    "res = requests.get(url)\n",
    "soup = BeautifulSoup(res.text,'html')\n",
    "\n",
    "\n",
    "scrap = soup.find('div',class_=\"sa-product-container-v3 grid\")\n",
    "productos_url = scrap.find_all('li',class_=\"sa-product-item-v3 sa-product_grid_size\")\n",
    "url_libros = [url.find('a')[\"href\"] for url in productos_url]\n",
    "\n",
    "urls = pd.DataFrame(url_libros,columns=['url'])\n",
    "\n",
    "for i in range(2,6):\n",
    "    url = f'https://editorial.uptc.edu.co/catalogo.html?p={i}&product_list_limit=60'\n",
    "    res = requests.get(url)\n",
    "    soup = BeautifulSoup(res.text,'html')\n",
    "    productos_url = soup.find('div',class_=\"sa-product-container-v3 grid\").find_all('li',class_=\"sa-product-item-v3 sa-product_grid_size\")\n",
    "    url_libros = [url.find('a')[\"href\"] for url in productos_url]\n",
    "    urls = pd.concat([urls,pd.DataFrame(url_libros,columns=['url'])])\n"
   ]
  },
  {
   "cell_type": "code",
   "execution_count": null,
   "metadata": {},
   "outputs": [],
   "source": [
    "#urls.to_json('urls.json',index=False)\n",
    "urls.shape"
   ]
  },
  {
   "cell_type": "code",
   "execution_count": 41,
   "metadata": {},
   "outputs": [],
   "source": [
    "url_libros = pd.read_csv('urls.csv')"
   ]
  },
  {
   "cell_type": "code",
   "execution_count": 43,
   "metadata": {},
   "outputs": [
    {
     "data": {
      "text/plain": [
       "(298, 1)"
      ]
     },
     "execution_count": 43,
     "metadata": {},
     "output_type": "execute_result"
    }
   ],
   "source": [
    "url_libros.shape"
   ]
  },
  {
   "cell_type": "code",
   "execution_count": 42,
   "metadata": {},
   "outputs": [],
   "source": [
    "def extraer_palabras_clave(texto):\n",
    "    # Patrón para encontrar palabras clave y sus valores\n",
    "    patron = r'([^:]+):\\s*([^\\n]+)'\n",
    "    # Encontrar todas las coincidencias\n",
    "    coincidencias = re.findall(patron, texto)\n",
    "    \n",
    "    # Crear diccionario con las palabras clave\n",
    "    palabras_clave = {}\n",
    "    for clave, valor in coincidencias:\n",
    "        # Limpiar espacios en blanco\n",
    "        clave = clave.strip()\n",
    "        valor = valor.strip()\n",
    "        palabras_clave[clave] = valor\n",
    "    \n",
    "    return palabras_clave\n",
    "\n",
    "def extraer_info_colaborador(bloque):\n",
    "    # Nombre invertido\n",
    "    nombre_invertido = bloque.split('\\n')[0].strip()\n",
    "    \n",
    "    # ORCID\n",
    "    orcid_match = re.search(r'(https://orcid\\.org/[^\\s]+)', bloque)\n",
    "    orcid = orcid_match.group(1) if orcid_match else None\n",
    "    \n",
    "    # Afiliación\n",
    "    afiliacion_match = re.search(r'Afiliación\\s*\\n([^\\n]+)', bloque)\n",
    "    afiliacion = afiliacion_match.group(1).strip() if afiliacion_match else None\n",
    "    \n",
    "    # Biografía\n",
    "    bio_match = re.search(r'Biografía:\\s*([\\s\\S]+?)(?:\\n\\S|$)', bloque)\n",
    "    if bio_match:\n",
    "        biografia = bio_match.group(1).strip()\n",
    "    else:\n",
    "        # Si no encuentra el patrón, toma todo después de \"Biografía:\"\n",
    "        bio_idx = bloque.find(\"Biografía:\")\n",
    "        biografia = bloque[bio_idx+10:].strip() if bio_idx != -1 else None\n",
    "    \n",
    "    # Email (opcional)\n",
    "    email_match = re.search(r'[\\w\\.-]+@[\\w\\.-]+', bloque)\n",
    "    email = email_match.group(0) if email_match else None\n",
    "\n",
    "    return {\n",
    "        \"nombre_invertido\": nombre_invertido,\n",
    "        \"orcid\": orcid,\n",
    "        \"afiliacion\": afiliacion,\n",
    "        \"biografia\": biografia,\n",
    "        \"email\": email\n",
    "    }\n",
    "\n",
    " "
   ]
  },
  {
   "cell_type": "code",
   "execution_count": null,
   "metadata": {},
   "outputs": [],
   "source": [
    "temp_datos = []\n",
    "for i in range(298):\n",
    "    titulos = None\n",
    "    autores = None\n",
    "    palabras_clave = None\n",
    "    precios = []\n",
    "    descripcion = []\n",
    "\n",
    "\n",
    "    res = requests.get(url_libros['url'][i])\n",
    "    soup = BeautifulSoup(res.text,'html')\n",
    "    time.sleep(5)\n",
    "    scrap=soup.find('div',class_=\"product-info-main\")\n",
    "    try:\n",
    "        titulos = scrap.find('div',class_=\"col-xs-12\").find('h2').text\n",
    "    except AttributeError:\n",
    "        continue\n",
    "    ## busquemos lo autores\n",
    "    temp = [i for i in scrap.find_all('div',class_=\"col-xs-12\")]\n",
    "    temp1 =[ a.text for a in temp[1].find_all('a')  if 'products_author' in a['href'] ]\n",
    "    autores = temp1\n",
    "    # busca las palabras clave\n",
    "    temp1 =[ a.text for a in temp[1].find_all('a')  if 'products_keywords' in a['href'] ]\n",
    "    palabras_clave = temp1\n",
    "    # DOi\n",
    "    try:\n",
    "        temp1 =[ a.text for a in temp[1].find_all('a')  if 'products_keywords' not in a['href'] and  'products_author' not in a['href']]\n",
    "        if temp1 != []:\n",
    "            doi = temp1\n",
    "        else :\n",
    "            doi = None \n",
    "    except Exception as e:\n",
    "        print(f'No se encontro doi: {e}')\n",
    "        doi = None\n",
    "\n",
    "    # precios\n",
    "    try:\n",
    "        temp = [a for a in scrap.find_all('div',class_='price-box price-final_price')]\n",
    "        if temp != \"\":  # Si hay elementos de precio\n",
    "            temp1 = [a.text.strip() for a in temp]\n",
    "            precios.append(temp1)\n",
    "        else:  # Si no hay elementos de precio\n",
    "            precios.append(0)\n",
    "    except Exception as e:\n",
    "        print(f'No se encontro precio: {e}')\n",
    "        precios.append(['Descargable gratis'])\n",
    "    # descripcion\n",
    "    descripcion.append(scrap.find('div',class_='description-wrapper').text)\n",
    "    # eBook\n",
    "    try:\n",
    "        scrap = soup.find('div',class_=\"product-info-metadata\")\n",
    "        metadata_ebook = extraer_palabras_clave(scrap.text)\n",
    "    except Exception as e:\n",
    "        print(f'No se encontro metadata_ebook: {e}')\n",
    "        metadata_ebook = None\n",
    "    #impreso\n",
    "    try:\n",
    "        scrap = soup.find_all('div',class_=\"product-info-metadata\")[1]\n",
    "        metadata_imp = extraer_palabras_clave(scrap.text)\n",
    "    except Exception as e:\n",
    "        print(f'No se encontro metadata_imp: {e}')\n",
    "        metadata_imp = None\n",
    "    #clasificacion de tematica\n",
    "    dato = soup.find('div','item content').text.replace('\\n','')\n",
    "    clasificacion_tematica = dato\n",
    "    #tabla de contenido\n",
    "    a=soup.find('div',class_='product data items').text.find('Tabla de contenido')\n",
    "    b=soup.find('div',class_='product data items').text.find('Colaboradores')\n",
    "    dato = soup.find('div',class_='product data items').text\n",
    "    if a != -1:\n",
    "        tabla_contenido=dato[a:b]\n",
    "    else:\n",
    "        tabla_contenido= None\n",
    "    ## informacion de autores\n",
    "    a=soup.find('div',class_='product data items').text.find('Colaboradores')\n",
    "    dato = soup.find('div',class_='product data items').text\n",
    "    colaboradores_raw = dato[a:].split('Nombre invertido')[1:]\n",
    "    colaboradores = []\n",
    "    for bloque in colaboradores_raw:\n",
    "        info = extraer_info_colaborador(bloque)\n",
    "        colaboradores.append(info)\n",
    "\n",
    "    datos = {\n",
    "            \"title\": titulos,\n",
    "            \"colaboradores\":autores,\n",
    "            \"precio\":precios,\n",
    "            \"palabras clave\":palabras_clave,\n",
    "            \"doi\":doi,\n",
    "            \"descripcion\":descripcion,\n",
    "            \"metadata_ebook\":metadata_ebook,\n",
    "            \"metadata_imp\":metadata_imp,\n",
    "            \"clasificación_temática\":clasificacion_tematica,\n",
    "            'tabla_contenido':tabla_contenido,  \n",
    "            'inf_autores' :colaboradores, \n",
    "            'url': url_libros['url'][i]\n",
    "            }\n",
    "    temp_datos.append(datos)\n",
    "    "
   ]
  },
  {
   "cell_type": "code",
   "execution_count": 47,
   "metadata": {},
   "outputs": [
    {
     "data": {
      "text/plain": [
       "286"
      ]
     },
     "execution_count": 47,
     "metadata": {},
     "output_type": "execute_result"
    }
   ],
   "source": [
    "len(temp_datos)"
   ]
  },
  {
   "cell_type": "code",
   "execution_count": 48,
   "metadata": {},
   "outputs": [
    {
     "data": {
      "text/plain": [
       "{'title': 'Transporte de fluidos bombas centrífugas',\n",
       " 'colaboradores': ['Otto Caro Niño', 'Orlando Díaz Parra'],\n",
       " 'precio': [['', 'COP $30.000', 'COP $40.000']],\n",
       " 'palabras clave': ['Fluido',\n",
       "  'Sistema de bombeo',\n",
       "  'Bomba centrífuga',\n",
       "  'Mecánica de fluidos',\n",
       "  'Transporte de fluidos',\n",
       "  'Operación y Mantenimiento'],\n",
       " 'doi': ['10.19053/uptc.9789586609265'],\n",
       " 'descripcion': ['\\nUn sistema compuesto por una conducción y sus accesorios, por el que se transporta un fluido presurizado y en el que un dispositivo denominado “bomba hidráulica” interviene para hacer transitar el fluido, se denomina sistema de bombeo. Por sistemas de bombeo se transporta, entre otros, agua para riego, en plantas de potabilización y tratamiento, en redes de distribución de agua potable e industrial, así como también en sistemas de enfriamiento y calentamiento. Industrialmente se transporta, además de agua, leche y sus derivados, jugos y alimentos, muy diversos tipos de aceites y combustibles, lodos y otras sustancias líquidas o mezclas fluidas como el concreto.Basados en la experiencia académica y profesional de los autores, en este libro se muestra la aplicación de conceptos de mecánica de fluidos que son fundamento para el diseño de sistemas de bombeo y una descripción general de un sistema y sus componentes, incluyendo el detalle de la configuración y partes de la bomba centrífuga. Por otro lado, se muestran los principios de ingeniería que permiten calcular los requerimientos de potencia y las especificaciones de los componentes del sistema, así como los principios de operación y sus principales problemas.En este texto los autores han evitado las divagaciones y han condensado la información, de manera que se presenta mediante argumentos, tablas y gráficos, de una forma sencilla, ágil y directa, los elementos y fundamentos para la selección de los componentes de un sistema de bombeo, de modo que el lector interesado podrá realizar por su cuenta el diseño del mismo según sus necesidades y establecer los requerimientos de recursos para la ejecución de un proyecto de aplicación, tanto en el sector agrícola como en el sector industrial. El texto presenta un procedimiento detallado y de fácil comprensión para el cálculo y selección de los componentes de un sistema de bombeo, incluida la bomba centrífuga, sus especificaciones y parámetros de operación y también suficientes elementos para la evaluación y monitoreo de las condiciones de operación de instalaciones existentes.\\n'],\n",
       " 'metadata_ebook': {'Detalle de formato': 'Digital (suministrado electrónicamente)',\n",
       "  'Formato': 'EPUB',\n",
       "  'Estado': 'Activo',\n",
       "  'ISBN-13': '9789586609272',\n",
       "  'Tipo de contenido del producto': 'Texto (legible a simple vista)',\n",
       "  'Protección técnica de publicación digital': 'DRM',\n",
       "  'Tipo de restricción de uso en publicaciones digitales': 'Share',\n",
       "  'Permiso de uso en publicaciones digitales': 'Permitido, con limitaciones',\n",
       "  'Idioma del texto': 'Español',\n",
       "  'Tamaño del archivo': '1,593 Kbytes',\n",
       "  'Sello editorial': 'Universidad Pedagógica y Tecnológica de Colombia',\n",
       "  'Tipo de edición': 'Nueva edición',\n",
       "  'Número de edición': '1',\n",
       "  'Ciudad de publicación': 'Tunja',\n",
       "  'País de publicación': 'Colombia',\n",
       "  'Fecha de publicación': '2025',\n",
       "  'Tipo de restricción de venta': 'Exclusivo para un punto o canal de venta',\n",
       "  'Precio': 'COP $30.000'},\n",
       " 'metadata_imp': {'DOI': 'doi.org/10.19053/uptc.9789586609265',\n",
       "  'Detalle de formato': 'Tapa blanda o Bolsillo',\n",
       "  'Estado': 'Activo',\n",
       "  'ISBN-13': '9789586609265',\n",
       "  'Tipo de contenido principal': 'Texto (legible a simple vista)',\n",
       "  'Idioma del texto': 'Español',\n",
       "  'Tamaño (cm)': '14 x 21  x 0.6',\n",
       "  'Número de páginas del contenido principal': '106 Páginas',\n",
       "  'Sello editorial': 'universidad Pedagógica y Tecnológica de Colombia',\n",
       "  'Tipo de edición': 'Nueva edición',\n",
       "  'Número de edición': '1',\n",
       "  'Ciudad de publicación': 'Tunja',\n",
       "  'País de publicación': 'Colombia',\n",
       "  'Fecha de publicación': '2025',\n",
       "  'Tipo de restricción de venta': 'Exclusivo para un punto o canal de venta',\n",
       "  'SIIEL SKU': '419307',\n",
       "  'Precio': 'COP $40.000'},\n",
       " 'clasificación_temática': 'BISACSCI085000 CIENCIA > Mecánica > FluidosTHEMATGBN Motores y transmisión de fuerzaDEWEY532 Ciencias naturales y matemáticas > Física > Mecánica de fluidos; Mecánica liquida',\n",
       " 'tabla_contenido': 'Tabla de contenido\\n\\n\\n\\nINTRODUCCIÓN ................................................................. 191.\\u2002FUNDAMENTOS PARA EL DISEÑO DE SISTEMAS DE TRANSPORTE DE FLUIDOS ........................ 23\\xa0\\xa0\\xa0\\xa01.1 Concepto de fluido ............................................... 23\\xa0\\xa0\\xa0\\xa01.2 Tipos de flujo y el número de Reynolds ................. 25\\xa0\\xa0\\xa0\\xa01.3 La ecuación de Euler en las bombas centrífugas .. 28\\xa0\\xa0\\xa0\\xa0\\xa0\\xa0\\xa0\\xa01.3.1 La dirección del flujo en el interior de la bomba ............................................... 29\\xa0\\xa0\\xa0\\xa0\\xa0\\xa0\\xa0\\xa01.3.2 Diagramas de velocidades en la bomba ..... 29\\xa0\\xa0\\xa0\\xa0\\xa0\\xa0\\xa0\\xa01.3.3 Aplicación de la ecuación de Euler ............ 32\\xa0\\xa0\\xa0\\xa0\\xa0\\xa0\\xa0\\xa01.3.4 Ejemplo de cálculo con la ecuación de Euler ..................................................... 34\\xa0\\xa0\\xa0\\xa01.4 Ecuación de continuidad .......................................35\\xa0\\xa0\\xa0\\xa01.5 Velocidad recomendada de conducción ............... 40\\xa0\\xa0\\xa0\\xa01.6 Ecuación de energía ............................................. 40\\xa0\\xa0\\xa0\\xa01.7 Pérdidas por transporte de fluidos incompresibles ......................................................47\\xa0\\xa0\\xa0\\xa01.8 Ejemplo: Cálculo de una instalación de bombeo domiciliaria .............................................. 51\\xa0\\xa0\\xa0\\xa0\\xa0\\xa0\\xa0\\xa01.8.1 Cálculo de la cabeza de pérdidas ............... 52\\xa0\\xa0\\xa0\\xa0\\xa0\\xa0\\xa0\\xa01.8.2 Cálculo de la cabeza requerida de bombeo 54\\xa0\\xa0\\xa0\\xa0\\xa0\\xa0\\xa0\\xa01.8.3 Potencia consumida por la bomba ............. 54\\xa0\\xa0\\xa0\\xa0\\xa0\\xa0\\xa0\\xa01.8.4 Resumen de resultados ..............................552.\\u2002 LOS SISTEMAS DE BOMBEO .........................................57\\xa0\\xa0\\xa0\\xa02.1 Descripción de un sistema de bombeo ..................57\\xa0\\xa0\\xa0\\xa02.2 La succión del sistema ......................................... 59\\xa0\\xa0\\xa0\\xa02.3 Tipos de bombas hidráulicas ................................. 61\\xa0\\xa0\\xa0\\xa02.4 Partes de la bomba centrífuga .............................. 64\\xa0\\xa0\\xa0\\xa02.5 Datos de los fabricantes de bombas centrífugas ...67\\xa0\\xa0\\xa0\\xa02.6 Leyes de afinidad .................................................. 69\\xa0\\xa0\\xa0\\xa02.7 Curva característica ..............................................73\\xa0\\xa0\\xa0\\xa02.8 Altura manométrica ...............................................75\\xa0\\xa0\\xa0\\xa02.9 Caudal de la bomba ................................................76\\xa0\\xa0\\xa0\\xa02.10 Lectura de la curva característica ...............................77\\xa0\\xa0\\xa0\\xa02.11 Tubería de conducción ..........................................79\\xa0\\xa0\\xa0\\xa02.12 Accesorios y proceso de instalación ..........................823.\\u2002FUNDAMENTO DE OPERACIÓN .................................... 85\\xa0\\xa0\\xa0\\xa03.1 La curva de operación del sistema ....................... 86\\xa0\\xa0\\xa0\\xa03.2 La cavitación ........................................................ 89\\xa0\\xa0\\xa0\\xa0\\xa0\\xa0\\xa0\\xa03.2.1 Descripción del fenómeno de cavitación .... 89\\xa0\\xa0\\xa0\\xa0\\xa0\\xa0\\xa0\\xa03.2.2 Causas de la cavitación .............................. 91\\xa0\\xa0\\xa0\\xa0\\xa0\\xa0\\xa0\\xa03.2.3 El NPSH ..................................................... 92\\xa0\\xa0\\xa0\\xa03.3 Consideraciones en la línea de succión ................ 95\\xa0\\xa0\\xa0\\xa03.4 El golpe de ariete ...................................................97\\xa0\\xa0\\xa0\\xa03.5 Motores y tableros de control ............................... 98\\xa0\\xa0\\xa0\\xa03.6 Fallas de funcionamiento y sus posibles causas ... 99\\xa0\\xa0\\xa0\\xa03.7 ¿Qué requiere su instalación? ..............................1024.\\u2002REFERENCIAS ............................................................103\\n\\n\\n',\n",
       " 'inf_autores': [{'nombre_invertido': ': Caro Niño, Otto',\n",
       "   'orcid': 'https://orcid.org/0009-0008-0074-089X',\n",
       "   'afiliacion': 'Universidad Pedagógica y Tecnológica de Colombia',\n",
       "   'biografia': 'Es ingeniero mecánico egresado de la Universidad Nacional de Colombia, con estudios y títulos de posgrado, con una amplia y reconocida experiencia en el análisis y diseño de sistemas mecánicos, asesorías y consultorías de sistemas de riego y sistemas de acueductos municipales. En la Universidad Pedagógica y Tecnológica de Colombia (Uptc) ha sido docente durante más de cuarenta años, decano de la Facultad Seccional Duitama en diferentes periodos, integrante del Consejo Académico, integrante del Consejo Superior, integrante del Comité Curricular de la Escuela de Ingeniería Electromecánica y docente de los posgrados del área de ingeniería de la misma Facultad. Es docente titular de la Uptc adscrito al programa de Ingeniería Electromecánica, en el que participó en su creación y actualmente se desempeña en al área de diseño mecánico y mecánica de fluidos del mismo. Es integrante de Grupo de Investigación en Energías y Nuevas Tecnologías (GENTE) y se ha caracterizado por ser un docente comprometido con la formación de profesionales de alta calidad para servicio y progreso de Colombia.otto.caro@uptc.edu.co',\n",
       "   'email': 'Colombia.otto.caro@uptc.edu.co'},\n",
       "  {'nombre_invertido': ': Díaz Parra, Orlando',\n",
       "   'orcid': 'https://orcid.org/0009-0000-5697-8583',\n",
       "   'afiliacion': 'Universidad Pedagógica y Tecnológica de Colombia',\n",
       "   'biografia': 'Es ingeniero mecánico de la Universidad Industrial de Santander y magíster en metalurgia y ciencia de los materiales, distinguido por sus altos logros académicos y profesionales, perteneciente al Grupo de Investigación en Energías y Nuevas Tecnologías (GENTE). Se resalta su experiencia profesional en la empresa Acerías Paz del Río, S.A. en la que ejerció por más de doce años en el área de laminación de aceros en caliente, en cargos de operación y mantenimiento. Ha superado los quince años de experiencia docente compartiendo sus conocimientos en prácticamente todas las áreas de formación en la Escuela de Ingeniería Electromecánica y como miembro del Comité Curricular. Se ha desempeñado como docente especialmente en las áreas de mecánica de fluidos, máquinas hidráulicas, mantenimiento industrial, ciencias térmicas y diseño mecánico. Recientemente ha obtenido el diploma que lo reconoce como “Gestor de Mantenimiento” de parte de la Asociación Colombiana de Ingenieros Mecánicos, Eléctricos y Afines (ACIEM) y ha liderado la apertura de la especialización en Gestión de\\xa0 Activos y de Mantenimiento como nuevo programa de posgrado en la Escuela de Ingeniería Electromecánica. orlando.diazparra@uptc.edu.co',\n",
       "   'email': 'orlando.diazparra@uptc.edu.co'}],\n",
       " 'url': 'https://editorial.uptc.edu.co/gpd-transporte-de-fluidos-bombas-centrifugas-9789586609265-67ebeccc7db73.html'}"
      ]
     },
     "execution_count": 48,
     "metadata": {},
     "output_type": "execute_result"
    }
   ],
   "source": [
    "temp_datos"
   ]
  },
  {
   "cell_type": "code",
   "execution_count": 49,
   "metadata": {},
   "outputs": [],
   "source": [
    "'''import os\n",
    "# 1. Leer los datos existentes (si el archivo existe)\n",
    "if os.path.exists('datos.json'):\n",
    "    with open('datos.json', mode='r', encoding='utf-8') as f:\n",
    "        datos_existentes = json.load(f)\n",
    "else:\n",
    "    datos_existentes = []\n",
    "\n",
    "# 2. Agregar los nuevos datos (supongamos que tus nuevos datos están en temp_datos)\n",
    "datos_existentes.extend(temp_tatos1)\n",
    "'''\n",
    "# 3. Guardar la lista completa\n",
    "with open('datos.json', mode='w', encoding='utf-8') as f:\n",
    "    json.dump(temp_datos, f, ensure_ascii=False, indent=4)\n"
   ]
  },
  {
   "cell_type": "code",
   "execution_count": 102,
   "metadata": {},
   "outputs": [
    {
     "data": {
      "text/plain": [
       "287"
      ]
     },
     "execution_count": 102,
     "metadata": {},
     "output_type": "execute_result"
    }
   ],
   "source": [
    "len(datos_existentes)"
   ]
  },
  {
   "cell_type": "markdown",
   "metadata": {},
   "source": [
    "## Limpieza de Datos"
   ]
  },
  {
   "cell_type": "code",
   "execution_count": 50,
   "metadata": {},
   "outputs": [],
   "source": [
    "import pandas as pd\n",
    "import re\n",
    "import json"
   ]
  },
  {
   "cell_type": "code",
   "execution_count": 51,
   "metadata": {},
   "outputs": [],
   "source": [
    "datos = pd.read_json('datos.json')\n"
   ]
  },
  {
   "cell_type": "code",
   "execution_count": 58,
   "metadata": {},
   "outputs": [
    {
     "data": {
      "text/html": [
       "<div>\n",
       "<style scoped>\n",
       "    .dataframe tbody tr th:only-of-type {\n",
       "        vertical-align: middle;\n",
       "    }\n",
       "\n",
       "    .dataframe tbody tr th {\n",
       "        vertical-align: top;\n",
       "    }\n",
       "\n",
       "    .dataframe thead th {\n",
       "        text-align: right;\n",
       "    }\n",
       "</style>\n",
       "<table border=\"1\" class=\"dataframe\">\n",
       "  <thead>\n",
       "    <tr style=\"text-align: right;\">\n",
       "      <th></th>\n",
       "      <th>title</th>\n",
       "      <th>colaboradores</th>\n",
       "      <th>precio</th>\n",
       "      <th>palabras_clave</th>\n",
       "      <th>doi</th>\n",
       "      <th>descripcion</th>\n",
       "      <th>metadata_ebook</th>\n",
       "      <th>metadata_imp</th>\n",
       "      <th>clasificación_temática</th>\n",
       "      <th>tabla_contenido</th>\n",
       "      <th>inf_autores</th>\n",
       "      <th>url</th>\n",
       "    </tr>\n",
       "  </thead>\n",
       "  <tbody>\n",
       "    <tr>\n",
       "      <th>0</th>\n",
       "      <td>Transporte de fluidos bombas centrífugas</td>\n",
       "      <td>[Otto Caro Niño, Orlando Díaz Parra]</td>\n",
       "      <td>[30.000, 40.000]</td>\n",
       "      <td>[Fluido, Sistema de bombeo, Bomba centrífuga, ...</td>\n",
       "      <td>[10.19053/uptc.9789586609265]</td>\n",
       "      <td>[\\nUn sistema compuesto por una conducción y s...</td>\n",
       "      <td>{'Detalle de formato': 'Digital (suministrado ...</td>\n",
       "      <td>{'DOI': 'doi.org/10.19053/uptc.9789586609265',...</td>\n",
       "      <td>BISACSCI085000 CIENCIA &gt; Mecánica &gt; FluidosTHE...</td>\n",
       "      <td>Tabla de contenido\\n\\n\\n\\nINTRODUCCIÓN ..........</td>\n",
       "      <td>[{'nombre_invertido': ': Caro Niño, Otto', 'or...</td>\n",
       "      <td>https://editorial.uptc.edu.co/gpd-transporte-d...</td>\n",
       "    </tr>\n",
       "    <tr>\n",
       "      <th>1</th>\n",
       "      <td>Introducción al cálculo de probabilidades para...</td>\n",
       "      <td>[Alex L. Rojas]</td>\n",
       "      <td>None</td>\n",
       "      <td>[Espacio muestral, Probabilidad, Probabilidad ...</td>\n",
       "      <td>None</td>\n",
       "      <td>[\\nEl propósito de este libro es servir de tex...</td>\n",
       "      <td>{'Detalle de formato': 'Digital: descarga y on...</td>\n",
       "      <td>None</td>\n",
       "      <td>BISACMAT029000 MATEMÁTICAS &gt; Probabilidad y es...</td>\n",
       "      <td>Tabla de contenido\\n\\n\\n\\nPrefacio 11. Prelimi...</td>\n",
       "      <td>[{'nombre_invertido': ': Rojas, Alex L.', 'orc...</td>\n",
       "      <td>https://editorial.uptc.edu.co/gpd-introduccion...</td>\n",
       "    </tr>\n",
       "  </tbody>\n",
       "</table>\n",
       "</div>"
      ],
      "text/plain": [
       "                                               title  \\\n",
       "0           Transporte de fluidos bombas centrífugas   \n",
       "1  Introducción al cálculo de probabilidades para...   \n",
       "\n",
       "                          colaboradores            precio  \\\n",
       "0  [Otto Caro Niño, Orlando Díaz Parra]  [30.000, 40.000]   \n",
       "1                       [Alex L. Rojas]              None   \n",
       "\n",
       "                                      palabras_clave  \\\n",
       "0  [Fluido, Sistema de bombeo, Bomba centrífuga, ...   \n",
       "1  [Espacio muestral, Probabilidad, Probabilidad ...   \n",
       "\n",
       "                             doi  \\\n",
       "0  [10.19053/uptc.9789586609265]   \n",
       "1                           None   \n",
       "\n",
       "                                         descripcion  \\\n",
       "0  [\\nUn sistema compuesto por una conducción y s...   \n",
       "1  [\\nEl propósito de este libro es servir de tex...   \n",
       "\n",
       "                                      metadata_ebook  \\\n",
       "0  {'Detalle de formato': 'Digital (suministrado ...   \n",
       "1  {'Detalle de formato': 'Digital: descarga y on...   \n",
       "\n",
       "                                        metadata_imp  \\\n",
       "0  {'DOI': 'doi.org/10.19053/uptc.9789586609265',...   \n",
       "1                                               None   \n",
       "\n",
       "                              clasificación_temática  \\\n",
       "0  BISACSCI085000 CIENCIA > Mecánica > FluidosTHE...   \n",
       "1  BISACMAT029000 MATEMÁTICAS > Probabilidad y es...   \n",
       "\n",
       "                                     tabla_contenido  \\\n",
       "0  Tabla de contenido\\n\\n\\n\\nINTRODUCCIÓN ..........   \n",
       "1  Tabla de contenido\\n\\n\\n\\nPrefacio 11. Prelimi...   \n",
       "\n",
       "                                         inf_autores  \\\n",
       "0  [{'nombre_invertido': ': Caro Niño, Otto', 'or...   \n",
       "1  [{'nombre_invertido': ': Rojas, Alex L.', 'orc...   \n",
       "\n",
       "                                                 url  \n",
       "0  https://editorial.uptc.edu.co/gpd-transporte-d...  \n",
       "1  https://editorial.uptc.edu.co/gpd-introduccion...  "
      ]
     },
     "execution_count": 58,
     "metadata": {},
     "output_type": "execute_result"
    }
   ],
   "source": [
    "datos.head(2)"
   ]
  },
  {
   "cell_type": "code",
   "execution_count": 53,
   "metadata": {},
   "outputs": [
    {
     "data": {
      "text/plain": [
       "Index(['title', 'colaboradores', 'precio', 'palabras clave', 'doi',\n",
       "       'descripcion', 'metadata_ebook', 'metadata_imp',\n",
       "       'clasificación_temática', 'tabla_contenido', 'inf_autores', 'url'],\n",
       "      dtype='object')"
      ]
     },
     "execution_count": 53,
     "metadata": {},
     "output_type": "execute_result"
    }
   ],
   "source": [
    "datos.columns"
   ]
  },
  {
   "cell_type": "code",
   "execution_count": 54,
   "metadata": {},
   "outputs": [],
   "source": [
    "# renombrar columnas\n",
    "datos.rename({'palabras clave':'palabras_clave'},axis=1,inplace=True)"
   ]
  },
  {
   "cell_type": "code",
   "execution_count": 56,
   "metadata": {},
   "outputs": [],
   "source": [
    "def procesar_precio(precio_str):\n",
    "    patron = r'COP \\$(\\d+\\.?\\d*)'\n",
    "    numeros = re.findall(patron, precio_str)\n",
    "    if numeros:\n",
    "        # Convertir el número a entero eliminando los puntos\n",
    "        return numeros\n"
   ]
  },
  {
   "cell_type": "code",
   "execution_count": 57,
   "metadata": {},
   "outputs": [],
   "source": [
    "# Aplicar la función a la columna de precios\n",
    "datos['precio'] = datos['precio'].apply(lambda x: procesar_precio(str(x)))"
   ]
  },
  {
   "cell_type": "code",
   "execution_count": 59,
   "metadata": {},
   "outputs": [
    {
     "name": "stdout",
     "output_type": "stream",
     "text": [
      "Se guardaron 286 registros en el archivo JSON\n"
     ]
    }
   ],
   "source": [
    "# Convertir el DataFrame a una lista de diccionarios\n",
    "datos_lista = datos.to_dict('records')\n",
    "\n",
    "# Guardar en JSON con indentación\n",
    "with open('datos_pre.json', 'w', encoding='utf-8') as f:\n",
    "    json.dump(datos_lista, f, ensure_ascii=False, indent=4)\n",
    "\n",
    "# Verificar que se guardó correctamente\n",
    "print(f\"Se guardaron {len(datos_lista)} registros en el archivo JSON\")"
   ]
  },
  {
   "cell_type": "markdown",
   "metadata": {},
   "source": [
    "## Save in Mongodb "
   ]
  },
  {
   "cell_type": "code",
   "execution_count": 1,
   "metadata": {},
   "outputs": [
    {
     "name": "stdout",
     "output_type": "stream",
     "text": [
      "Collecting pymongo\n",
      "  Downloading pymongo-4.13.0-cp312-cp312-macosx_11_0_arm64.whl.metadata (22 kB)\n",
      "Collecting dnspython<3.0.0,>=1.16.0 (from pymongo)\n",
      "  Using cached dnspython-2.7.0-py3-none-any.whl.metadata (5.8 kB)\n",
      "Downloading pymongo-4.13.0-cp312-cp312-macosx_11_0_arm64.whl (911 kB)\n",
      "\u001b[2K   \u001b[90m━━━━━━━━━━━━━━━━━━━━━━━━━━━━━━━━━━━━━━━━\u001b[0m \u001b[32m911.5/911.5 kB\u001b[0m \u001b[31m2.9 MB/s\u001b[0m eta \u001b[36m0:00:00\u001b[0ma \u001b[36m0:00:01\u001b[0m\n",
      "\u001b[?25hUsing cached dnspython-2.7.0-py3-none-any.whl (313 kB)\n",
      "Installing collected packages: dnspython, pymongo\n",
      "Successfully installed dnspython-2.7.0 pymongo-4.13.0\n"
     ]
    }
   ],
   "source": [
    "!pip install pymongo"
   ]
  },
  {
   "cell_type": "code",
   "execution_count": 60,
   "metadata": {},
   "outputs": [],
   "source": [
    "import pymongo\n",
    "import json"
   ]
  },
  {
   "cell_type": "code",
   "execution_count": 61,
   "metadata": {},
   "outputs": [],
   "source": [
    "with open('datos_pre.json',mode='r') as f:\n",
    "    datos =json.load(f)"
   ]
  },
  {
   "cell_type": "code",
   "execution_count": 62,
   "metadata": {},
   "outputs": [
    {
     "data": {
      "text/plain": [
       "286"
      ]
     },
     "execution_count": 62,
     "metadata": {},
     "output_type": "execute_result"
    }
   ],
   "source": [
    "len(datos)"
   ]
  },
  {
   "cell_type": "code",
   "execution_count": null,
   "metadata": {},
   "outputs": [],
   "source": [
    "myclient = pymongo.MongoClient(\"mongodb://localhost:27017/\")\n",
    "mydb = myclient['editorial']\n",
    "mycol = mydb['libros']\n",
    "\n",
    "x = mycol.insert_many(datos)\n",
    "print(x.inserted_ids)"
   ]
  },
  {
   "cell_type": "code",
   "execution_count": null,
   "metadata": {},
   "outputs": [],
   "source": []
  }
 ],
 "metadata": {
  "kernelspec": {
   "display_name": "diplomado",
   "language": "python",
   "name": "python3"
  },
  "language_info": {
   "codemirror_mode": {
    "name": "ipython",
    "version": 3
   },
   "file_extension": ".py",
   "mimetype": "text/x-python",
   "name": "python",
   "nbconvert_exporter": "python",
   "pygments_lexer": "ipython3",
   "version": "3.12.2"
  }
 },
 "nbformat": 4,
 "nbformat_minor": 2
}
