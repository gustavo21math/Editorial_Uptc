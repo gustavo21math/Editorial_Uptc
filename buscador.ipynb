{
 "cells": [
  {
   "cell_type": "code",
   "execution_count": 1,
   "metadata": {},
   "outputs": [],
   "source": [
    "import os, getpass\n",
    "\n",
    "def _set_env(var: str):\n",
    "    if not os.environ.get(var):\n",
    "        os.environ[var] = getpass.getpass(f\"{var}: \")\n",
    "\n",
    "_set_env(\"OPENAI_API_KEY\")"
   ]
  },
  {
   "cell_type": "code",
   "execution_count": 4,
   "metadata": {},
   "outputs": [],
   "source": [
    "%%capture --no-stderr\n",
    "%pip install --quiet -U langchain_openai langchain_core langchain_community tavily-python"
   ]
  },
  {
   "cell_type": "code",
   "execution_count": 2,
   "metadata": {},
   "outputs": [],
   "source": [
    "from langchain_openai import ChatOpenAI\n",
    "gpt4o_chat = ChatOpenAI(model=\"gpt-4o-mini\", temperature=0)\n"
   ]
  },
  {
   "cell_type": "code",
   "execution_count": 3,
   "metadata": {},
   "outputs": [],
   "source": [
    "from IPython.display import Image, display\n",
    "from langchain_core.messages import SystemMessage, HumanMessage\n",
    "from langgraph.graph import StateGraph, START\n",
    "from langgraph.graph import MessagesState\n",
    "from langgraph.prebuilt import tools_condition, ToolNode\n",
    "from IPython.display import Image, display"
   ]
  },
  {
   "cell_type": "code",
   "execution_count": 4,
   "metadata": {},
   "outputs": [],
   "source": [
    "import pymongo as pymg\n",
    "myclient = pymg.MongoClient(\"mongodb://localhost:27017/\")\n",
    "mydb = myclient['editorial']\n",
    "mycol = mydb['libros']"
   ]
  },
  {
   "cell_type": "code",
   "execution_count": 5,
   "metadata": {},
   "outputs": [],
   "source": [
    "\n",
    "def buscar_por_titulo(palabras: str):\n",
    "    \"\"\"\n",
    "    Busca libros cuyo título se encutren en la base de datos,\n",
    "    extraídas apartir de palabras relevantes.\n",
    "\n",
    "    Args:\n",
    "        palabras (str): Palabras claves, separadas por una ',' en String. ejemplo: 'aulas,interdiciplinares'. ademas corrige la ortografia si es necesario.\n",
    "\n",
    "    Returns:\n",
    "        list: Lista de documentos que coinciden con la búsqueda.\n",
    "    \"\"\"\n",
    "    print(palabras)\n",
    "    if ',' not in palabras:\n",
    "        return list(mycol.find({'title':{'$regex':palabras,'$options':'i'}}))\n",
    "    else:\n",
    "        palabras_clave = palabras.split(',') \n",
    "        condiciones_or = [{\"title\": {\"$regex\": palabra, \"$options\": \"i\"}} for palabra in palabras_clave]\n",
    "        if not condiciones_or: \n",
    "            return []\n",
    "        \n",
    "        return list(mycol.find({\"$or\": condiciones_or}))\n",
    "\n",
    "# La lista de tools y la inicialización del LLM se mantienen igual\n",
    "tools = [buscar_por_titulo]\n",
    "\n",
    "llm = ChatOpenAI(model=\"gpt-4o-mini\")\n",
    "llm_with_tools = llm.bind_tools(tools)"
   ]
  },
  {
   "cell_type": "code",
   "execution_count": 6,
   "metadata": {},
   "outputs": [],
   "source": [
    "#system message\n",
    "content= '''Eres un Asistente en una biblioteca encargado \n",
    "    de buscar informacion de libros responde de forma resumida con el titulo del libro el autor y\n",
    "    una pequeña descripcion del libro, adiciona la url para que el usuario pueda ver mas informacion,\n",
    "    simpre procura buscar como titulo de libro\n",
    "    si no saber la respuesta dilo.\n",
    "'''\n",
    "sys_msg = SystemMessage(content=content)\n",
    "\n",
    "# node \n",
    "def assistant(state: MessagesState):\n",
    "    return{'messages':[llm_with_tools.invoke([sys_msg] +state['messages'])]}"
   ]
  },
  {
   "cell_type": "code",
   "execution_count": 8,
   "metadata": {},
   "outputs": [
    {
     "data": {
      "image/png": "[encoded data removed]",
      "text/plain": [
       "<IPython.core.display.Image object>"
      ]
     },
     "metadata": {},
     "output_type": "display_data"
    }
   ],
   "source": [
    "#graph\n",
    "builder = StateGraph(MessagesState)\n",
    "builder.add_node('assistant', assistant)\n",
    "builder.add_node('tools',ToolNode(tools))\n",
    "builder.set_entry_point('assistant')\n",
    "# define las aristas\n",
    "builder.add_edge(START,'assistant')\n",
    "builder.add_conditional_edges('assistant',tools_condition)\n",
    "builder.add_edge(\"tools\", \"assistant\")\n",
    "react_graph= builder.compile()\n",
    "#run\n",
    "display(Image(react_graph.get_graph(xray=True).draw_mermaid_png()))"
   ]
  },
  {
   "cell_type": "markdown",
   "metadata": {},
   "source": [
    "## prueba"
   ]
  },
  {
   "cell_type": "code",
   "execution_count": 9,
   "metadata": {},
   "outputs": [
    {
     "name": "stdout",
     "output_type": "stream",
     "text": [
      "probabilidad\n",
      "================================\u001b[1m Human Message \u001b[0m=================================\n",
      "\n",
      "probabilidad\n",
      "==================================\u001b[1m Ai Message \u001b[0m==================================\n",
      "Tool Calls:\n",
      "  buscar_por_titulo (call_747YH6dwS1YShD22G99KK5LP)\n",
      " Call ID: call_747YH6dwS1YShD22G99KK5LP\n",
      "  Args:\n",
      "    palabras: probabilidad\n",
      "=================================\u001b[1m Tool Message \u001b[0m=================================\n",
      "Name: buscar_por_titulo\n",
      "\n",
      "[{'_id': ObjectId('683c39e1db7d83a3a59b5d85'), 'title': 'Introducción al cálculo de probabilidades para estudiantes de ingeniería', 'colaboradores': ['Alex L. Rojas'], 'precio': None, 'palabras_clave': ['Espacio muestral', 'Probabilidad', 'Probabilidad condicional', 'Variables aleatorias', 'Funciones de distribución', 'Función de fiabilidad', 'Función cuantil'], 'doi': None, 'descripcion': ['\\nEl propósito de este libro es servir de texto guía en cursos de probabilidad para estudiantes de ingeniería. Por esta razón, los conceptos presentados son principalmente aplicados a la solución de problemas en diversos campos de la ingeniería. En el primer capítulo se presentan los conceptos básicos de matemáticas que facilitarán la comprensión del resto del material presentado. En el segundo capítulo se presentan las definiciones básicas de probabilidad y probabilidad condicional, junto a las principales reglas para hacer cálculos de probabilidades. En el tercer capítulo se introduce el concepto de variable aleatoria y cómo este nos permite modelar problemas básicos de ingeniería. También, se definen las funciones de distribución, probabilidad, fiabilidad y cuantil asociadas a una variable aleatoria. En el cuarto capítulo se presenta el concepto de esperanza matemática y cómo puede utilizarse para identificar funciones de distribución. Finalmente, el quinto capítulo presenta las distribuciones más comúnmente utilizadas en ingeniería para modelar problemas en los que hay elementos de incertidumbre. A lo largo del texto se utiliza software libre para realizar los cálculos y simulaciones.\\n'], 'metadata_ebook': {'Detalle de formato': 'Digital: descarga y online', 'Formato': 'PDF', 'Estado': 'Activo', 'ISBN-13': '9789586609449', 'Tipo de contenido principal': 'Texto (legible a simple vista)', 'Protección técnica de publicación digital': 'DRM', 'Idioma del texto': 'Español', 'Sello editorial': 'Universidad Pedagógica y Tecnológica de Colombia', 'Tipo de edición': 'Nueva edición', 'Número de edición': 1, 'Ciudad de publicación': 'Tunja', 'País de publicación': 'Colombia', 'Fecha de publicación': 2025, 'Tipo de restricción de venta': 'Exclusivo para un punto o canal de venta'}, 'metadata_imp': None, 'clasificación_temática': 'BISACMAT029000 MATEMÁTICAS > Probabilidad y estadística > GeneralTHEMAPBT Probabilidad y estadísticaDEWEY519.5 Ciencias naturales y matemáticas > Matemáticas > Probabilidades y matemática aplicada > Matemática Estadística', 'tabla_contenido': 'Tabla de contenido\\n\\n\\n\\nPrefacio 11. Preliminares 5\\xa0\\xa0\\xa0\\xa01.1 Sumatorias y productorias . . . . . . . . . . . . . 6\\xa0\\xa0\\xa0\\xa01.2 Técnicas básicas de conteo . . . . . . . . . . . . . 13\\xa0\\xa0\\xa0\\xa01.3 Serie geométrica . . . . . . . . . . . . . . . . . . 17\\xa0\\xa0\\xa0\\xa01.4 Álgebra de conjuntos . . . . . . . . . . . . . . . . 19\\xa0\\xa0\\xa0\\xa01.5 Función indicadora . . . . . . . . . . . . . . . . . 27\\xa0\\xa0\\xa0\\xa01.6 Primer teorema fundamental del cálculo . . . . . 33\\xa0\\xa0\\xa0\\xa01.7 Funciones gamma y beta . . . . . . . . . . . . . . 34\\xa0\\xa0\\xa0\\xa01.8 Ejercicios . . . . . . . . . . . . . . . . . . . . . . 352. Elementos básicos de probabilidad ...............37\\xa0\\xa0\\xa0\\xa02.1 Espacio muestral y eventos . . . . . . . . . . . . 38\\xa0\\xa0\\xa0\\xa02.2 Probabilidad . . . . . . . . . . . . . . . . . . . . 46\\xa0\\xa0\\xa0\\xa02.3 Probabilidad condicional . . . . . . . . . . . . . . 60\\xa0\\xa0\\xa0\\xa0\\xa0\\xa0\\xa0\\xa02.3.1 Independencia . . . . . . . . . . . . . . . 77\\xa0\\xa0\\xa0\\xa0\\xa0\\xa0\\xa0\\xa02.3.2 Regla de Bayes . . . . . . . . . . . . . . . 88\\xa0\\xa0\\xa0\\xa02.4 Ejercicios . . . . . . . . . . . . . . . . . . . . . . 953. Variables aleatorias y distribuciones 103\\xa0\\xa0\\xa0\\xa03.1 Variables aleatorias . . . . . . . . . . . . . . . . . 103\\xa0\\xa0\\xa0\\xa03.2 Función de distribución acumulada . . . . . . . . 119\\xa0\\xa0\\xa0\\xa0\\xa0\\xa0\\xa0\\xa03.2.1 Función de fiabilidad . . . . . . . . . . . . 134\\xa0\\xa0\\xa0\\xa0\\xa0\\xa0\\xa0\\xa03.2.2 Función cuantil . . . . . . . . . . . . . . . 143\\xa0\\xa0\\xa0\\xa03.3 Distribuciones multivariadas . . . . . . . . . . . . 147\\xa0\\xa0\\xa0\\xa03.4 Funciones de variables aleatorias . . . . . . . . . 169\\xa0\\xa0\\xa0\\xa0\\xa0\\xa0\\xa0\\xa03.4.1 Estadísticas de orden . . . . . . . . . . . . 177\\xa0\\xa0\\xa0\\xa0\\xa0\\xa0\\xa0\\xa03.4.2 Simulación estocástica . . . . . . . . . . . 180\\xa0\\xa0\\xa0\\xa03.5 Ejercicios . . . . . . . . . . . . . . . . . . . . . . 1904. Esperanza matemática................................199\\xa0\\xa0\\xa0\\xa04.1 Propiedades . . . . . . . . . . . . . . . . . . . . . 209\\xa0\\xa0\\xa0\\xa04.2 Covarianza y correlación . . . . . . . . . . . . . . 219\\xa0\\xa0\\xa0\\xa04.3 Valor esperado condicional . . . . . . . . . . . . . 222\\xa0\\xa0\\xa0\\xa04.4 Transformadas . . . . . . . . . . . . . . . . . . . 231\\xa0\\xa0\\xa0\\xa04.5 Ejercicios . . . . . . . . . . . . . . . . . . . . . . 2345. Distribuciones especiales ......................239\\xa0\\xa0\\xa0\\xa05.1 Distribuciones discretas . . . . . . . . . . . . . . 239\\xa0\\xa0\\xa0\\xa0\\xa0\\xa0\\xa0\\xa05.1.1 Distribuciones Bernoulli . . . . . . . . . . 240\\xa0\\xa0\\xa0\\xa0\\xa0\\xa0\\xa0\\xa05.1.2 Distribuciones binomiales . . . . . . . . . 243\\xa0\\xa0\\xa0\\xa0\\xa0\\xa0\\xa0\\xa05.1.3 Distribuciones binomiales negativas . . . . 252\\xa0\\xa0\\xa0\\xa0\\xa0\\xa0\\xa0\\xa05.1.4 Distribuciones Poisson . . . . . . . . . . . 262\\xa0\\xa0\\xa0\\xa0\\xa0\\xa0\\xa0\\xa05.1.5 Distribuciones hipergeométricas . . . . . . 272\\xa0\\xa0\\xa0\\xa05.2 Distribuciones continuas . . . . . . . . . . . . . . 275\\xa0\\xa0\\xa0\\xa0\\xa0\\xa0\\xa0\\xa05.2.1 Distribuciones gamma . . . . . . . . . . . 275\\xa0\\xa0\\xa0\\xa0\\xa0\\xa0\\xa0\\xa05.2.2 Distribuciones beta . . . . . . . . . . . . . 277\\xa0\\xa0\\xa0\\xa0\\xa0\\xa0\\xa0\\xa05.2.3 Distribuciones normales . . . . . . . . . . 279\\xa0\\xa0\\xa0\\xa05.3 Ejercicios . . . . . . . . . . . . . . . . . . . . . . 292Referencias 299\\n\\n\\n', 'inf_autores': [{'nombre_invertido': ': Rojas, Alex L.', 'orcid': 'https://orcid.org/0000-0002-9460-8695', 'afiliacion': 'Universidad Pedagógica y Tecnológica de Colombia', 'biografia': 'Es\\xa0doctor\\xa0en\\xa0Estadística\\xa0y\\xa0profesor\\xa0asociado de\\xa0la\\xa0Facultad\\xa0de\\xa0Ciencias\\xa0de\\xa0la\\xa0Universidad\\xa0Pedagógica\\xa0y\\xa0Tecnológica\\xa0de\\xa0Colombia\\xa0(UPTC).\\xa0Es miembro de los grupos de investigación\\xa0Teoría\\xa0de\\xa0los\\xa0números\\xa0y geometría\\xa0algebraica\\xa0y Ecología de organismos.Su\\xa0principal\\xa0interés\\xa0es\\xa0la\\xa0conservación\\xa0de\\xa0los\\xa0bosques alto Andinos. Sus más recientes\\xa0publicaciones\\xa0son\\xa0Python\\xa0para\\xa0las\\xa0humanida\\xad des\\xa0digitales\\xa0publicada\\xa0por\\xa0ECOE\\xa0ediciones\\xa0y\\xa0Effect of\\xa0management\\xa0and\\xa0probiotic\\xa0supplementation on growth performance of Muscovy duck publicada en la Revista Colombiana\\xa0de Ciencias Pecuarias.alex.rojas01@uptc.edu.co', 'email': 'Pecuarias.alex.rojas01@uptc.edu.co'}], 'url': 'https://editorial.uptc.edu.co/gpd-introduccion-al-calculo-de-probabilidades-para-estudiantes-de-ingenieria-9789586609449-680d0a2fc352d.html'}, {'_id': ObjectId('683c39e1db7d83a3a59b5d9a'), 'title': 'Cálculo y medición de probabilidades', 'colaboradores': ['Margoth Adriana Valdivieso Miranda', 'Víctor Miguel Ángel Burbano Pantoja'], 'precio': [38000], 'palabras_clave': ['Probabilidad y medición', 'Cálculo de probabilidades', 'Saber para enseñar', 'Transposición didáctica', 'Perspectiva investigativa', 'Enseñanza universitaria'], 'doi': ['10.19053/uptc.9789586608312'], 'descripcion': ['\\nDesde hace más de treinta milenios los seres humanos han propuesto diversas formas de elaborar mediciones sobre los fenómenos aleatorios, lo que ha generado diferentes maneras de asumir el azar, el riesgo y lo probable. Poco a poco, se formaron la concepción epistemológica y la concepción aleatoria de la probabilidad, esta última originada en los juegos de azar y la repartición de apuestas, pero solo hasta el siglo XVII se empezó a formalizar su cálculo con las aportaciones de Pascal y Leibniz, resultado que luego afinaría Laplace y que se publicaría en 1812 como probabilidad clásica, calculada sobre conjuntos finitos de resultados posibles. Sin embargo, solo en 1933 Kolmogorov consolidó la probabilidad axiomática como una medida que permitió su cálculo tanto de espacios finitos como infinitos.Actualmente, la probabilidad es una rama de las matemáticas con múltiples aplicaciones, de allí la necesidad de estudiarla desde la educación escolar hasta la universitaria y ojalá a lo largo de toda la vida mediante diversas estrategias. En este trabajo investigativo se hace una transposición del saber probabilístico al saber para ser enseñado, que se constituye en una propuesta de intervención para mejorar su aprendizaje. Para elaborar esta obra se hicieron procesos de investigación documental y de diagnóstico de presaberes en estudiantes universitarios, a fin de generar situaciones de aprendizaje que permitan transitar del cálculo clásico a la medición de probabilidades en espacios no laplacianos.Para elaborar este trabajo, se utilizó una metodología de corte mixto, donde se conjugan el análisis textual y los métodos cuantitativos, incluido el inductivo-deductivo. Este libro está dirigido a estudiantes universitarios, profesores y profesionales interesados en incrementar su conocimiento probabilístico, a través de la lectura de las situaciones expuestas focalizadas en espacios de probabilidad, variables aleatorias y modelos de probabilidad.\\n'], 'metadata_ebook': {'DOI': 'doi.org/10.19053/uptc.9789586608312', 'Detalle de formato': 'Tapa blanda o Bolsillo', 'Estado': 'Activo', 'ISBN-13': '9789586608312', 'Tipo de contenido principal': 'Texto (legible a simple vista)', 'Idioma del texto': 'Español', 'Tamaño (cm)': '17 x 24  x 1.1', 'Número de páginas del contenido principal': '208 Páginas', 'Sello editorial': 'Universidad Pedagógica y Tecnológica de Colombia', 'Tipo de edición': 'Nueva edición', 'Número de edición': 1, 'Ciudad de publicación': 'Tunja', 'País de publicación': 'Colombia', 'Fecha de publicación': 2024, 'Tipo de restricción de venta': 'Exclusivo para un punto o canal de venta', 'SIIEL SKU': '407828', 'Precio': 'COP $38.000'}, 'metadata_imp': None, 'clasificación_temática': 'BISACMAT029000 MATEMÁTICAS > Probabilidad y estadística > GeneralTHEMAPBK Cálculo y análisis matemáticoDEWEY519.2 Ciencias naturales y matemáticas > Matemáticas > Probabilidades y matemática aplicada > Probabilidades', 'tabla_contenido': 'Tabla de contenido\\n\\n\\n\\nINTRODUCCIÓN............................................................................................................. 151. BASES CONCEPTUALES Y METODOLÓGICAS DEL TRABAJO INVESTIGATIVO........................19\\xa0\\xa0\\xa0\\xa01.1 Bases conceptuales.....................................................................................19\\xa0\\xa0\\xa0\\xa01.2 Aspectos de tipo metodológico..............................................................252. LA PROBABILIDAD Y SU MEDICIÓN..............................................................33\\xa0\\xa0\\xa0\\xa02.1 Aspectos conceptuales..............................................................................33\\xa0\\xa0\\xa0\\xa02.2 Espacios de probabilidad laplacianos...................................................36\\xa0\\xa0\\xa0\\xa02.3 Probabilidad condicional y teorema de Bayes....................................45\\xa0\\xa0\\xa0\\xa02.4 Espacios de probabilidad no laplacianos finitos................................51\\xa0\\xa0\\xa0\\xa02.5 Espacios no laplacianos discretos infinitos.........................................58\\xa0\\xa0\\xa0\\xa02.6 Espacio no laplaciano infinito no contable.........................................633. VARIABLE ALEATORIA REAL Y SU FUNCIÓN DE PROBABILIDAD.... 67\\xa0\\xa0\\xa0\\xa03.1 Definición y clasificación de una variable aleatoria...........................67\\xa0\\xa0\\xa0\\xa03.2 Función de probabilidad de una VaR X.................................................68\\xa0\\xa0\\xa0\\xa03.3 Función de densidad de una VaR X continua.....................................874. ALGUNOS MODELOS DE PROBABILIDAD...................................................103\\xa0\\xa0\\xa0\\xa04.1 Modelos de probabilidad discretos........................................................103\\xa0\\xa0\\xa0\\xa0\\xa0\\xa0\\xa0\\xa04.1.1 Modelo de Bernoulli.................................................................................................103\\xa0\\xa0\\xa0\\xa0\\xa0\\xa0\\xa0\\xa04.1.2 Modelo Binomial......................................................................................................106\\xa0\\xa0\\xa0\\xa0\\xa0\\xa0\\xa0\\xa04.1.3 Modelo hipergeométrico.......................................................................................120\\xa0\\xa0\\xa0\\xa0\\xa0\\xa0\\xa0\\xa04.1.4 Modelo de Poisson...................................................................................................134\\xa0\\xa0\\xa0\\xa04.2 Otras distribuciones discretas...............................................................1465. MODELOS CONTINUOS DE PROBABILIDAD.............................................. 151\\xa0\\xa0\\xa0\\xa05.1 Distribución uniforme...............................................................................151\\xa0\\xa0\\xa0\\xa05.2 Distribución exponencial.........................................................................156\\xa0\\xa0\\xa0\\xa05.3 Distribución normal o modelo gaussiano............................................160\\xa0\\xa0\\xa0\\xa05.4 Otros modelos de probabilidad de tipo continuo.............................174\\xa0\\xa0\\xa0\\xa0\\xa0\\xa0\\xa0\\xa05.4.1 Distribución Gamma..............................................................................................175\\xa0\\xa0\\xa0\\xa0\\xa0\\xa0\\xa0\\xa05.4.2 Distribución Chi-cuadrado.................................................................................178\\xa0\\xa0\\xa0\\xa0\\xa0\\xa0\\xa0\\xa05.4.3 Distribución t-student..........................................................................................182\\xa0\\xa0\\xa0\\xa0\\xa0\\xa0\\xa0\\xa05.4.4 Distribución de Fisher...........................................................................................185\\xa0\\xa0\\xa0\\xa0\\xa0\\xa0\\xa0\\xa05.4.5 Distribución beta....................................................................................................188\\xa0\\xa0\\xa0\\xa0\\xa0\\xa0\\xa0\\xa05.4.6 Distribución de probabilidad de Weibull.........................................................190\\xa0\\xa0\\xa0\\xa0\\xa0\\xa0\\xa0\\xa05.4.7 Distribución lognormal.........................................................................................192CONCLUSIONES............................................................................................................. 195\\xa0\\xa0\\xa0\\xa06.1 Hallazgos.......................................................................................................195\\xa0\\xa0\\xa0\\xa06.2 Conclusiones y recomendaciones.........................................................198Referencias.......................................................................................................................201\\n\\n\\n', 'inf_autores': [{'nombre_invertido': ': Valdivieso Miranda, Margoth Adriana', 'orcid': 'https://orcid.org/0000-0002-3617-928X', 'afiliacion': 'Universidad Pedagógica y Tecnológica de Colombia', 'biografia': 'Licenciada en Matemáticas de la Universidad de Nariño. Magíster en Ciencias-Estadística Universidad Nacional de Colombia. Estudiante del Doctorado en Ciencias de la Educación con Énfasis en Investigación, Evaluación y Formulación de Proyectos Educativos, en la Universidad Metropolitana de Educación, Ciencia y Tecnología (UMECIT).Profesora asociada, par evaluador Minciencias, investigadora de la Escuela de Matemáticas y Estadística de la UPTC y del Grupo Interdisciplinario en Ciencias (GICI).margoth.valdivieso@uptc.edu.co', 'email': '.margoth.valdivieso@uptc.edu.co'}, {'nombre_invertido': ': Burbano Pantoja, Víctor Miguel Ángel', 'orcid': 'https://orcid.org/0000-0002-3561-1886', 'afiliacion': 'Universidad Pedagógica y Tecnológica de Colombia', 'biografia': 'Licenciado en Matemáticas de la Universidad de Nariño. Especialista en computación. Especialista en Pedagogía del aprendizaje.Magíster en Ciencias-Estadística Universidad Nacional de Colombia. Doctor en Ciencias de la Educación Universidad Pedagógica y Tecnológica de Colombia (UPTC). Profesor titular, par evaluador Min-Ciencias e Investigador de la Escuela de Matemáticas y Estadística-UPTC Líder del Grupo Interdisciplinario en Ciencias (GICI).victor.burbano@uptc.edu.co', 'email': '.victor.burbano@uptc.edu.co'}], 'url': 'https://editorial.uptc.edu.co/gpd-calculo-y-medicion-de-probabilidades-9789586608312-6643c51dcb3c6.html'}, {'_id': ObjectId('683c39e1db7d83a3a59b5e0c'), 'title': 'Un acercamiento a la didáctica de la probabilidad desde el PCK', 'colaboradores': ['Víctor Miguel Ángel Burbano Pantoja'], 'precio': [25000], 'palabras_clave': ['Probabilidad', '', 'didáctica'], 'doi': ['10.19053/9789586602488'], 'descripcion': ['\\nEn este libro se hace un acercamiento a la didáctica de la probabilidad desde el marco teórico denominado Pedagogícal Content Knowleadge (PCK), se describen los procesos investigativos tendientes a indagar y reflexionar en torno al PCK de dos profesores, uno experimentado y otro novato, ambos con estudios de pregrado en matemáticas, quienes enseñan el tema de probabilidad a estudiantes colombianos del grado once con edades entre los 14 y los 18 años.\\xa0 El camino metodológico recorrido desarrolla un proceso de indagación cualitativo centrado en un estudio de casos y soportado en un análisis interpretativo de información textual, este también incluye una triangulación metodológica destinada a proporcionar la validez y la confiabilidad requerida en tal estudio.\\n'], 'metadata_ebook': {'DOI': 'doi.org/10.19053/9789586602488', 'Detalle de formato': 'Tapa blanda o Bolsillo', 'Estado': 'Activo', 'ISBN-13': '9789586602488', 'Tipo de contenido principal': 'Texto (legible a simple vista)', 'Idioma del texto': 'Español', 'Tamaño (cm)': '17 x 24  x 1.2', 'Número de páginas del contenido principal': '256 Páginas', 'Tipo de edición': 'Nueva edición', 'Número de edición': 1, 'Ciudad de publicación': 'Tunja', 'País de publicación': 'Colombia', 'Fecha de publicación': 2017, 'Tipo de restricción de venta': 'Exclusivo para un punto o canal de venta', 'SIIEL SKU': '320363', 'Precio': 'COP $25.000'}, 'metadata_imp': None, 'clasificación_temática': 'BISACMAT041000 MATEMÁTICAS > Análisis numéricoTHEMAPBKS Análisis numéricoDEWEY519 Ciencias naturales y matemáticas > Matemáticas > Probabilidades y matemática aplicada', 'tabla_contenido': 'Tabla de contenido\\n\\n\\n\\n\\n\\n', 'inf_autores': [{'nombre_invertido': ': Burbano Pantoja, Víctor Miguel Ángel', 'orcid': 'https://orcid.org/0000-0002-3561-1886', 'afiliacion': 'Universidad Pedagógica y Tecnológica de Colombia', 'biografia': 'Licenciado en Matemáticas de la Universidad de Nariño. Especialista en computación. Especialista en Pedagogía del aprendizaje.Magíster en Ciencias-Estadística Universidad Nacional de Colombia. Doctor en Ciencias de la Educación Universidad Pedagógica y Tecnológica de Colombia (UPTC). Profesor titular, par evaluador Min-Ciencias e Investigador de la Escuela de Matemáticas y Estadística-UPTC Líder del Grupo Interdisciplinario en Ciencias (GICI).victor.burbano@uptc.edu.co', 'email': '.victor.burbano@uptc.edu.co'}], 'url': 'https://editorial.uptc.edu.co/gpd-un-acercamiento-a-la-didactica-de-la-probabilidad-desde-el-pck-9789586602488.html'}]\n",
      "==================================\u001b[1m Ai Message \u001b[0m==================================\n",
      "\n",
      "Aquí tienes algunos libros sobre probabilidad:\n",
      "\n",
      "1. **Título:** Introducción al cálculo de probabilidades para estudiantes de ingeniería  \n",
      "   **Autor:** Alex L. Rojas  \n",
      "   **Descripción:** Este libro es una guía para estudiantes de ingeniería, presentando los conceptos básicos de probabilidad, variables aleatorias y funciones de distribución, usado para resolver problemas en ingeniería.  \n",
      "   **URL:** [Más información](https://editorial.uptc.edu.co/gpd-introduccion-al-calculo-de-probabilidades-para-estudiantes-de-ingenieria-9789586609449-680d0a2fc352d.html)\n",
      "\n",
      "2. **Título:** Cálculo y medición de probabilidades  \n",
      "   **Autores:** Margoth Adriana Valdivieso Miranda, Víctor Miguel Ángel Burbano Pantoja  \n",
      "   **Descripción:** Este libro ofrece un enfoque sobre la enseñanza y comprensión de la probabilidad, desde su cálculo clásico hasta su medición en espacios no laplacianos, dirigido a estudiantes y docentes.  \n",
      "   **URL:** [Más información](https://editorial.uptc.edu.co/gpd-calculo-y-medicion-de-probabilidades-9789586608312-6643c51dcb3c6.html)\n",
      "\n",
      "3. **Título:** Un acercamiento a la didáctica de la probabilidad desde el PCK  \n",
      "   **Autor:** Víctor Miguel Ángel Burbano Pantoja  \n",
      "   **Descripción:** Este libro examina la didáctica de la probabilidad a través del conocimiento pedagógico del contenido (PCK), analizando la enseñanza de este tema en educación secundaria.  \n",
      "   **URL:** [Más información](https://editorial.uptc.edu.co/gpd-un-acercamiento-a-la-didactica-de-la-probabilidad-desde-el-pck-9789586602488.html) \n",
      "\n",
      "Si necesitas más información, no dudes en preguntar.\n"
     ]
    }
   ],
   "source": [
    "messages = [HumanMessage(content=\"probabilidad\")]\n",
    "messages = react_graph.invoke({\"messages\": messages})\n",
    "for m in messages['messages']:\n",
    "    m.pretty_print()"
   ]
  },
  {
   "cell_type": "code",
   "execution_count": 18,
   "metadata": {},
   "outputs": [
    {
     "data": {
      "text/plain": [
       "'Aquí tienes algunos libros relacionados con \"conjuntos\":\\n\\n1. **Cálculo y medición de probabilidades**\\n   - **Autores:** Margoth Adriana Valdivieso Miranda, Víctor Miguel Ángel Burbano Pantoja\\n   - **Descripción:** Este libro aborda la evolución del cálculo de probabilidades y su enseñanza desde la educación básica hasta la universitaria, incluyendo metodologías innovadoras para mejorar el aprendizaje de los estudiantes.\\n   - **[Más información](https://editorial.uptc.edu.co/gpd-calculo-y-medicion-de-probabilidades-9789586608312-6643c51dcb3c6.html)**\\n\\n2. **Iniciando a Programar con Python**\\n   - **Autores:** Javier Humberto Cuervo Álvarez, Lina María Cuervo Díaz, Nathalia Andrea Cuervo Díaz\\n   - **Descripción:** Una guía básica para aprender programación en Python, cubriendo desde temas elementales hasta estructuras de datos como listas, conjuntos y diccionarios.\\n   - **[Más información](https://editorial.uptc.edu.co/gpd-iniciando-a-programar-con-python-9789586609036-66edebb6bea70.html)**\\n\\n3. **Topología: un curso introductorio. Volumen I**\\n   - **Autores:** Héctor Julio Suárez Suárez, Pedro Nel Maluendas Pardo, Robinson Julian Serna Vanegas\\n   - **Descripción:** Este libro introduce a los fundamentos de la topología general, incluyendo nociones básicas sobre teoría de conjuntos y espacios métricos.\\n   - **[Más información](https://editorial.uptc.edu.co/gpd-topologia-un-curso-introductorio-volumen-i-9789586605106.html)**\\n\\n4. **Matemáticas Discretas**\\n   - **Autores:** María Yazmín Abril Fernández, Yusely Johana Sánchez Hernández, Maribel Martínez Montaña\\n   - **Descripción:** Se enfoca en el estudio de conceptos de combinatoria, teoría de grafos y probabilidad, aplicando algoritmos en Python para facilitar la comprensión.\\n   - **[Más información](https://editorial.uptc.edu.co/gpd-matematicas-discretas-9789586607094-642348710b90f.html)**\\n\\n5. **Apuntes de estructuras algebraicas**\\n   - **Autores:** Omaida Sepúlveda Delgado, Robinson Julian Serna Vanegas, Nelsy Rocío González Gutiérrez\\n   - **Descripción:** Este texto abarca estructuras algebraicas fundamentales como grupos, anillos y módulos, con un enfoque práctico para estudiantes.\\n   - **[Más información](https://editorial.uptc.edu.co/gpd-apuntes-de-estructuras-algebraicas-9789586607391-6464d484d938c.html)**\\n\\nPuedes consultar más sobre cada libro haciendo clic en los enlaces proporcionados.'"
      ]
     },
     "execution_count": 18,
     "metadata": {},
     "output_type": "execute_result"
    }
   ],
   "source": [
    "m.content\n"
   ]
  },
  {
   "cell_type": "code",
   "execution_count": null,
   "metadata": {},
   "outputs": [],
   "source": [
    "!pip install gradio"
   ]
  },
  {
   "cell_type": "code",
   "execution_count": 11,
   "metadata": {},
   "outputs": [],
   "source": [
    "import gradio as gr"
   ]
  },
  {
   "cell_type": "code",
   "execution_count": 12,
   "metadata": {},
   "outputs": [
    {
     "name": "stdout",
     "output_type": "stream",
     "text": [
      "* Running on local URL:  http://127.0.0.1:7860\n",
      "* To create a public link, set `share=True` in `launch()`.\n"
     ]
    },
    {
     "data": {
      "text/html": [
       "<div><iframe src=\"http://127.0.0.1:7860/\" width=\"100%\" height=\"500\" allow=\"autoplay; camera; microphone; clipboard-read; clipboard-write;\" frameborder=\"0\" allowfullscreen></iframe></div>"
      ],
      "text/plain": [
       "<IPython.core.display.HTML object>"
      ]
     },
     "metadata": {},
     "output_type": "display_data"
    },
    {
     "data": {
      "text/plain": []
     },
     "execution_count": 12,
     "metadata": {},
     "output_type": "execute_result"
    }
   ],
   "source": [
    "def buscar_libro(texto):\n",
    "    messages = [HumanMessage(content=texto)]\n",
    "    messages = react_graph.invoke({\"messages\": messages})\n",
    "    return messages['messages'][-1].content\n",
    "\n",
    "\n",
    "with gr.Blocks() as demo:\n",
    "    gr.Markdown('## Buscador de Libros Editorial UPTC 📚 🔎')\n",
    "    \n",
    "    with gr.Row():\n",
    "        # Caja de texto y botón en la misma fila\n",
    "        texto_busqueda = gr.Textbox(\n",
    "            placeholder='Ingresa palabras clave para buscar...',\n",
    "            label='Búsqueda',\n",
    "            scale=4  # La caja de texto ocupará más espacio\n",
    "        )\n",
    "        boton_buscar = gr.Button(\"🔍 Buscar\", scale=1)  \n",
    "    \n",
    "    # Área de resultados\n",
    "    resultados = gr.Markdown(\n",
    "        label=\"Resultados\"\n",
    "    )\n",
    "    \n",
    "    # Conectar el botón con la función de búsqueda\n",
    "    boton_buscar.click(\n",
    "        fn=buscar_libro,\n",
    "        inputs=texto_busqueda,\n",
    "        outputs=resultados\n",
    "    )\n",
    "\n",
    "# Lanzar la interfaz\n",
    "demo.launch() \n"
   ]
  },
  {
   "cell_type": "code",
   "execution_count": null,
   "metadata": {},
   "outputs": [],
   "source": []
  }
 ],
 "metadata": {
  "kernelspec": {
   "display_name": "langchain",
   "language": "python",
   "name": "python3"
  },
  "language_info": {
   "codemirror_mode": {
    "name": "ipython",
    "version": 3
   },
   "file_extension": ".py",
   "mimetype": "text/x-python",
   "name": "python",
   "nbconvert_exporter": "python",
   "pygments_lexer": "ipython3",
   "version": "3.11.11"
  }
 },
 "nbformat": 4,
 "nbformat_minor": 2
}
