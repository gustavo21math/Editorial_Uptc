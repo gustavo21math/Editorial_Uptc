{
 "cells": [
  {
   "cell_type": "markdown",
   "metadata": {},
   "source": [
    "# Prototipo Buscador `Editorial Uptc`"
   ]
  },
  {
   "cell_type": "code",
   "execution_count": 1,
   "metadata": {},
   "outputs": [],
   "source": [
    "# recueda crear tu clave api de en https://openai.com/api/\n",
    "\n",
    "import os, getpass\n",
    "\n",
    "def _set_env(var: str):\n",
    "    if not os.environ.get(var):\n",
    "        os.environ[var] = getpass.getpass(f\"{var}: \")\n",
    "\n",
    "_set_env(\"OPENAI_API_KEY\")"
   ]
  },
  {
   "cell_type": "code",
   "execution_count": 4,
   "metadata": {},
   "outputs": [],
   "source": [
    "%%capture --no-stderr\n",
    "%pip install --quiet -U langchain_openai langchain_core langchain_community tavily-python"
   ]
  },
  {
   "cell_type": "code",
   "execution_count": 2,
   "metadata": {},
   "outputs": [],
   "source": [
    "from langchain_openai import ChatOpenAI\n",
    "gpt4o_chat = ChatOpenAI(model=\"gpt-4o-mini\", temperature=0)\n"
   ]
  },
  {
   "cell_type": "code",
   "execution_count": 3,
   "metadata": {},
   "outputs": [],
   "source": [
    "from IPython.display import Image, display\n",
    "from langchain_core.messages import SystemMessage, HumanMessage\n",
    "from langgraph.graph import StateGraph, START\n",
    "from langgraph.graph import MessagesState\n",
    "from langgraph.prebuilt import tools_condition, ToolNode\n",
    "from IPython.display import Image, display"
   ]
  },
  {
   "cell_type": "code",
   "execution_count": 4,
   "metadata": {},
   "outputs": [],
   "source": [
    "import pymongo as pymg\n",
    "myclient = pymg.MongoClient(\"mongodb://localhost:27017/\")\n",
    "mydb = myclient['editorial']\n",
    "mycol = mydb['libros']"
   ]
  },
  {
   "cell_type": "code",
   "execution_count": 5,
   "metadata": {},
   "outputs": [],
   "source": [
    "\n",
    "def buscar_por_titulo(palabras: str):\n",
    "    \"\"\"\n",
    "    Busca libros cuyo título se encutren en la base de datos,\n",
    "    extraídas apartir de palabras relevantes.\n",
    "\n",
    "    Args:\n",
    "        palabras (str): Palabras claves, separadas por una ',' en String. ejemplo: 'aulas,interdiciplinares'. ademas corrige la ortografia si es necesario.\n",
    "\n",
    "    Returns:\n",
    "        list: Lista de documentos que coinciden con la búsqueda.\n",
    "    \"\"\"\n",
    "    print(palabras)\n",
    "    if ',' not in palabras:\n",
    "        return list(mycol.find({'title':{'$regex':palabras,'$options':'i'}}))\n",
    "    else:\n",
    "        palabras_clave = palabras.split(',') \n",
    "        condiciones_or = [{\"title\": {\"$regex\": palabra, \"$options\": \"i\"}} for palabra in palabras_clave]\n",
    "        if not condiciones_or: \n",
    "            return []\n",
    "        \n",
    "        return list(mycol.find({\"$or\": condiciones_or}))\n",
    "\n",
    "# La lista de tools y la inicialización del LLM se mantienen igual\n",
    "tools = [buscar_por_titulo]\n",
    "\n",
    "llm = ChatOpenAI(model=\"gpt-4o-mini\")\n",
    "llm_with_tools = llm.bind_tools(tools)"
   ]
  },
  {
   "cell_type": "code",
   "execution_count": 6,
   "metadata": {},
   "outputs": [],
   "source": [
    "#system message\n",
    "content= '''Eres un Asistente en una biblioteca encargado \n",
    "    de buscar informacion de libros responde de forma resumida con el titulo del libro el autor y\n",
    "    una pequeña descripcion del libro, adiciona la url para que el usuario pueda ver mas informacion,\n",
    "    simpre procura buscar como titulo de libro.\n",
    "\n",
    "    Si no saber la respuesta dilo.\n",
    "'''\n",
    "sys_msg = SystemMessage(content=content)\n",
    "\n",
    "# node \n",
    "def assistant(state: MessagesState):\n",
    "    return{'messages':[llm_with_tools.invoke([sys_msg] +state['messages'])]}"
   ]
  },
  {
   "cell_type": "code",
   "execution_count": null,
   "metadata": {},
   "outputs": [],
   "source": [
    "#graph\n",
    "builder = StateGraph(MessagesState)\n",
    "builder.add_node('assistant', assistant)\n",
    "builder.add_node('tools',ToolNode(tools))\n",
    "builder.set_entry_point('assistant')\n",
    "# define las aristas\n",
    "builder.add_edge(START,'assistant')\n",
    "builder.add_conditional_edges('assistant',tools_condition)\n",
    "builder.add_edge(\"tools\", \"assistant\")\n",
    "react_graph= builder.compile()\n",
    "#run\n",
    "display(Image(react_graph.get_graph(xray=True).draw_mermaid_png()))"
   ]
  },
  {
   "cell_type": "markdown",
   "metadata": {},
   "source": [
    "## prueba"
   ]
  },
  {
   "cell_type": "code",
   "execution_count": null,
   "metadata": {},
   "outputs": [],
   "source": [
    "messages = [HumanMessage(content=\"probabilidad\")]\n",
    "messages = react_graph.invoke({\"messages\": messages})\n",
    "for m in messages['messages']:\n",
    "    m.pretty_print()"
   ]
  },
  {
   "cell_type": "code",
   "execution_count": null,
   "metadata": {},
   "outputs": [],
   "source": [
    "m.content\n"
   ]
  },
  {
   "cell_type": "code",
   "execution_count": null,
   "metadata": {},
   "outputs": [],
   "source": [
    "!pip install gradio"
   ]
  },
  {
   "cell_type": "code",
   "execution_count": null,
   "metadata": {},
   "outputs": [],
   "source": [
    "import gradio as gr"
   ]
  },
  {
   "cell_type": "code",
   "execution_count": null,
   "metadata": {},
   "outputs": [],
   "source": [
    "def buscar_libro(texto):\n",
    "    messages = [HumanMessage(content=texto)]\n",
    "    messages = react_graph.invoke({\"messages\": messages})\n",
    "    return messages['messages'][-1].content\n",
    "\n",
    "\n",
    "with gr.Blocks() as demo:\n",
    "    gr.Markdown('## Buscador de Libros Editorial UPTC 📚 🔎')\n",
    "    \n",
    "    with gr.Row():\n",
    "        # Caja de texto y botón en la misma fila\n",
    "        texto_busqueda = gr.Textbox(\n",
    "            placeholder='Ingresa palabras clave para buscar...',\n",
    "            label='Búsqueda',\n",
    "            scale=4  # La caja de texto ocupará más espacio\n",
    "        )\n",
    "        boton_buscar = gr.Button(\"🔍 Buscar\", scale=1)  \n",
    "    \n",
    "    # Área de resultados\n",
    "    resultados = gr.Markdown(\n",
    "        label=\"Resultados\"\n",
    "    )\n",
    "    \n",
    "    # Conectar el botón con la función de búsqueda\n",
    "    boton_buscar.click(\n",
    "        fn=buscar_libro,\n",
    "        inputs=texto_busqueda,\n",
    "        outputs=resultados\n",
    "    )\n",
    "\n",
    "# Lanzar la interfaz\n",
    "demo.launch() \n"
   ]
  },
  {
   "cell_type": "code",
   "execution_count": null,
   "metadata": {},
   "outputs": [],
   "source": []
  }
 ],
 "metadata": {
  "kernelspec": {
   "display_name": "langchain",
   "language": "python",
   "name": "python3"
  },
  "language_info": {
   "codemirror_mode": {
    "name": "ipython",
    "version": 3
   },
   "file_extension": ".py",
   "mimetype": "text/x-python",
   "name": "python",
   "nbconvert_exporter": "python",
   "pygments_lexer": "ipython3",
   "version": "3.11.11"
  }
 },
 "nbformat": 4,
 "nbformat_minor": 2
}
